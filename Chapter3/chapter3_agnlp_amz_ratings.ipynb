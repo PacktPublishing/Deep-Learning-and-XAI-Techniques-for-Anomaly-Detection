{
 "cells": [
  {
   "cell_type": "markdown",
   "id": "4b58bf39-cf06-429c-acb7-67e355560dd4",
   "metadata": {},
   "source": [
    "# Chapter 3 - AutoGluon Text Classification\n",
    "\n",
    "[AutoGluon](https://auto.gluon.ai/stable/index.html) an open source AutoML library by [Amazon](https://www.amazon.science/amazons-autogluon-helps-developers-get-up-and-running-with-state-of-the-art-deep-learning-models-with-just-a-few-lines-of-code) that automates deep learning applications for image, text, or tabular datasets. This sample notebook presents a multiclass text classification example using AutoGluon Text Predictor. \n",
    "\n",
    "For reference, this notebook is tested with TensorFlow version 2.7.1 and Python 3.8.2 using Amazon SageMaker Studio ml.m5.8x.large general-purpose instance with 32 vCPU and 128GiB. [Link](https://aws.amazon.com/sagemaker/pricing) for instance pricing reference. Alternatively, you can try this on your preferred IDE."
   ]
  },
  {
   "cell_type": "markdown",
   "id": "9c9be40c-559f-4588-9c40-d928afbe9105",
   "metadata": {},
   "source": [
    "## Install and Load the Libraries"
   ]
  },
  {
   "cell_type": "code",
   "execution_count": 2,
   "id": "b8861374-1664-403b-baac-1821b1f54249",
   "metadata": {
    "tags": []
   },
   "outputs": [
    {
     "name": "stdout",
     "output_type": "stream",
     "text": [
      "Requirement already satisfied: autogluon in /usr/local/lib/python3.8/site-packages (0.6.0)\n",
      "Requirement already satisfied: imblearn in /usr/local/lib/python3.8/site-packages (0.0)\n",
      "Requirement already satisfied: mxnet in /usr/local/lib/python3.8/site-packages (1.9.1)\n",
      "Requirement already satisfied: tensorflow==2.7.1 in /usr/local/lib/python3.8/site-packages (2.7.1)\n",
      "Requirement already satisfied: keras-preprocessing>=1.1.1 in /usr/local/lib/python3.8/site-packages (from tensorflow==2.7.1) (1.1.2)\n",
      "Requirement already satisfied: protobuf>=3.9.2 in /usr/local/lib/python3.8/site-packages (from tensorflow==2.7.1) (3.19.1)\n",
      "Requirement already satisfied: six>=1.12.0 in /usr/local/lib/python3.8/site-packages (from tensorflow==2.7.1) (1.16.0)\n",
      "Requirement already satisfied: numpy>=1.14.5 in /usr/local/lib/python3.8/site-packages (from tensorflow==2.7.1) (1.22.4)\n",
      "Requirement already satisfied: tensorflow-io-gcs-filesystem>=0.21.0 in /usr/local/lib/python3.8/site-packages (from tensorflow==2.7.1) (0.21.0)\n",
      "Requirement already satisfied: tensorboard~=2.6 in /usr/local/lib/python3.8/site-packages (from tensorflow==2.7.1) (2.11.0)\n",
      "Requirement already satisfied: wrapt>=1.11.0 in /usr/local/lib/python3.8/site-packages (from tensorflow==2.7.1) (1.12.1)\n",
      "Requirement already satisfied: wheel<1.0,>=0.32.0 in /usr/local/lib/python3.8/site-packages (from tensorflow==2.7.1) (0.37.0)\n",
      "Requirement already satisfied: opt-einsum>=2.3.2 in /usr/local/lib/python3.8/site-packages (from tensorflow==2.7.1) (3.3.0)\n",
      "Requirement already satisfied: libclang>=9.0.1 in /usr/local/lib/python3.8/site-packages (from tensorflow==2.7.1) (14.0.6)\n",
      "Requirement already satisfied: h5py>=2.9.0 in /usr/local/lib/python3.8/site-packages (from tensorflow==2.7.1) (3.1.0)\n",
      "Requirement already satisfied: typing-extensions>=3.6.6 in /usr/local/lib/python3.8/site-packages (from tensorflow==2.7.1) (4.4.0)\n",
      "Requirement already satisfied: gast<0.5.0,>=0.2.1 in /usr/local/lib/python3.8/site-packages (from tensorflow==2.7.1) (0.4.0)\n",
      "Requirement already satisfied: astunparse>=1.6.0 in /usr/local/lib/python3.8/site-packages (from tensorflow==2.7.1) (1.6.3)\n",
      "Requirement already satisfied: tensorflow-estimator<2.8,~=2.7.0rc0 in /usr/local/lib/python3.8/site-packages (from tensorflow==2.7.1) (2.7.0)\n",
      "Requirement already satisfied: flatbuffers<3.0,>=1.12 in /usr/local/lib/python3.8/site-packages (from tensorflow==2.7.1) (1.12)\n",
      "Requirement already satisfied: google-pasta>=0.1.1 in /usr/local/lib/python3.8/site-packages (from tensorflow==2.7.1) (0.2.0)\n",
      "Requirement already satisfied: absl-py>=0.4.0 in /usr/local/lib/python3.8/site-packages (from tensorflow==2.7.1) (0.10.0)\n",
      "Requirement already satisfied: grpcio<2.0,>=1.24.3 in /usr/local/lib/python3.8/site-packages (from tensorflow==2.7.1) (1.42.0)\n",
      "Requirement already satisfied: termcolor>=1.1.0 in /usr/local/lib/python3.8/site-packages (from tensorflow==2.7.1) (1.1.0)\n",
      "Requirement already satisfied: keras<2.8,>=2.7.0rc0 in /usr/local/lib/python3.8/site-packages (from tensorflow==2.7.1) (2.7.0)\n",
      "Requirement already satisfied: autogluon.tabular[all]==0.6.0 in /usr/local/lib/python3.8/site-packages (from autogluon) (0.6.0)\n",
      "Requirement already satisfied: autogluon.text==0.6.0 in /usr/local/lib/python3.8/site-packages (from autogluon) (0.6.0)\n",
      "Requirement already satisfied: autogluon.features==0.6.0 in /usr/local/lib/python3.8/site-packages (from autogluon) (0.6.0)\n",
      "Requirement already satisfied: autogluon.vision==0.6.0 in /usr/local/lib/python3.8/site-packages (from autogluon) (0.6.0)\n",
      "Requirement already satisfied: autogluon.core[all]==0.6.0 in /usr/local/lib/python3.8/site-packages (from autogluon) (0.6.0)\n",
      "Requirement already satisfied: autogluon.timeseries[all]==0.6.0 in /usr/local/lib/python3.8/site-packages (from autogluon) (0.6.0)\n",
      "Requirement already satisfied: autogluon.multimodal==0.6.0 in /usr/local/lib/python3.8/site-packages (from autogluon) (0.6.0)\n",
      "Requirement already satisfied: tqdm>=4.38.0 in /usr/local/lib/python3.8/site-packages (from autogluon.core[all]==0.6.0->autogluon) (4.62.3)\n",
      "Requirement already satisfied: pandas!=1.4.0,<1.6,>=1.2.5 in /usr/local/lib/python3.8/site-packages (from autogluon.core[all]==0.6.0->autogluon) (1.2.5)\n",
      "Requirement already satisfied: requests in /usr/local/lib/python3.8/site-packages (from autogluon.core[all]==0.6.0->autogluon) (2.24.0)\n",
      "Requirement already satisfied: dask<=2021.11.2,>=2021.09.1 in /usr/local/lib/python3.8/site-packages (from autogluon.core[all]==0.6.0->autogluon) (2021.11.2)\n",
      "Requirement already satisfied: distributed<=2021.11.2,>=2021.09.1 in /usr/local/lib/python3.8/site-packages (from autogluon.core[all]==0.6.0->autogluon) (2021.11.2)\n",
      "Requirement already satisfied: matplotlib in /usr/local/lib/python3.8/site-packages (from autogluon.core[all]==0.6.0->autogluon) (3.5.0)\n",
      "Requirement already satisfied: scikit-learn<1.2,>=1.0.0 in /usr/local/lib/python3.8/site-packages (from autogluon.core[all]==0.6.0->autogluon) (1.1.3)\n",
      "Requirement already satisfied: scipy<1.10.0,>=1.5.4 in /usr/local/lib/python3.8/site-packages (from autogluon.core[all]==0.6.0->autogluon) (1.7.0)\n",
      "Requirement already satisfied: autogluon.common==0.6.0 in /usr/local/lib/python3.8/site-packages (from autogluon.core[all]==0.6.0->autogluon) (0.6.0)\n",
      "Requirement already satisfied: boto3 in /usr/local/lib/python3.8/site-packages (from autogluon.core[all]==0.6.0->autogluon) (1.20.22)\n",
      "Requirement already satisfied: hyperopt<0.2.8,>=0.2.7 in /usr/local/lib/python3.8/site-packages (from autogluon.core[all]==0.6.0->autogluon) (0.2.7)\n",
      "Requirement already satisfied: ray[tune]<2.1,>=2.0 in /usr/local/lib/python3.8/site-packages (from autogluon.core[all]==0.6.0->autogluon) (2.0.1)\n",
      "Requirement already satisfied: psutil<6,>=5.7.3 in /usr/local/lib/python3.8/site-packages (from autogluon.features==0.6.0->autogluon) (5.8.0)\n",
      "Requirement already satisfied: pytorch-lightning<1.8.0,>=1.7.4 in /usr/local/lib/python3.8/site-packages (from autogluon.multimodal==0.6.0->autogluon) (1.7.7)\n",
      "Requirement already satisfied: smart-open<5.3.0,>=5.2.1 in /usr/local/lib/python3.8/site-packages (from autogluon.multimodal==0.6.0->autogluon) (5.2.1)\n",
      "Requirement already satisfied: text-unidecode<=1.3 in /usr/local/lib/python3.8/site-packages (from autogluon.multimodal==0.6.0->autogluon) (1.3)\n",
      "Requirement already satisfied: fairscale<=0.4.6,>=0.4.5 in /usr/local/lib/python3.8/site-packages (from autogluon.multimodal==0.6.0->autogluon) (0.4.6)\n",
      "Requirement already satisfied: nltk<4.0.0,>=3.4.5 in /usr/local/lib/python3.8/site-packages (from autogluon.multimodal==0.6.0->autogluon) (3.7)\n",
      "Requirement already satisfied: defusedxml<=0.7.1,>=0.7.1 in /usr/local/lib/python3.8/site-packages (from autogluon.multimodal==0.6.0->autogluon) (0.7.1)\n",
      "Requirement already satisfied: jsonschema<=4.8.0 in /usr/local/lib/python3.8/site-packages (from autogluon.multimodal==0.6.0->autogluon) (4.2.1)\n",
      "Requirement already satisfied: Pillow<9.1.0,>=9.0.1 in /usr/local/lib/python3.8/site-packages (from autogluon.multimodal==0.6.0->autogluon) (9.0.1)\n",
      "Requirement already satisfied: torchvision<0.14.0 in /usr/local/lib/python3.8/site-packages (from autogluon.multimodal==0.6.0->autogluon) (0.13.1)\n",
      "Requirement already satisfied: albumentations<=1.2.0,>=1.1.0 in /usr/local/lib/python3.8/site-packages (from autogluon.multimodal==0.6.0->autogluon) (1.1.0)\n",
      "Requirement already satisfied: torchtext<0.14.0 in /usr/local/lib/python3.8/site-packages (from autogluon.multimodal==0.6.0->autogluon) (0.13.1)\n",
      "Requirement already satisfied: torchmetrics<0.9.0,>=0.8.0 in /usr/local/lib/python3.8/site-packages (from autogluon.multimodal==0.6.0->autogluon) (0.8.2)\n",
      "Requirement already satisfied: pycocotools<2.0.7,>=2.0.5 in /usr/local/lib/python3.8/site-packages (from autogluon.multimodal==0.6.0->autogluon) (2.0.6)\n",
      "Requirement already satisfied: sentencepiece<0.2.0,>=0.1.95 in /usr/local/lib/python3.8/site-packages (from autogluon.multimodal==0.6.0->autogluon) (0.1.97)\n",
      "Requirement already satisfied: timm<0.7.0 in /usr/local/lib/python3.8/site-packages (from autogluon.multimodal==0.6.0->autogluon) (0.6.12)\n",
      "Requirement already satisfied: omegaconf<2.2.0,>=2.1.1 in /usr/local/lib/python3.8/site-packages (from autogluon.multimodal==0.6.0->autogluon) (2.1.2)\n",
      "Requirement already satisfied: nlpaug<=1.1.10,>=1.1.10 in /usr/local/lib/python3.8/site-packages (from autogluon.multimodal==0.6.0->autogluon) (1.1.10)\n",
      "Requirement already satisfied: accelerate<0.14,>=0.9 in /usr/local/lib/python3.8/site-packages (from autogluon.multimodal==0.6.0->autogluon) (0.13.2)\n",
      "Requirement already satisfied: nptyping<1.5.0,>=1.4.4 in /usr/local/lib/python3.8/site-packages (from autogluon.multimodal==0.6.0->autogluon) (1.4.4)\n",
      "Requirement already satisfied: pytorch-metric-learning<1.4.0,>=1.3.0 in /usr/local/lib/python3.8/site-packages (from autogluon.multimodal==0.6.0->autogluon) (1.3.2)\n",
      "Requirement already satisfied: openmim<=0.2.1,>0.1.5 in /usr/local/lib/python3.8/site-packages (from autogluon.multimodal==0.6.0->autogluon) (0.2.1)\n",
      "Requirement already satisfied: seqeval<=1.2.2 in /usr/local/lib/python3.8/site-packages (from autogluon.multimodal==0.6.0->autogluon) (1.2.2)\n",
      "Requirement already satisfied: evaluate<=0.2.2 in /usr/local/lib/python3.8/site-packages (from autogluon.multimodal==0.6.0->autogluon) (0.2.2)\n",
      "Requirement already satisfied: transformers<4.24.0,>=4.23.0 in /usr/local/lib/python3.8/site-packages (from autogluon.multimodal==0.6.0->autogluon) (4.23.1)\n",
      "Requirement already satisfied: torch<1.13,>=1.9 in /usr/local/lib/python3.8/site-packages (from autogluon.multimodal==0.6.0->autogluon) (1.12.1)\n",
      "Requirement already satisfied: scikit-image<0.20.0,>=0.19.1 in /usr/local/lib/python3.8/site-packages (from autogluon.multimodal==0.6.0->autogluon) (0.19.3)\n",
      "Requirement already satisfied: networkx<3.0,>=2.3 in /usr/local/lib/python3.8/site-packages (from autogluon.tabular[all]==0.6.0->autogluon) (2.8.8)\n",
      "Requirement already satisfied: fastai<2.8,>=2.3.1 in /usr/local/lib/python3.8/site-packages (from autogluon.tabular[all]==0.6.0->autogluon) (2.7.10)\n",
      "Requirement already satisfied: catboost<1.2,>=1.0 in /usr/local/lib/python3.8/site-packages (from autogluon.tabular[all]==0.6.0->autogluon) (1.1.1)\n",
      "Requirement already satisfied: lightgbm<3.4,>=3.3 in /usr/local/lib/python3.8/site-packages (from autogluon.tabular[all]==0.6.0->autogluon) (3.3.3)\n",
      "Requirement already satisfied: xgboost<1.8,>=1.6 in /usr/local/lib/python3.8/site-packages (from autogluon.tabular[all]==0.6.0->autogluon) (1.7.2)\n",
      "Requirement already satisfied: statsmodels~=0.13.0 in /usr/local/lib/python3.8/site-packages (from autogluon.timeseries[all]==0.6.0->autogluon) (0.13.5)\n",
      "Requirement already satisfied: gluonts~=0.11.0 in /usr/local/lib/python3.8/site-packages (from autogluon.timeseries[all]==0.6.0->autogluon) (0.11.4)\n",
      "Requirement already satisfied: joblib~=1.1 in /usr/local/lib/python3.8/site-packages (from autogluon.timeseries[all]==0.6.0->autogluon) (1.2.0)\n",
      "Requirement already satisfied: sktime<0.14,>=0.13.1 in /usr/local/lib/python3.8/site-packages (from autogluon.timeseries[all]==0.6.0->autogluon) (0.13.4)\n",
      "Requirement already satisfied: pmdarima~=1.8.2 in /usr/local/lib/python3.8/site-packages (from autogluon.timeseries[all]==0.6.0->autogluon) (1.8.5)\n",
      "Requirement already satisfied: tbats~=1.1 in /usr/local/lib/python3.8/site-packages (from autogluon.timeseries[all]==0.6.0->autogluon) (1.1.2)\n",
      "Requirement already satisfied: gluoncv<0.10.6,>=0.10.5 in /usr/local/lib/python3.8/site-packages (from autogluon.vision==0.6.0->autogluon) (0.10.5.post0)\n",
      "Requirement already satisfied: setuptools in /usr/local/lib/python3.8/site-packages (from autogluon.common==0.6.0->autogluon.core[all]==0.6.0->autogluon) (59.5.0)\n",
      "Requirement already satisfied: imbalanced-learn in /usr/local/lib/python3.8/site-packages (from imblearn) (0.10.0)\n",
      "Requirement already satisfied: graphviz<0.9.0,>=0.8.1 in /usr/local/lib/python3.8/site-packages (from mxnet) (0.8.4)\n",
      "Requirement already satisfied: urllib3!=1.25.0,!=1.25.1,<1.26,>=1.21.1 in /usr/local/lib/python3.8/site-packages (from requests->autogluon.core[all]==0.6.0->autogluon) (1.25.11)\n",
      "Requirement already satisfied: certifi>=2017.4.17 in /usr/local/lib/python3.8/site-packages (from requests->autogluon.core[all]==0.6.0->autogluon) (2021.10.8)\n",
      "Requirement already satisfied: idna<3,>=2.5 in /usr/local/lib/python3.8/site-packages (from requests->autogluon.core[all]==0.6.0->autogluon) (2.10)\n",
      "Requirement already satisfied: chardet<4,>=3.0.2 in /usr/local/lib/python3.8/site-packages (from requests->autogluon.core[all]==0.6.0->autogluon) (3.0.4)\n",
      "Requirement already satisfied: tensorboard-data-server<0.7.0,>=0.6.0 in /usr/local/lib/python3.8/site-packages (from tensorboard~=2.6->tensorflow==2.7.1) (0.6.1)\n",
      "Requirement already satisfied: google-auth-oauthlib<0.5,>=0.4.1 in /usr/local/lib/python3.8/site-packages (from tensorboard~=2.6->tensorflow==2.7.1) (0.4.6)\n",
      "Requirement already satisfied: tensorboard-plugin-wit>=1.6.0 in /usr/local/lib/python3.8/site-packages (from tensorboard~=2.6->tensorflow==2.7.1) (1.8.0)\n",
      "Requirement already satisfied: google-auth<3,>=1.6.3 in /usr/local/lib/python3.8/site-packages (from tensorboard~=2.6->tensorflow==2.7.1) (1.35.0)\n",
      "Requirement already satisfied: markdown>=2.6.8 in /usr/local/lib/python3.8/site-packages (from tensorboard~=2.6->tensorflow==2.7.1) (3.3.6)\n",
      "Requirement already satisfied: werkzeug>=1.0.1 in /usr/local/lib/python3.8/site-packages (from tensorboard~=2.6->tensorflow==2.7.1) (2.0.2)\n",
      "Requirement already satisfied: threadpoolctl>=2.0.0 in /usr/local/lib/python3.8/site-packages (from imbalanced-learn->imblearn) (3.0.0)\n",
      "Requirement already satisfied: packaging>=20.0 in /usr/local/lib/python3.8/site-packages (from accelerate<0.14,>=0.9->autogluon.multimodal==0.6.0->autogluon) (21.3)\n",
      "Requirement already satisfied: pyyaml in /usr/local/lib/python3.8/site-packages (from accelerate<0.14,>=0.9->autogluon.multimodal==0.6.0->autogluon) (5.4.1)\n",
      "Requirement already satisfied: opencv-python-headless>=4.1.1 in /usr/local/lib/python3.8/site-packages (from albumentations<=1.2.0,>=1.1.0->autogluon.multimodal==0.6.0->autogluon) (4.6.0.66)\n",
      "Requirement already satisfied: qudida>=0.0.4 in /usr/local/lib/python3.8/site-packages (from albumentations<=1.2.0,>=1.1.0->autogluon.multimodal==0.6.0->autogluon) (0.0.4)\n",
      "Requirement already satisfied: plotly in /usr/local/lib/python3.8/site-packages (from catboost<1.2,>=1.0->autogluon.tabular[all]==0.6.0->autogluon) (5.4.0)\n",
      "Requirement already satisfied: toolz>=0.8.2 in /usr/local/lib/python3.8/site-packages (from dask<=2021.11.2,>=2021.09.1->autogluon.core[all]==0.6.0->autogluon) (0.12.0)\n",
      "Requirement already satisfied: cloudpickle>=1.1.1 in /usr/local/lib/python3.8/site-packages (from dask<=2021.11.2,>=2021.09.1->autogluon.core[all]==0.6.0->autogluon) (2.0.0)\n",
      "Requirement already satisfied: partd>=0.3.10 in /usr/local/lib/python3.8/site-packages (from dask<=2021.11.2,>=2021.09.1->autogluon.core[all]==0.6.0->autogluon) (1.3.0)\n",
      "Requirement already satisfied: fsspec>=0.6.0 in /usr/local/lib/python3.8/site-packages (from dask<=2021.11.2,>=2021.09.1->autogluon.core[all]==0.6.0->autogluon) (2021.11.1)\n",
      "Requirement already satisfied: tornado>=6.0.3 in /usr/local/lib/python3.8/site-packages (from distributed<=2021.11.2,>=2021.09.1->autogluon.core[all]==0.6.0->autogluon) (6.1)\n",
      "Requirement already satisfied: zict>=0.1.3 in /usr/local/lib/python3.8/site-packages (from distributed<=2021.11.2,>=2021.09.1->autogluon.core[all]==0.6.0->autogluon) (2.2.0)\n",
      "Requirement already satisfied: jinja2 in /usr/local/lib/python3.8/site-packages (from distributed<=2021.11.2,>=2021.09.1->autogluon.core[all]==0.6.0->autogluon) (3.0.3)\n",
      "Requirement already satisfied: msgpack>=0.6.0 in /usr/local/lib/python3.8/site-packages (from distributed<=2021.11.2,>=2021.09.1->autogluon.core[all]==0.6.0->autogluon) (1.0.4)\n",
      "Requirement already satisfied: tblib>=1.6.0 in /usr/local/lib/python3.8/site-packages (from distributed<=2021.11.2,>=2021.09.1->autogluon.core[all]==0.6.0->autogluon) (1.7.0)\n",
      "Requirement already satisfied: click>=6.6 in /usr/local/lib/python3.8/site-packages (from distributed<=2021.11.2,>=2021.09.1->autogluon.core[all]==0.6.0->autogluon) (8.0.4)\n",
      "Requirement already satisfied: sortedcontainers!=2.0.0,!=2.0.1 in /usr/local/lib/python3.8/site-packages (from distributed<=2021.11.2,>=2021.09.1->autogluon.core[all]==0.6.0->autogluon) (2.4.0)\n",
      "Requirement already satisfied: responses<0.19 in /usr/local/lib/python3.8/site-packages (from evaluate<=0.2.2->autogluon.multimodal==0.6.0->autogluon) (0.18.0)\n",
      "Requirement already satisfied: datasets>=2.0.0 in /usr/local/lib/python3.8/site-packages (from evaluate<=0.2.2->autogluon.multimodal==0.6.0->autogluon) (2.7.1)\n",
      "Requirement already satisfied: xxhash in /usr/local/lib/python3.8/site-packages (from evaluate<=0.2.2->autogluon.multimodal==0.6.0->autogluon) (3.1.0)\n",
      "Requirement already satisfied: dill in /usr/local/lib/python3.8/site-packages (from evaluate<=0.2.2->autogluon.multimodal==0.6.0->autogluon) (0.3.4)\n",
      "Requirement already satisfied: multiprocess in /usr/local/lib/python3.8/site-packages (from evaluate<=0.2.2->autogluon.multimodal==0.6.0->autogluon) (0.70.12.2)\n",
      "Requirement already satisfied: huggingface-hub>=0.7.0 in /usr/local/lib/python3.8/site-packages (from evaluate<=0.2.2->autogluon.multimodal==0.6.0->autogluon) (0.11.1)\n",
      "Requirement already satisfied: fastcore<1.6,>=1.4.5 in /usr/local/lib/python3.8/site-packages (from fastai<2.8,>=2.3.1->autogluon.tabular[all]==0.6.0->autogluon) (1.5.27)\n",
      "Requirement already satisfied: spacy<4 in /usr/local/lib/python3.8/site-packages (from fastai<2.8,>=2.3.1->autogluon.tabular[all]==0.6.0->autogluon) (3.4.3)\n",
      "Requirement already satisfied: fastdownload<2,>=0.0.5 in /usr/local/lib/python3.8/site-packages (from fastai<2.8,>=2.3.1->autogluon.tabular[all]==0.6.0->autogluon) (0.0.7)\n",
      "Requirement already satisfied: pip in /usr/local/lib/python3.8/site-packages (from fastai<2.8,>=2.3.1->autogluon.tabular[all]==0.6.0->autogluon) (21.3.1)\n",
      "Requirement already satisfied: fastprogress>=0.2.4 in /usr/local/lib/python3.8/site-packages (from fastai<2.8,>=2.3.1->autogluon.tabular[all]==0.6.0->autogluon) (1.0.3)\n",
      "Requirement already satisfied: portalocker in /usr/local/lib/python3.8/site-packages (from gluoncv<0.10.6,>=0.10.5->autogluon.vision==0.6.0->autogluon) (2.6.0)\n",
      "Requirement already satisfied: yacs in /usr/local/lib/python3.8/site-packages (from gluoncv<0.10.6,>=0.10.5->autogluon.vision==0.6.0->autogluon) (0.1.8)\n",
      "Requirement already satisfied: opencv-python in /usr/local/lib/python3.8/site-packages (from gluoncv<0.10.6,>=0.10.5->autogluon.vision==0.6.0->autogluon) (4.5.4.60)\n",
      "Requirement already satisfied: autocfg in /usr/local/lib/python3.8/site-packages (from gluoncv<0.10.6,>=0.10.5->autogluon.vision==0.6.0->autogluon) (0.0.8)\n",
      "Requirement already satisfied: pydantic~=1.7 in /usr/local/lib/python3.8/site-packages (from gluonts~=0.11.0->autogluon.timeseries[all]==0.6.0->autogluon) (1.10.2)\n",
      "Requirement already satisfied: pyasn1-modules>=0.2.1 in /usr/local/lib/python3.8/site-packages (from google-auth<3,>=1.6.3->tensorboard~=2.6->tensorflow==2.7.1) (0.2.8)\n",
      "Requirement already satisfied: cachetools<5.0,>=2.0.0 in /usr/local/lib/python3.8/site-packages (from google-auth<3,>=1.6.3->tensorboard~=2.6->tensorflow==2.7.1) (4.2.4)\n",
      "Requirement already satisfied: rsa<5,>=3.1.4 in /usr/local/lib/python3.8/site-packages (from google-auth<3,>=1.6.3->tensorboard~=2.6->tensorflow==2.7.1) (4.7.2)\n",
      "Requirement already satisfied: requests-oauthlib>=0.7.0 in /usr/local/lib/python3.8/site-packages (from google-auth-oauthlib<0.5,>=0.4.1->tensorboard~=2.6->tensorflow==2.7.1) (1.3.0)\n",
      "Requirement already satisfied: future in /usr/local/lib/python3.8/site-packages (from hyperopt<0.2.8,>=0.2.7->autogluon.core[all]==0.6.0->autogluon) (0.18.2)\n",
      "Requirement already satisfied: py4j in /usr/local/lib/python3.8/site-packages (from hyperopt<0.2.8,>=0.2.7->autogluon.core[all]==0.6.0->autogluon) (0.10.9.7)\n",
      "Requirement already satisfied: pyrsistent!=0.17.0,!=0.17.1,!=0.17.2,>=0.14.0 in /usr/local/lib/python3.8/site-packages (from jsonschema<=4.8.0->autogluon.multimodal==0.6.0->autogluon) (0.18.0)\n",
      "Requirement already satisfied: attrs>=17.4.0 in /usr/local/lib/python3.8/site-packages (from jsonschema<=4.8.0->autogluon.multimodal==0.6.0->autogluon) (21.2.0)\n",
      "Requirement already satisfied: importlib-resources>=1.4.0 in /usr/local/lib/python3.8/site-packages (from jsonschema<=4.8.0->autogluon.multimodal==0.6.0->autogluon) (5.4.0)\n",
      "Requirement already satisfied: importlib-metadata>=4.4 in /usr/local/lib/python3.8/site-packages (from markdown>=2.6.8->tensorboard~=2.6->tensorflow==2.7.1) (4.8.2)\n",
      "Requirement already satisfied: regex>=2021.8.3 in /usr/local/lib/python3.8/site-packages (from nltk<4.0.0,>=3.4.5->autogluon.multimodal==0.6.0->autogluon) (2022.10.31)\n",
      "Requirement already satisfied: typish>=1.7.0 in /usr/local/lib/python3.8/site-packages (from nptyping<1.5.0,>=1.4.4->autogluon.multimodal==0.6.0->autogluon) (1.9.3)\n",
      "Requirement already satisfied: antlr4-python3-runtime==4.8 in /usr/local/lib/python3.8/site-packages (from omegaconf<2.2.0,>=2.1.1->autogluon.multimodal==0.6.0->autogluon) (4.8)\n",
      "Requirement already satisfied: rich in /usr/local/lib/python3.8/site-packages (from openmim<=0.2.1,>0.1.5->autogluon.multimodal==0.6.0->autogluon) (12.6.0)\n",
      "Requirement already satisfied: model-index in /usr/local/lib/python3.8/site-packages (from openmim<=0.2.1,>0.1.5->autogluon.multimodal==0.6.0->autogluon) (0.1.11)\n",
      "Requirement already satisfied: colorama in /usr/local/lib/python3.8/site-packages (from openmim<=0.2.1,>0.1.5->autogluon.multimodal==0.6.0->autogluon) (0.4.3)\n",
      "Requirement already satisfied: tabulate in /usr/local/lib/python3.8/site-packages (from openmim<=0.2.1,>0.1.5->autogluon.multimodal==0.6.0->autogluon) (0.8.9)\n",
      "Requirement already satisfied: python-dateutil>=2.7.3 in /usr/local/lib/python3.8/site-packages (from pandas!=1.4.0,<1.6,>=1.2.5->autogluon.core[all]==0.6.0->autogluon) (2.8.2)\n",
      "Requirement already satisfied: pytz>=2017.3 in /usr/local/lib/python3.8/site-packages (from pandas!=1.4.0,<1.6,>=1.2.5->autogluon.core[all]==0.6.0->autogluon) (2021.3)\n",
      "Requirement already satisfied: Cython!=0.29.18,>=0.29 in /usr/local/lib/python3.8/site-packages (from pmdarima~=1.8.2->autogluon.timeseries[all]==0.6.0->autogluon) (0.29.32)\n",
      "Requirement already satisfied: kiwisolver>=1.0.1 in /usr/local/lib/python3.8/site-packages (from matplotlib->autogluon.core[all]==0.6.0->autogluon) (1.3.2)\n",
      "Requirement already satisfied: setuptools-scm>=4 in /usr/local/lib/python3.8/site-packages (from matplotlib->autogluon.core[all]==0.6.0->autogluon) (6.3.2)\n",
      "Requirement already satisfied: fonttools>=4.22.0 in /usr/local/lib/python3.8/site-packages (from matplotlib->autogluon.core[all]==0.6.0->autogluon) (4.28.3)\n",
      "Requirement already satisfied: cycler>=0.10 in /usr/local/lib/python3.8/site-packages (from matplotlib->autogluon.core[all]==0.6.0->autogluon) (0.11.0)\n",
      "Requirement already satisfied: pyparsing>=2.2.1 in /usr/local/lib/python3.8/site-packages (from matplotlib->autogluon.core[all]==0.6.0->autogluon) (3.0.6)\n",
      "Requirement already satisfied: pyDeprecate>=0.3.1 in /usr/local/lib/python3.8/site-packages (from pytorch-lightning<1.8.0,>=1.7.4->autogluon.multimodal==0.6.0->autogluon) (0.3.2)\n",
      "Requirement already satisfied: filelock in /usr/local/lib/python3.8/site-packages (from ray[tune]<2.1,>=2.0->autogluon.core[all]==0.6.0->autogluon) (3.8.2)\n",
      "Requirement already satisfied: aiosignal in /usr/local/lib/python3.8/site-packages (from ray[tune]<2.1,>=2.0->autogluon.core[all]==0.6.0->autogluon) (1.3.1)\n",
      "Requirement already satisfied: frozenlist in /usr/local/lib/python3.8/site-packages (from ray[tune]<2.1,>=2.0->autogluon.core[all]==0.6.0->autogluon) (1.3.3)\n",
      "Requirement already satisfied: virtualenv in /usr/local/lib/python3.8/site-packages (from ray[tune]<2.1,>=2.0->autogluon.core[all]==0.6.0->autogluon) (20.17.1)\n",
      "Requirement already satisfied: tensorboardX>=1.9 in /usr/local/lib/python3.8/site-packages (from ray[tune]<2.1,>=2.0->autogluon.core[all]==0.6.0->autogluon) (2.5.1)\n",
      "Requirement already satisfied: tifffile>=2019.7.26 in /usr/local/lib/python3.8/site-packages (from scikit-image<0.20.0,>=0.19.1->autogluon.multimodal==0.6.0->autogluon) (2022.10.10)\n",
      "Requirement already satisfied: PyWavelets>=1.1.1 in /usr/local/lib/python3.8/site-packages (from scikit-image<0.20.0,>=0.19.1->autogluon.multimodal==0.6.0->autogluon) (1.4.1)\n",
      "Requirement already satisfied: imageio>=2.4.1 in /usr/local/lib/python3.8/site-packages (from scikit-image<0.20.0,>=0.19.1->autogluon.multimodal==0.6.0->autogluon) (2.13.3)\n",
      "Requirement already satisfied: deprecated>=1.2.13 in /usr/local/lib/python3.8/site-packages (from sktime<0.14,>=0.13.1->autogluon.timeseries[all]==0.6.0->autogluon) (1.2.13)\n",
      "Requirement already satisfied: numba>=0.53 in /usr/local/lib/python3.8/site-packages (from sktime<0.14,>=0.13.1->autogluon.timeseries[all]==0.6.0->autogluon) (0.56.4)\n",
      "Requirement already satisfied: patsy>=0.5.2 in /usr/local/lib/python3.8/site-packages (from statsmodels~=0.13.0->autogluon.timeseries[all]==0.6.0->autogluon) (0.5.3)\n",
      "Requirement already satisfied: tokenizers!=0.11.3,<0.14,>=0.11.1 in /usr/local/lib/python3.8/site-packages (from transformers<4.24.0,>=4.23.0->autogluon.multimodal==0.6.0->autogluon) (0.13.2)\n",
      "Requirement already satisfied: jmespath<1.0.0,>=0.7.1 in /usr/local/lib/python3.8/site-packages (from boto3->autogluon.core[all]==0.6.0->autogluon) (0.10.0)\n",
      "Requirement already satisfied: s3transfer<0.6.0,>=0.5.0 in /usr/local/lib/python3.8/site-packages (from boto3->autogluon.core[all]==0.6.0->autogluon) (0.5.0)\n",
      "Requirement already satisfied: botocore<1.24.0,>=1.23.22 in /usr/local/lib/python3.8/site-packages (from boto3->autogluon.core[all]==0.6.0->autogluon) (1.23.22)\n",
      "Requirement already satisfied: pyarrow>=6.0.0 in /usr/local/lib/python3.8/site-packages (from datasets>=2.0.0->evaluate<=0.2.2->autogluon.multimodal==0.6.0->autogluon) (6.0.1)\n",
      "Requirement already satisfied: aiohttp in /usr/local/lib/python3.8/site-packages (from datasets>=2.0.0->evaluate<=0.2.2->autogluon.multimodal==0.6.0->autogluon) (3.8.3)\n",
      "Requirement already satisfied: zipp>=0.5 in /usr/local/lib/python3.8/site-packages (from importlib-metadata>=4.4->markdown>=2.6.8->tensorboard~=2.6->tensorflow==2.7.1) (3.6.0)\n",
      "Requirement already satisfied: llvmlite<0.40,>=0.39.0dev0 in /usr/local/lib/python3.8/site-packages (from numba>=0.53->sktime<0.14,>=0.13.1->autogluon.timeseries[all]==0.6.0->autogluon) (0.39.1)\n",
      "Requirement already satisfied: locket in /usr/local/lib/python3.8/site-packages (from partd>=0.3.10->dask<=2021.11.2,>=2021.09.1->autogluon.core[all]==0.6.0->autogluon) (1.0.0)\n",
      "Requirement already satisfied: pyasn1<0.5.0,>=0.4.6 in /usr/local/lib/python3.8/site-packages (from pyasn1-modules>=0.2.1->google-auth<3,>=1.6.3->tensorboard~=2.6->tensorflow==2.7.1) (0.4.8)\n",
      "Requirement already satisfied: oauthlib>=3.0.0 in /usr/local/lib/python3.8/site-packages (from requests-oauthlib>=0.7.0->google-auth-oauthlib<0.5,>=0.4.1->tensorboard~=2.6->tensorflow==2.7.1) (3.1.1)\n",
      "Requirement already satisfied: tomli>=1.0.0 in /usr/local/lib/python3.8/site-packages (from setuptools-scm>=4->matplotlib->autogluon.core[all]==0.6.0->autogluon) (1.2.2)\n",
      "Requirement already satisfied: thinc<8.2.0,>=8.1.0 in /usr/local/lib/python3.8/site-packages (from spacy<4->fastai<2.8,>=2.3.1->autogluon.tabular[all]==0.6.0->autogluon) (8.1.5)\n",
      "Requirement already satisfied: srsly<3.0.0,>=2.4.3 in /usr/local/lib/python3.8/site-packages (from spacy<4->fastai<2.8,>=2.3.1->autogluon.tabular[all]==0.6.0->autogluon) (2.4.5)\n",
      "Requirement already satisfied: langcodes<4.0.0,>=3.2.0 in /usr/local/lib/python3.8/site-packages (from spacy<4->fastai<2.8,>=2.3.1->autogluon.tabular[all]==0.6.0->autogluon) (3.3.0)\n",
      "Requirement already satisfied: cymem<2.1.0,>=2.0.2 in /usr/local/lib/python3.8/site-packages (from spacy<4->fastai<2.8,>=2.3.1->autogluon.tabular[all]==0.6.0->autogluon) (2.0.7)\n",
      "Requirement already satisfied: typer<0.8.0,>=0.3.0 in /usr/local/lib/python3.8/site-packages (from spacy<4->fastai<2.8,>=2.3.1->autogluon.tabular[all]==0.6.0->autogluon) (0.7.0)\n",
      "Requirement already satisfied: pathy>=0.3.5 in /usr/local/lib/python3.8/site-packages (from spacy<4->fastai<2.8,>=2.3.1->autogluon.tabular[all]==0.6.0->autogluon) (0.10.1)\n",
      "Requirement already satisfied: spacy-legacy<3.1.0,>=3.0.10 in /usr/local/lib/python3.8/site-packages (from spacy<4->fastai<2.8,>=2.3.1->autogluon.tabular[all]==0.6.0->autogluon) (3.0.10)\n",
      "Requirement already satisfied: catalogue<2.1.0,>=2.0.6 in /usr/local/lib/python3.8/site-packages (from spacy<4->fastai<2.8,>=2.3.1->autogluon.tabular[all]==0.6.0->autogluon) (2.0.8)\n",
      "Requirement already satisfied: wasabi<1.1.0,>=0.9.1 in /usr/local/lib/python3.8/site-packages (from spacy<4->fastai<2.8,>=2.3.1->autogluon.tabular[all]==0.6.0->autogluon) (0.10.1)\n",
      "Requirement already satisfied: preshed<3.1.0,>=3.0.2 in /usr/local/lib/python3.8/site-packages (from spacy<4->fastai<2.8,>=2.3.1->autogluon.tabular[all]==0.6.0->autogluon) (3.0.8)\n",
      "Requirement already satisfied: spacy-loggers<2.0.0,>=1.0.0 in /usr/local/lib/python3.8/site-packages (from spacy<4->fastai<2.8,>=2.3.1->autogluon.tabular[all]==0.6.0->autogluon) (1.0.4)\n",
      "Requirement already satisfied: murmurhash<1.1.0,>=0.28.0 in /usr/local/lib/python3.8/site-packages (from spacy<4->fastai<2.8,>=2.3.1->autogluon.tabular[all]==0.6.0->autogluon) (1.0.9)\n",
      "Requirement already satisfied: heapdict in /usr/local/lib/python3.8/site-packages (from zict>=0.1.3->distributed<=2021.11.2,>=2021.09.1->autogluon.core[all]==0.6.0->autogluon) (1.0.1)\n",
      "Requirement already satisfied: MarkupSafe>=2.0 in /usr/local/lib/python3.8/site-packages (from jinja2->distributed<=2021.11.2,>=2021.09.1->autogluon.core[all]==0.6.0->autogluon) (2.0.1)\n",
      "Requirement already satisfied: ordered-set in /usr/local/lib/python3.8/site-packages (from model-index->openmim<=0.2.1,>0.1.5->autogluon.multimodal==0.6.0->autogluon) (4.1.0)\n",
      "Requirement already satisfied: tenacity>=6.2.0 in /usr/local/lib/python3.8/site-packages (from plotly->catboost<1.2,>=1.0->autogluon.tabular[all]==0.6.0->autogluon) (8.0.1)\n",
      "Requirement already satisfied: pygments<3.0.0,>=2.6.0 in /usr/local/lib/python3.8/site-packages (from rich->openmim<=0.2.1,>0.1.5->autogluon.multimodal==0.6.0->autogluon) (2.13.0)\n",
      "Requirement already satisfied: commonmark<0.10.0,>=0.9.0 in /usr/local/lib/python3.8/site-packages (from rich->openmim<=0.2.1,>0.1.5->autogluon.multimodal==0.6.0->autogluon) (0.9.1)\n",
      "Requirement already satisfied: distlib<1,>=0.3.6 in /usr/local/lib/python3.8/site-packages (from virtualenv->ray[tune]<2.1,>=2.0->autogluon.core[all]==0.6.0->autogluon) (0.3.6)\n",
      "Requirement already satisfied: platformdirs<3,>=2.4 in /usr/local/lib/python3.8/site-packages (from virtualenv->ray[tune]<2.1,>=2.0->autogluon.core[all]==0.6.0->autogluon) (2.6.0)\n",
      "Requirement already satisfied: confection<1.0.0,>=0.0.1 in /usr/local/lib/python3.8/site-packages (from thinc<8.2.0,>=8.1.0->spacy<4->fastai<2.8,>=2.3.1->autogluon.tabular[all]==0.6.0->autogluon) (0.0.3)\n",
      "Requirement already satisfied: blis<0.8.0,>=0.7.8 in /usr/local/lib/python3.8/site-packages (from thinc<8.2.0,>=8.1.0->spacy<4->fastai<2.8,>=2.3.1->autogluon.tabular[all]==0.6.0->autogluon) (0.7.9)\n",
      "Requirement already satisfied: async-timeout<5.0,>=4.0.0a3 in /usr/local/lib/python3.8/site-packages (from aiohttp->datasets>=2.0.0->evaluate<=0.2.2->autogluon.multimodal==0.6.0->autogluon) (4.0.2)\n",
      "Requirement already satisfied: multidict<7.0,>=4.5 in /usr/local/lib/python3.8/site-packages (from aiohttp->datasets>=2.0.0->evaluate<=0.2.2->autogluon.multimodal==0.6.0->autogluon) (6.0.3)\n",
      "Requirement already satisfied: yarl<2.0,>=1.0 in /usr/local/lib/python3.8/site-packages (from aiohttp->datasets>=2.0.0->evaluate<=0.2.2->autogluon.multimodal==0.6.0->autogluon) (1.8.2)\n",
      "Requirement already satisfied: charset-normalizer<3.0,>=2.0 in /usr/local/lib/python3.8/site-packages (from aiohttp->datasets>=2.0.0->evaluate<=0.2.2->autogluon.multimodal==0.6.0->autogluon) (2.1.1)\n",
      "\u001b[33mWARNING: Running pip as the 'root' user can result in broken permissions and conflicting behaviour with the system package manager. It is recommended to use a virtual environment instead: https://pip.pypa.io/warnings/venv\u001b[0m\n",
      "\u001b[33mWARNING: You are using pip version 21.3.1; however, version 22.3.1 is available.\n",
      "You should consider upgrading via the '/usr/local/bin/python3.8 -m pip install --upgrade pip' command.\u001b[0m\n"
     ]
    }
   ],
   "source": [
    "# Install the necessary libraries\n",
    "!pip install -U autogluon imblearn mxnet tensorflow==2.7.1"
   ]
  },
  {
   "cell_type": "code",
   "execution_count": 3,
   "id": "d974ef44-8d39-4a00-9c64-2cbaa54f7b6a",
   "metadata": {
    "tags": []
   },
   "outputs": [
    {
     "name": "stdout",
     "output_type": "stream",
     "text": [
      "TensorFlow version: 2.7.1\n",
      "Python version: 3.8.2\n"
     ]
    }
   ],
   "source": [
    "%matplotlib inline\n",
    "\n",
    "import numpy as np\n",
    "import warnings\n",
    "import matplotlib.pyplot as plt\n",
    "import pandas as pd\n",
    "import tensorflow as tf\n",
    "from platform import python_version\n",
    "\n",
    "warnings.filterwarnings('ignore')\n",
    "np.random.seed(42)\n",
    "\n",
    "print(f'TensorFlow version: {tf.__version__}')\n",
    "print(f'Python version: {python_version()}')"
   ]
  },
  {
   "cell_type": "markdown",
   "id": "0756a42f-c629-4aab-b87b-e7607c523722",
   "metadata": {},
   "source": [
    "## Prepare the Data\n",
    "Load the amazon_reviews.csv raw dataset. We will use **review_body** and **star_rating** features and rebalance the dataset. "
   ]
  },
  {
   "cell_type": "code",
   "execution_count": 4,
   "id": "e1e3e1ef-6a21-43f3-83c7-7a96793c098a",
   "metadata": {
    "tags": []
   },
   "outputs": [
    {
     "data": {
      "text/html": [
       "<div>\n",
       "<style scoped>\n",
       "    .dataframe tbody tr th:only-of-type {\n",
       "        vertical-align: middle;\n",
       "    }\n",
       "\n",
       "    .dataframe tbody tr th {\n",
       "        vertical-align: top;\n",
       "    }\n",
       "\n",
       "    .dataframe thead th {\n",
       "        text-align: right;\n",
       "    }\n",
       "</style>\n",
       "<table border=\"1\" class=\"dataframe\">\n",
       "  <thead>\n",
       "    <tr style=\"text-align: right;\">\n",
       "      <th></th>\n",
       "      <th>review_body</th>\n",
       "      <th>star_rating</th>\n",
       "    </tr>\n",
       "  </thead>\n",
       "  <tbody>\n",
       "    <tr>\n",
       "      <th>0</th>\n",
       "      <td>ok</td>\n",
       "      <td>5</td>\n",
       "    </tr>\n",
       "    <tr>\n",
       "      <th>1</th>\n",
       "      <td>Perfect, even sturdier than the original!</td>\n",
       "      <td>5</td>\n",
       "    </tr>\n",
       "    <tr>\n",
       "      <th>2</th>\n",
       "      <td>If the words, &amp;#34;Cheap Chinese Junk&amp;#34; com...</td>\n",
       "      <td>2</td>\n",
       "    </tr>\n",
       "    <tr>\n",
       "      <th>3</th>\n",
       "      <td>Exactly what I wanted and expected. Perfect fo...</td>\n",
       "      <td>5</td>\n",
       "    </tr>\n",
       "    <tr>\n",
       "      <th>4</th>\n",
       "      <td>I will look past the fact that they tricked me...</td>\n",
       "      <td>5</td>\n",
       "    </tr>\n",
       "    <tr>\n",
       "      <th>5</th>\n",
       "      <td>The controls are pretty slow, and I can't get ...</td>\n",
       "      <td>3</td>\n",
       "    </tr>\n",
       "    <tr>\n",
       "      <th>6</th>\n",
       "      <td>The printer came in a small fairly plain box w...</td>\n",
       "      <td>3</td>\n",
       "    </tr>\n",
       "    <tr>\n",
       "      <th>7</th>\n",
       "      <td>Great camera for the price.</td>\n",
       "      <td>5</td>\n",
       "    </tr>\n",
       "    <tr>\n",
       "      <th>8</th>\n",
       "      <td>Product is very good and satisfactory.&lt;br /&gt;&lt;b...</td>\n",
       "      <td>5</td>\n",
       "    </tr>\n",
       "    <tr>\n",
       "      <th>9</th>\n",
       "      <td>Lasted a few hours with its first charge, whic...</td>\n",
       "      <td>1</td>\n",
       "    </tr>\n",
       "  </tbody>\n",
       "</table>\n",
       "</div>"
      ],
      "text/plain": [
       "                                         review_body  star_rating\n",
       "0                                                 ok            5\n",
       "1          Perfect, even sturdier than the original!            5\n",
       "2  If the words, &#34;Cheap Chinese Junk&#34; com...            2\n",
       "3  Exactly what I wanted and expected. Perfect fo...            5\n",
       "4  I will look past the fact that they tricked me...            5\n",
       "5  The controls are pretty slow, and I can't get ...            3\n",
       "6  The printer came in a small fairly plain box w...            3\n",
       "7                        Great camera for the price.            5\n",
       "8  Product is very good and satisfactory.<br /><b...            5\n",
       "9  Lasted a few hours with its first charge, whic...            1"
      ]
     },
     "execution_count": 4,
     "metadata": {},
     "output_type": "execute_result"
    }
   ],
   "source": [
    "# Load the raw dataset\n",
    "df = pd.read_csv('amazon_reviews.csv')\n",
    "data = df[['review_body','star_rating']]\n",
    "data.head(10)"
   ]
  },
  {
   "cell_type": "code",
   "execution_count": 5,
   "id": "8f27cabc-f1ed-4891-9336-6d7ebb4d8bb9",
   "metadata": {
    "tags": []
   },
   "outputs": [
    {
     "data": {
      "text/plain": [
       "array([5, 2, 3, 1, 4])"
      ]
     },
     "execution_count": 5,
     "metadata": {},
     "output_type": "execute_result"
    }
   ],
   "source": [
    "# Unique classes\n",
    "data['star_rating'].unique()"
   ]
  },
  {
   "cell_type": "code",
   "execution_count": 6,
   "id": "ceb13916",
   "metadata": {},
   "outputs": [
    {
     "data": {
      "text/plain": [
       "5    339469\n",
       "4     86814\n",
       "1     48905\n",
       "3     39433\n",
       "2     24686\n",
       "Name: star_rating, dtype: int64"
      ]
     },
     "execution_count": 6,
     "metadata": {},
     "output_type": "execute_result"
    }
   ],
   "source": [
    "# Class frequency distribution\n",
    "data['star_rating'].value_counts()"
   ]
  },
  {
   "cell_type": "code",
   "execution_count": 7,
   "id": "819aac2b-374d-4659-8056-0ba9c3fc2491",
   "metadata": {
    "tags": []
   },
   "outputs": [
    {
     "data": {
      "text/plain": [
       "<AxesSubplot:>"
      ]
     },
     "execution_count": 7,
     "metadata": {},
     "output_type": "execute_result"
    },
    {
     "data": {
      "image/png": "[encoded data removed]",
      "text/plain": [
       "<Figure size 432x288 with 1 Axes>"
      ]
     },
     "metadata": {
      "needs_background": "light"
     },
     "output_type": "display_data"
    }
   ],
   "source": [
    "# Visualize class distribution\n",
    "data['star_rating'].value_counts().plot(kind = 'bar')"
   ]
  },
  {
   "cell_type": "code",
   "execution_count": 8,
   "id": "e7fe7f93-113f-4cbb-9cd1-a298b2a044ef",
   "metadata": {
    "tags": []
   },
   "outputs": [],
   "source": [
    "# Rebalance the dataset\n",
    "\n",
    "from imblearn.under_sampling import RandomUnderSampler \n",
    "\n",
    "X = data[['review_body']]\n",
    "y = data[['star_rating']]\n",
    "\n",
    "rus = RandomUnderSampler(random_state=42)\n",
    "X_res, y_res = rus.fit_resample(X, y)"
   ]
  },
  {
   "cell_type": "code",
   "execution_count": 9,
   "id": "55590d59-59af-4f2f-a2ea-8d66153cb9f2",
   "metadata": {
    "tags": []
   },
   "outputs": [
    {
     "data": {
      "text/plain": [
       "<AxesSubplot:xlabel='star_rating'>"
      ]
     },
     "execution_count": 9,
     "metadata": {},
     "output_type": "execute_result"
    },
    {
     "data": {
      "image/png": "[encoded data removed]",
      "text/plain": [
       "<Figure size 432x288 with 1 Axes>"
      ]
     },
     "metadata": {
      "needs_background": "light"
     },
     "output_type": "display_data"
    }
   ],
   "source": [
    "y_res.value_counts().plot(kind = 'bar')"
   ]
  },
  {
   "cell_type": "code",
   "execution_count": 10,
   "id": "44bd8990-c1eb-48a7-955f-1e71d5cb9850",
   "metadata": {
    "tags": []
   },
   "outputs": [
    {
     "data": {
      "text/html": [
       "<div>\n",
       "<style scoped>\n",
       "    .dataframe tbody tr th:only-of-type {\n",
       "        vertical-align: middle;\n",
       "    }\n",
       "\n",
       "    .dataframe tbody tr th {\n",
       "        vertical-align: top;\n",
       "    }\n",
       "\n",
       "    .dataframe thead th {\n",
       "        text-align: right;\n",
       "    }\n",
       "</style>\n",
       "<table border=\"1\" class=\"dataframe\">\n",
       "  <thead>\n",
       "    <tr style=\"text-align: right;\">\n",
       "      <th></th>\n",
       "      <th>review_body</th>\n",
       "      <th>star_rating</th>\n",
       "    </tr>\n",
       "  </thead>\n",
       "  <tbody>\n",
       "    <tr>\n",
       "      <th>0</th>\n",
       "      <td>This is really a piece of Junk. Instructions a...</td>\n",
       "      <td>1</td>\n",
       "    </tr>\n",
       "    <tr>\n",
       "      <th>1</th>\n",
       "      <td>Did not work,</td>\n",
       "      <td>1</td>\n",
       "    </tr>\n",
       "    <tr>\n",
       "      <th>2</th>\n",
       "      <td>the items I received did not fit my camera it ...</td>\n",
       "      <td>1</td>\n",
       "    </tr>\n",
       "  </tbody>\n",
       "</table>\n",
       "</div>"
      ],
      "text/plain": [
       "                                         review_body  star_rating\n",
       "0  This is really a piece of Junk. Instructions a...            1\n",
       "1                                      Did not work,            1\n",
       "2  the items I received did not fit my camera it ...            1"
      ]
     },
     "execution_count": 10,
     "metadata": {},
     "output_type": "execute_result"
    }
   ],
   "source": [
    "# Merge the rebalanced dataset\n",
    "\n",
    "rebalanced_data = X_res.join(y_res)\n",
    "rebalanced_data.head(3)"
   ]
  },
  {
   "cell_type": "code",
   "execution_count": 11,
   "id": "8a2b3def-18cd-417a-816b-51df70c80fe8",
   "metadata": {
    "tags": []
   },
   "outputs": [],
   "source": [
    "# Split the training and test dataset\n",
    "\n",
    "from sklearn.model_selection import train_test_split\n",
    "\n",
    "X_train, X_test = train_test_split(rebalanced_data, test_size=0.2, random_state=42)"
   ]
  },
  {
   "cell_type": "code",
   "execution_count": 23,
   "id": "a29b576d-29b8-4b2e-abd7-888b3974e849",
   "metadata": {
    "tags": []
   },
   "outputs": [
    {
     "name": "stdout",
     "output_type": "stream",
     "text": [
      "Train_data samples: 3000\n",
      "Test_data samples: 3000\n"
     ]
    }
   ],
   "source": [
    "# subsample 3000 records for faster demo, you can try setting this to larger values\n",
    "\n",
    "train_data = X_train\n",
    "test_data = X_test\n",
    "subsample_size = 3000  \n",
    "train_data = train_data.sample(n=subsample_size, random_state=1)\n",
    "test_data = test_data.sample(n=subsample_size, random_state=1)\n",
    "\n",
    "print(f'Train_data samples: {train_data.shape[0]}')\n",
    "print(f'Test_data samples: {test_data.shape[0]}')"
   ]
  },
  {
   "cell_type": "markdown",
   "id": "a44939ed-1161-4af7-a7b6-5b1744c67011",
   "metadata": {},
   "source": [
    "## Train a Model\n",
    "Define a directory for saving the trained model output by an AutoGluon Text Predictor."
   ]
  },
  {
   "cell_type": "code",
   "execution_count": 13,
   "id": "8be4cf65-041d-4741-af53-310e4832d8de",
   "metadata": {
    "tags": []
   },
   "outputs": [
    {
     "name": "stdout",
     "output_type": "stream",
     "text": [
      "Model output directory: ./ag_amz_reviews\n"
     ]
    }
   ],
   "source": [
    "# Set the output directory for saving model file\n",
    "OUTPUT_DIR = './ag_amz_reviews'\n",
    "\n",
    "# Clear or delete if folder exists\n",
    "DO_DELETE = True \n",
    "\n",
    "if DO_DELETE:\n",
    "  try:\n",
    "    tf.compat.v1.gfile.DeleteRecursively(OUTPUT_DIR)\n",
    "  except:\n",
    "    pass\n",
    "\n",
    "tf.io.gfile.makedirs(OUTPUT_DIR)\n",
    "print(f'Model output directory: {OUTPUT_DIR}')"
   ]
  },
  {
   "cell_type": "code",
   "execution_count": 14,
   "id": "0b383250-064f-4507-9339-325717bf0e40",
   "metadata": {
    "tags": []
   },
   "outputs": [
    {
     "name": "stdout",
     "output_type": "stream",
     "text": [
      "Extension horovod.torch has not been built: /usr/local/lib/python3.8/site-packages/horovod/torch/mpi_lib/_mpi_lib.cpython-38-x86_64-linux-gnu.so not found\n",
      "If this is not expected, reinstall Horovod with HOROVOD_WITH_PYTORCH=1 to debug the build error.\n",
      "Warning! MPI libs are missing, but python applications are still avaiable.\n"
     ]
    },
    {
     "name": "stderr",
     "output_type": "stream",
     "text": [
      "The cache for model files in Transformers v4.22.0 has been updated. Migrating your old cache. This is a one-time only operation. You can interrupt this and resume the migration later on by calling `transformers.utils.move_cache()`.\n"
     ]
    },
    {
     "name": "stdout",
     "output_type": "stream",
     "text": [
      "Moving 0 files to the new cache system\n"
     ]
    },
    {
     "data": {
      "application/vnd.jupyter.widget-view+json": {
       "model_id": "a6f49384dc8444a08e005244e8e6b658",
       "version_major": 2,
       "version_minor": 0
      },
      "text/plain": [
       "0it [00:00, ?it/s]"
      ]
     },
     "metadata": {},
     "output_type": "display_data"
    },
    {
     "name": "stderr",
     "output_type": "stream",
     "text": [
      "Warning: path already exists! This predictor may overwrite an existing predictor! path=\"/root/Chapter3/ag_amz_reviews\"\n",
      "Global seed set to 123\n",
      "GPU available: False, used: False\n",
      "TPU available: False, using: 0 TPU cores\n",
      "IPU available: False, using: 0 IPUs\n",
      "HPU available: False, using: 0 HPUs\n",
      "\n",
      "  | Name              | Type                         | Params\n",
      "-------------------------------------------------------------------\n",
      "0 | model             | HFAutoModelForTextPrediction | 108 M \n",
      "1 | validation_metric | Accuracy                     | 0     \n",
      "2 | loss_func         | CrossEntropyLoss             | 0     \n",
      "-------------------------------------------------------------------\n",
      "108 M     Trainable params\n",
      "0         Non-trainable params\n",
      "108 M     Total params\n",
      "435.582   Total estimated model params size (MB)\n"
     ]
    },
    {
     "data": {
      "application/vnd.jupyter.widget-view+json": {
       "model_id": "",
       "version_major": 2,
       "version_minor": 0
      },
      "text/plain": [
       "Sanity Checking: 0it [00:00, ?it/s]"
      ]
     },
     "metadata": {},
     "output_type": "display_data"
    },
    {
     "data": {
      "application/vnd.jupyter.widget-view+json": {
       "model_id": "da4f675663964b09aac63a7cf870d85e",
       "version_major": 2,
       "version_minor": 0
      },
      "text/plain": [
       "Training: 0it [00:00, ?it/s]"
      ]
     },
     "metadata": {},
     "output_type": "display_data"
    },
    {
     "data": {
      "application/vnd.jupyter.widget-view+json": {
       "model_id": "",
       "version_major": 2,
       "version_minor": 0
      },
      "text/plain": [
       "Validation: 0it [00:00, ?it/s]"
      ]
     },
     "metadata": {},
     "output_type": "display_data"
    },
    {
     "name": "stderr",
     "output_type": "stream",
     "text": [
      "Epoch 0, global step 9: 'val_acc' reached 0.28400 (best 0.28400), saving model to '/root/Chapter3/ag_amz_reviews/epoch=0-step=9.ckpt' as top 3\n"
     ]
    },
    {
     "data": {
      "application/vnd.jupyter.widget-view+json": {
       "model_id": "",
       "version_major": 2,
       "version_minor": 0
      },
      "text/plain": [
       "Validation: 0it [00:00, ?it/s]"
      ]
     },
     "metadata": {},
     "output_type": "display_data"
    },
    {
     "name": "stderr",
     "output_type": "stream",
     "text": [
      "Epoch 0, global step 19: 'val_acc' reached 0.34200 (best 0.34200), saving model to '/root/Chapter3/ag_amz_reviews/epoch=0-step=19.ckpt' as top 3\n"
     ]
    },
    {
     "data": {
      "application/vnd.jupyter.widget-view+json": {
       "model_id": "",
       "version_major": 2,
       "version_minor": 0
      },
      "text/plain": [
       "Validation: 0it [00:00, ?it/s]"
      ]
     },
     "metadata": {},
     "output_type": "display_data"
    },
    {
     "name": "stderr",
     "output_type": "stream",
     "text": [
      "Epoch 1, global step 29: 'val_acc' reached 0.49600 (best 0.49600), saving model to '/root/Chapter3/ag_amz_reviews/epoch=1-step=29.ckpt' as top 3\n"
     ]
    },
    {
     "data": {
      "application/vnd.jupyter.widget-view+json": {
       "model_id": "",
       "version_major": 2,
       "version_minor": 0
      },
      "text/plain": [
       "Validation: 0it [00:00, ?it/s]"
      ]
     },
     "metadata": {},
     "output_type": "display_data"
    },
    {
     "name": "stderr",
     "output_type": "stream",
     "text": [
      "Epoch 1, global step 39: 'val_acc' reached 0.51600 (best 0.51600), saving model to '/root/Chapter3/ag_amz_reviews/epoch=1-step=39.ckpt' as top 3\n"
     ]
    },
    {
     "data": {
      "application/vnd.jupyter.widget-view+json": {
       "model_id": "",
       "version_major": 2,
       "version_minor": 0
      },
      "text/plain": [
       "Validation: 0it [00:00, ?it/s]"
      ]
     },
     "metadata": {},
     "output_type": "display_data"
    },
    {
     "name": "stderr",
     "output_type": "stream",
     "text": [
      "Epoch 2, global step 49: 'val_acc' reached 0.55000 (best 0.55000), saving model to '/root/Chapter3/ag_amz_reviews/epoch=2-step=49.ckpt' as top 3\n"
     ]
    },
    {
     "data": {
      "application/vnd.jupyter.widget-view+json": {
       "model_id": "",
       "version_major": 2,
       "version_minor": 0
      },
      "text/plain": [
       "Validation: 0it [00:00, ?it/s]"
      ]
     },
     "metadata": {},
     "output_type": "display_data"
    },
    {
     "name": "stderr",
     "output_type": "stream",
     "text": [
      "Epoch 2, global step 59: 'val_acc' reached 0.56000 (best 0.56000), saving model to '/root/Chapter3/ag_amz_reviews/epoch=2-step=59.ckpt' as top 3\n"
     ]
    },
    {
     "data": {
      "application/vnd.jupyter.widget-view+json": {
       "model_id": "",
       "version_major": 2,
       "version_minor": 0
      },
      "text/plain": [
       "Validation: 0it [00:00, ?it/s]"
      ]
     },
     "metadata": {},
     "output_type": "display_data"
    },
    {
     "name": "stderr",
     "output_type": "stream",
     "text": [
      "Epoch 3, global step 69: 'val_acc' reached 0.54600 (best 0.56000), saving model to '/root/Chapter3/ag_amz_reviews/epoch=3-step=69.ckpt' as top 3\n"
     ]
    },
    {
     "data": {
      "application/vnd.jupyter.widget-view+json": {
       "model_id": "",
       "version_major": 2,
       "version_minor": 0
      },
      "text/plain": [
       "Validation: 0it [00:00, ?it/s]"
      ]
     },
     "metadata": {},
     "output_type": "display_data"
    },
    {
     "name": "stderr",
     "output_type": "stream",
     "text": [
      "Epoch 3, global step 79: 'val_acc' reached 0.55600 (best 0.56000), saving model to '/root/Chapter3/ag_amz_reviews/epoch=3-step=79.ckpt' as top 3\n"
     ]
    },
    {
     "data": {
      "application/vnd.jupyter.widget-view+json": {
       "model_id": "",
       "version_major": 2,
       "version_minor": 0
      },
      "text/plain": [
       "Validation: 0it [00:00, ?it/s]"
      ]
     },
     "metadata": {},
     "output_type": "display_data"
    },
    {
     "name": "stderr",
     "output_type": "stream",
     "text": [
      "Epoch 4, global step 89: 'val_acc' reached 0.56000 (best 0.56000), saving model to '/root/Chapter3/ag_amz_reviews/epoch=4-step=89.ckpt' as top 3\n"
     ]
    },
    {
     "data": {
      "application/vnd.jupyter.widget-view+json": {
       "model_id": "",
       "version_major": 2,
       "version_minor": 0
      },
      "text/plain": [
       "Validation: 0it [00:00, ?it/s]"
      ]
     },
     "metadata": {},
     "output_type": "display_data"
    },
    {
     "name": "stderr",
     "output_type": "stream",
     "text": [
      "Epoch 4, global step 99: 'val_acc' reached 0.59400 (best 0.59400), saving model to '/root/Chapter3/ag_amz_reviews/epoch=4-step=99.ckpt' as top 3\n"
     ]
    },
    {
     "data": {
      "application/vnd.jupyter.widget-view+json": {
       "model_id": "",
       "version_major": 2,
       "version_minor": 0
      },
      "text/plain": [
       "Validation: 0it [00:00, ?it/s]"
      ]
     },
     "metadata": {},
     "output_type": "display_data"
    },
    {
     "name": "stderr",
     "output_type": "stream",
     "text": [
      "Epoch 5, global step 109: 'val_acc' reached 0.59800 (best 0.59800), saving model to '/root/Chapter3/ag_amz_reviews/epoch=5-step=109.ckpt' as top 3\n"
     ]
    },
    {
     "data": {
      "application/vnd.jupyter.widget-view+json": {
       "model_id": "",
       "version_major": 2,
       "version_minor": 0
      },
      "text/plain": [
       "Validation: 0it [00:00, ?it/s]"
      ]
     },
     "metadata": {},
     "output_type": "display_data"
    },
    {
     "name": "stderr",
     "output_type": "stream",
     "text": [
      "Epoch 5, global step 119: 'val_acc' reached 0.59800 (best 0.59800), saving model to '/root/Chapter3/ag_amz_reviews/epoch=5-step=119.ckpt' as top 3\n"
     ]
    },
    {
     "data": {
      "application/vnd.jupyter.widget-view+json": {
       "model_id": "",
       "version_major": 2,
       "version_minor": 0
      },
      "text/plain": [
       "Validation: 0it [00:00, ?it/s]"
      ]
     },
     "metadata": {},
     "output_type": "display_data"
    },
    {
     "name": "stderr",
     "output_type": "stream",
     "text": [
      "Epoch 6, global step 129: 'val_acc' was not in top 3\n"
     ]
    },
    {
     "data": {
      "application/vnd.jupyter.widget-view+json": {
       "model_id": "",
       "version_major": 2,
       "version_minor": 0
      },
      "text/plain": [
       "Validation: 0it [00:00, ?it/s]"
      ]
     },
     "metadata": {},
     "output_type": "display_data"
    },
    {
     "name": "stderr",
     "output_type": "stream",
     "text": [
      "Epoch 6, global step 139: 'val_acc' was not in top 3\n"
     ]
    },
    {
     "data": {
      "application/vnd.jupyter.widget-view+json": {
       "model_id": "",
       "version_major": 2,
       "version_minor": 0
      },
      "text/plain": [
       "Validation: 0it [00:00, ?it/s]"
      ]
     },
     "metadata": {},
     "output_type": "display_data"
    },
    {
     "name": "stderr",
     "output_type": "stream",
     "text": [
      "Epoch 7, global step 149: 'val_acc' was not in top 3\n"
     ]
    },
    {
     "data": {
      "application/vnd.jupyter.widget-view+json": {
       "model_id": "",
       "version_major": 2,
       "version_minor": 0
      },
      "text/plain": [
       "Validation: 0it [00:00, ?it/s]"
      ]
     },
     "metadata": {},
     "output_type": "display_data"
    },
    {
     "name": "stderr",
     "output_type": "stream",
     "text": [
      "Epoch 7, global step 159: 'val_acc' was not in top 3\n"
     ]
    },
    {
     "data": {
      "application/vnd.jupyter.widget-view+json": {
       "model_id": "",
       "version_major": 2,
       "version_minor": 0
      },
      "text/plain": [
       "Validation: 0it [00:00, ?it/s]"
      ]
     },
     "metadata": {},
     "output_type": "display_data"
    },
    {
     "name": "stderr",
     "output_type": "stream",
     "text": [
      "Epoch 8, global step 169: 'val_acc' reached 0.60200 (best 0.60200), saving model to '/root/Chapter3/ag_amz_reviews/epoch=8-step=169.ckpt' as top 3\n"
     ]
    },
    {
     "data": {
      "application/vnd.jupyter.widget-view+json": {
       "model_id": "",
       "version_major": 2,
       "version_minor": 0
      },
      "text/plain": [
       "Validation: 0it [00:00, ?it/s]"
      ]
     },
     "metadata": {},
     "output_type": "display_data"
    },
    {
     "name": "stderr",
     "output_type": "stream",
     "text": [
      "Epoch 8, global step 179: 'val_acc' reached 0.60400 (best 0.60400), saving model to '/root/Chapter3/ag_amz_reviews/epoch=8-step=179.ckpt' as top 3\n"
     ]
    },
    {
     "data": {
      "application/vnd.jupyter.widget-view+json": {
       "model_id": "",
       "version_major": 2,
       "version_minor": 0
      },
      "text/plain": [
       "Validation: 0it [00:00, ?it/s]"
      ]
     },
     "metadata": {},
     "output_type": "display_data"
    },
    {
     "name": "stderr",
     "output_type": "stream",
     "text": [
      "Epoch 9, global step 189: 'val_acc' reached 0.60200 (best 0.60400), saving model to '/root/Chapter3/ag_amz_reviews/epoch=9-step=189.ckpt' as top 3\n"
     ]
    },
    {
     "data": {
      "application/vnd.jupyter.widget-view+json": {
       "model_id": "",
       "version_major": 2,
       "version_minor": 0
      },
      "text/plain": [
       "Validation: 0it [00:00, ?it/s]"
      ]
     },
     "metadata": {},
     "output_type": "display_data"
    },
    {
     "name": "stderr",
     "output_type": "stream",
     "text": [
      "Epoch 9, global step 199: 'val_acc' was not in top 3\n",
      "`Trainer.fit` stopped: `max_epochs=10` reached.\n"
     ]
    },
    {
     "data": {
      "application/vnd.jupyter.widget-view+json": {
       "model_id": "4299ec6c2b1c48419dac1844a8e52c48",
       "version_major": 2,
       "version_minor": 0
      },
      "text/plain": [
       "Predicting: 0it [00:00, ?it/s]"
      ]
     },
     "metadata": {},
     "output_type": "display_data"
    },
    {
     "data": {
      "application/vnd.jupyter.widget-view+json": {
       "model_id": "88765e8939ec43c1add9e503079820c2",
       "version_major": 2,
       "version_minor": 0
      },
      "text/plain": [
       "Predicting: 0it [00:00, ?it/s]"
      ]
     },
     "metadata": {},
     "output_type": "display_data"
    },
    {
     "data": {
      "application/vnd.jupyter.widget-view+json": {
       "model_id": "1e85ec6c0db84cc3b197b06721a15d96",
       "version_major": 2,
       "version_minor": 0
      },
      "text/plain": [
       "Predicting: 0it [00:00, ?it/s]"
      ]
     },
     "metadata": {},
     "output_type": "display_data"
    },
    {
     "data": {
      "application/vnd.jupyter.widget-view+json": {
       "model_id": "2814350a7ae64945a74922b7529b26a4",
       "version_major": 2,
       "version_minor": 0
      },
      "text/plain": [
       "Predicting: 0it [00:00, ?it/s]"
      ]
     },
     "metadata": {},
     "output_type": "display_data"
    },
    {
     "data": {
      "text/plain": [
       "<autogluon.text.text_prediction.predictor.TextPredictor at 0x7f54a2320b20>"
      ]
     },
     "execution_count": 14,
     "metadata": {},
     "output_type": "execute_result"
    }
   ],
   "source": [
    "from autogluon.text import TextPredictor\n",
    "\n",
    "predictor = TextPredictor(label='star_rating', problem_type='multiclass', eval_metric='acc', path=OUTPUT_DIR)\n",
    "\n",
    "# lower time_limit for faster demo, try setting this to larger values in seconds. Example: predictor.fit(train_data, time_limit=600)\n",
    "predictor.fit(train_data)"
   ]
  },
  {
   "cell_type": "markdown",
   "id": "dcfab4d7-ef1c-458e-b395-a231ff953cd5",
   "metadata": {},
   "source": [
    "## Evaluation\n",
    "\n",
    "After training, evaluate the model performance using the test dataset. By default, the evaluate() function reports the previously defined metric, i.e., accuracy. You can include additional metrics such as f1_micro score for evaluation."
   ]
  },
  {
   "cell_type": "code",
   "execution_count": 27,
   "id": "870e6bdd-e28e-4cd3-87db-02b1cc4c5f33",
   "metadata": {},
   "outputs": [
    {
     "data": {
      "application/vnd.jupyter.widget-view+json": {
       "model_id": "9e07b62518f147ccae9b4ead8ed6ea0c",
       "version_major": 2,
       "version_minor": 0
      },
      "text/plain": [
       "Predicting: 0it [00:00, ?it/s]"
      ]
     },
     "metadata": {},
     "output_type": "display_data"
    },
    {
     "name": "stdout",
     "output_type": "stream",
     "text": [
      "{'accuracy': 0.538, 'f1_micro': 0.538}\n"
     ]
    }
   ],
   "source": [
    "# Evaluate the model performance with test data\n",
    "\n",
    "test_score = predictor.evaluate(test_data, metrics=['accuracy', 'f1_micro'])\n",
    "print(test_score)"
   ]
  },
  {
   "cell_type": "markdown",
   "id": "61ff83b3-e56b-4c1c-a851-6e4d2dfbe75c",
   "metadata": {},
   "source": [
    "## Prediction\n",
    "\n",
    "Make predictions from the trained model by calling predictor.predict() function."
   ]
  },
  {
   "cell_type": "code",
   "execution_count": 29,
   "id": "7e49dcb9-3a98-4b44-8bdc-f6991322f36b",
   "metadata": {},
   "outputs": [
    {
     "name": "stdout",
     "output_type": "stream",
     "text": [
      "Product Review: Nice camera, not as sharp as previous model \n",
      "Predicted Rating: 4\n",
      "Product Review: It doesn't work for my iPhone 5c. It said that it would work but it doesn't. \n",
      "Predicted Rating: 1\n"
     ]
    }
   ],
   "source": [
    "# Obtain predictions by calling predictor.predict()\n",
    "\n",
    "review1 = \"Nice camera, not as sharp as previous model\"\n",
    "review2 = \"It doesn't work for my iPhone 5c. It said that it would work but it doesn't.\"\n",
    "\n",
    "predictions = predictor.predict({'review_body': [review1, review2]})\n",
    "print(f'Product Review: {review1} \\nPredicted Rating: {predictions.iloc[0]}')\n",
    "print(f'Product Review: {review2} \\nPredicted Rating: {predictions.iloc[1]}')"
   ]
  },
  {
   "cell_type": "code",
   "execution_count": 30,
   "id": "d909acb8-7c24-4cbf-b50a-ccc65e560a8a",
   "metadata": {},
   "outputs": [
    {
     "name": "stdout",
     "output_type": "stream",
     "text": [
      "Product Review: Nice camera, not as sharp as previous model \n",
      "Predicted Class-Probabilities:\n",
      "1    0.000180\n",
      "2    0.001635\n",
      "3    0.018682\n",
      "4    0.964477\n",
      "5    0.015026\n",
      "Name: 0, dtype: float32\n",
      "Product Review: It doesn't work for my iPhone 5c. It said that it would work but it doesn't. \n",
      "Predicted Class-Probabilities:\n",
      "1    0.966201\n",
      "2    0.031951\n",
      "3    0.001510\n",
      "4    0.000160\n",
      "5    0.000178\n",
      "Name: 1, dtype: float32\n"
     ]
    }
   ],
   "source": [
    "# Predicted class-probabilities instead of predicted classes\n",
    "\n",
    "probs = predictor.predict_proba({'review_body': [review1, review2]})\n",
    "print(f'Product Review: {review1} \\nPredicted Class-Probabilities:\\n{probs.iloc[0]}')\n",
    "print(f'Product Review: {review2} \\nPredicted Class-Probabilities:\\n{probs.iloc[1]}')"
   ]
  },
  {
   "cell_type": "code",
   "execution_count": 31,
   "id": "01d17b4e-4843-49f3-a33e-3e35d286bcfd",
   "metadata": {},
   "outputs": [
    {
     "data": {
      "application/vnd.jupyter.widget-view+json": {
       "model_id": "c170cdfc10944b08b25d2233dfd379eb",
       "version_major": 2,
       "version_minor": 0
      },
      "text/plain": [
       "Predicting: 0it [00:00, ?it/s]"
      ]
     },
     "metadata": {},
     "output_type": "display_data"
    },
    {
     "data": {
      "text/plain": [
       "109263    5\n",
       "100223    4\n",
       "114318    4\n",
       "89699     5\n",
       "100092    5\n",
       "Name: star_rating, dtype: int64"
      ]
     },
     "execution_count": 31,
     "metadata": {},
     "output_type": "execute_result"
    }
   ],
   "source": [
    "# Produce predictions over an entire test dataset\n",
    "test_predictions = predictor.predict(test_data)\n",
    "test_predictions.head()"
   ]
  },
  {
   "cell_type": "markdown",
   "id": "6d4c4ee4-5dc5-4600-b38b-7a31dc12045a",
   "metadata": {},
   "source": [
    "## Save and load the model"
   ]
  },
  {
   "cell_type": "code",
   "execution_count": 33,
   "id": "27811f79-0d64-41b9-b332-63bcbdca8eb3",
   "metadata": {},
   "outputs": [
    {
     "data": {
      "text/html": [
       "<div>\n",
       "<style scoped>\n",
       "    .dataframe tbody tr th:only-of-type {\n",
       "        vertical-align: middle;\n",
       "    }\n",
       "\n",
       "    .dataframe tbody tr th {\n",
       "        vertical-align: top;\n",
       "    }\n",
       "\n",
       "    .dataframe thead th {\n",
       "        text-align: right;\n",
       "    }\n",
       "</style>\n",
       "<table border=\"1\" class=\"dataframe\">\n",
       "  <thead>\n",
       "    <tr style=\"text-align: right;\">\n",
       "      <th></th>\n",
       "      <th>1</th>\n",
       "      <th>2</th>\n",
       "      <th>3</th>\n",
       "      <th>4</th>\n",
       "      <th>5</th>\n",
       "    </tr>\n",
       "  </thead>\n",
       "  <tbody>\n",
       "    <tr>\n",
       "      <th>0</th>\n",
       "      <td>0.000180</td>\n",
       "      <td>0.001635</td>\n",
       "      <td>0.018682</td>\n",
       "      <td>0.964477</td>\n",
       "      <td>0.015026</td>\n",
       "    </tr>\n",
       "    <tr>\n",
       "      <th>1</th>\n",
       "      <td>0.966201</td>\n",
       "      <td>0.031951</td>\n",
       "      <td>0.001510</td>\n",
       "      <td>0.000160</td>\n",
       "      <td>0.000178</td>\n",
       "    </tr>\n",
       "  </tbody>\n",
       "</table>\n",
       "</div>"
      ],
      "text/plain": [
       "          1         2         3         4         5\n",
       "0  0.000180  0.001635  0.018682  0.964477  0.015026\n",
       "1  0.966201  0.031951  0.001510  0.000160  0.000178"
      ]
     },
     "execution_count": 33,
     "metadata": {},
     "output_type": "execute_result"
    }
   ],
   "source": [
    "## You can reload the trained predictor saved by fit(). \n",
    "\n",
    "loaded_predictor = TextPredictor.load('./ag_amz_reviews')\n",
    "loaded_predictor.predict_proba({'review_body': [review1, review2]})"
   ]
  },
  {
   "cell_type": "code",
   "execution_count": 34,
   "id": "09d0dca0-d57f-4cef-b9e6-293a795d36c2",
   "metadata": {
    "tags": []
   },
   "outputs": [
    {
     "data": {
      "text/html": [
       "<div>\n",
       "<style scoped>\n",
       "    .dataframe tbody tr th:only-of-type {\n",
       "        vertical-align: middle;\n",
       "    }\n",
       "\n",
       "    .dataframe tbody tr th {\n",
       "        vertical-align: top;\n",
       "    }\n",
       "\n",
       "    .dataframe thead th {\n",
       "        text-align: right;\n",
       "    }\n",
       "</style>\n",
       "<table border=\"1\" class=\"dataframe\">\n",
       "  <thead>\n",
       "    <tr style=\"text-align: right;\">\n",
       "      <th></th>\n",
       "      <th>1</th>\n",
       "      <th>2</th>\n",
       "      <th>3</th>\n",
       "      <th>4</th>\n",
       "      <th>5</th>\n",
       "    </tr>\n",
       "  </thead>\n",
       "  <tbody>\n",
       "    <tr>\n",
       "      <th>0</th>\n",
       "      <td>0.000180</td>\n",
       "      <td>0.001635</td>\n",
       "      <td>0.018682</td>\n",
       "      <td>0.964477</td>\n",
       "      <td>0.015026</td>\n",
       "    </tr>\n",
       "    <tr>\n",
       "      <th>1</th>\n",
       "      <td>0.966201</td>\n",
       "      <td>0.031951</td>\n",
       "      <td>0.001510</td>\n",
       "      <td>0.000160</td>\n",
       "      <td>0.000178</td>\n",
       "    </tr>\n",
       "  </tbody>\n",
       "</table>\n",
       "</div>"
      ],
      "text/plain": [
       "          1         2         3         4         5\n",
       "0  0.000180  0.001635  0.018682  0.964477  0.015026\n",
       "1  0.966201  0.031951  0.001510  0.000160  0.000178"
      ]
     },
     "execution_count": 34,
     "metadata": {},
     "output_type": "execute_result"
    }
   ],
   "source": [
    "# Alternatively, save the predictor to a custom location\n",
    "\n",
    "loaded_predictor.save('my_saved_dir')\n",
    "loaded_predictor2 = TextPredictor.load('my_saved_dir')\n",
    "loaded_predictor2.predict_proba({'review_body': [review1, review2]})"
   ]
  },
  {
   "cell_type": "markdown",
   "id": "18292b8d-03bf-47d7-a97c-0dabebe1643b",
   "metadata": {},
   "source": [
    "## Extract Embeddings\n",
    "\n",
    "You can use a trained predictor to extract embeddings that maps each row of the data table to an embedding vector extracted from intermediate neural network representations of the row."
   ]
  },
  {
   "cell_type": "code",
   "execution_count": 35,
   "id": "77afb221-6e75-414b-be85-baf1b4a1edd0",
   "metadata": {},
   "outputs": [
    {
     "data": {
      "application/vnd.jupyter.widget-view+json": {
       "model_id": "96e1567853134164b295749775d2bc20",
       "version_major": 2,
       "version_minor": 0
      },
      "text/plain": [
       "Predicting: 0it [00:00, ?it/s]"
      ]
     },
     "metadata": {},
     "output_type": "display_data"
    },
    {
     "name": "stdout",
     "output_type": "stream",
     "text": [
      "[[-0.443095    0.8852768  -0.22515282 ...  0.98280287  0.7124626\n",
      "   0.4678184 ]\n",
      " [-0.25638017  1.1947579  -0.26320583 ...  0.96593446  0.63217616\n",
      "   0.4821604 ]\n",
      " [-0.12647195  0.90763193 -0.2647512  ...  0.8779049   0.5530073\n",
      "   0.4224037 ]\n",
      " ...\n",
      " [-0.3200082  -0.35816762  0.2973567  ... -0.65290403  0.22764994\n",
      "  -1.0387018 ]\n",
      " [-0.7020407   0.69048774 -0.28351274 ...  0.9218403   0.65880907\n",
      "   0.61153847]\n",
      " [-0.4333595  -0.03296116 -0.26931185 ... -0.10652567  0.22269224\n",
      "   0.1424044 ]]\n"
     ]
    }
   ],
   "source": [
    "embeddings = predictor.extract_embedding(test_data)\n",
    "print(embeddings)"
   ]
  },
  {
   "cell_type": "markdown",
   "id": "09650a69-c6fe-491e-a35c-c613a99f6585",
   "metadata": {},
   "source": [
    "We can visualize the extracted embeddings of test data using TSNE with 5 clusters corresponding to our 5 labels."
   ]
  },
  {
   "cell_type": "code",
   "execution_count": 36,
   "id": "32b0f0f9-a444-45c1-a5a8-5c5ea761c74d",
   "metadata": {},
   "outputs": [
    {
     "data": {
      "text/plain": [
       "<matplotlib.legend.Legend at 0x7f55b3acd670>"
      ]
     },
     "execution_count": 36,
     "metadata": {},
     "output_type": "execute_result"
    },
    {
     "data": {
      "image/png": "[encoded data removed]",
      "text/plain": [
       "<Figure size 1440x720 with 1 Axes>"
      ]
     },
     "metadata": {
      "needs_background": "light"
     },
     "output_type": "display_data"
    }
   ],
   "source": [
    "from sklearn.manifold import TSNE\n",
    "\n",
    "plt.rcParams[\"figure.figsize\"] = (20,10)\n",
    "\n",
    "X_embedded = TSNE(n_components=2, random_state=123).fit_transform(embeddings)\n",
    "for val, color in [(1, 'red'), (2, 'cyan'), (3, 'purple'), (4, 'orange'), (5, 'green')]:\n",
    "    idx = (test_data['star_rating'].to_numpy() == val).nonzero()\n",
    "    plt.scatter(X_embedded[idx, 0], X_embedded[idx, 1], c=color, label=f'label={val}')\n",
    "plt.legend(loc='best')"
   ]
  },
  {
   "cell_type": "markdown",
   "id": "a4e4db4f-8f34-4803-9329-e92b7814f86f",
   "metadata": {},
   "source": [
    "This concludes the multiclass text classification example."
   ]
  },
  {
   "cell_type": "code",
   "execution_count": null,
   "id": "b9901a28-bd5a-45a7-801e-c8df658ffce0",
   "metadata": {},
   "outputs": [],
   "source": []
  }
 ],
 "metadata": {
  "instance_type": "ml.m5.8xlarge",
  "kernelspec": {
   "display_name": "Python 3 (TensorFlow 2.6 Python 3.8 CPU Optimized)",
   "language": "python",
   "name": "python3__SAGEMAKER_INTERNAL__arn:aws:sagemaker:us-east-1:081325390199:image/tensorflow-2.6-cpu-py38-ubuntu20.04-v1"
  },
  "language_info": {
   "codemirror_mode": {
    "name": "ipython",
    "version": 3
   },
   "file_extension": ".py",
   "mimetype": "text/x-python",
   "name": "python",
   "nbconvert_exporter": "python",
   "pygments_lexer": "ipython3",
   "version": "3.8.2"
  }
 },
 "nbformat": 4,
 "nbformat_minor": 5
}
