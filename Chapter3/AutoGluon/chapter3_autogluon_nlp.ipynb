{
 "cells": [
  {
   "cell_type": "markdown",
   "id": "4b58bf39-cf06-429c-acb7-67e355560dd4",
   "metadata": {},
   "source": [
    "# Chapter 3 - AutoGluon Text Classification\n",
    "\n",
    "[AutoGluon](https://auto.gluon.ai/stable/index.html) an open source AutoML library by [Amazon](https://www.amazon.science/amazons-autogluon-helps-developers-get-up-and-running-with-state-of-the-art-deep-learning-models-with-just-a-few-lines-of-code) that automates deep learning applications for image, text, or tabular datasets. This sample notebook presents a multiclass text classification example using the [Amazon Customer Reviews](https://doi.org/10.7910/DVN/W96OFO) dataset and AutoGluon Text Predictor. \n",
    "\n",
    "You can experiment with this example on [Amazon SageMaker Studio Lab](https://aws.amazon.com/sagemaker/studio-lab/), a free ML development environment that provides up to 12 hours of CPU or 4 hours of GPU per user session and 15GiB storage at no cost. Alternatively, you can try this on your preferred Integrated Development Environment (IDE)."
   ]
  },
  {
   "cell_type": "markdown",
   "id": "9c9be40c-559f-4588-9c40-d928afbe9105",
   "metadata": {},
   "source": [
    "## Setup\n",
    "\n",
    "Install and load essential libraries"
   ]
  },
  {
   "cell_type": "code",
   "execution_count": 2,
   "id": "314a0858-cb0e-45a9-a769-12afca0c987c",
   "metadata": {},
   "outputs": [
    {
     "name": "stdout",
     "output_type": "stream",
     "text": [
      "\u001b[33mWARNING: Running pip as the 'root' user can result in broken permissions and conflicting behaviour with the system package manager. It is recommended to use a virtual environment instead: https://pip.pypa.io/warnings/venv\u001b[0m\n",
      "\u001b[33mWARNING: You are using pip version 21.3.1; however, version 22.3.1 is available.\n",
      "You should consider upgrading via the '/usr/local/bin/python -m pip install --upgrade pip' command.\u001b[0m\n"
     ]
    }
   ],
   "source": [
    "# Install required packages\n",
    "\n",
    "import sys\n",
    "!{sys.executable} -m pip install -qr requirements.txt"
   ]
  },
  {
   "cell_type": "code",
   "execution_count": 3,
   "id": "d974ef44-8d39-4a00-9c64-2cbaa54f7b6a",
   "metadata": {
    "tags": []
   },
   "outputs": [
    {
     "name": "stdout",
     "output_type": "stream",
     "text": [
      "TensorFlow version: 2.9.0\n",
      "Python version: 3.8.2\n",
      "AutoGluon version: 0.6.1\n"
     ]
    }
   ],
   "source": [
    "# Load essential libraries\n",
    "\n",
    "%matplotlib inline\n",
    "\n",
    "import numpy as np\n",
    "import warnings\n",
    "import matplotlib.pyplot as plt\n",
    "import pandas as pd\n",
    "import tensorflow as tf\n",
    "from platform import python_version\n",
    "from autogluon.tabular.version import __version__\n",
    "\n",
    "warnings.filterwarnings('ignore')\n",
    "np.random.seed(42)\n",
    "\n",
    "print(f'TensorFlow version: {tf.__version__}')\n",
    "print(f'Python version: {python_version()}')\n",
    "print(f'AutoGluon version: {__version__}')"
   ]
  },
  {
   "cell_type": "markdown",
   "id": "0756a42f-c629-4aab-b87b-e7607c523722",
   "metadata": {},
   "source": [
    "## Prepare the Data\n",
    "Load the Amazon Customer Review dataset (export_food.csv). We will use **reviews** and **ratings** columns for this example."
   ]
  },
  {
   "cell_type": "code",
   "execution_count": 4,
   "id": "6200ec79-97b3-4e58-93bf-2797fe6262b5",
   "metadata": {
    "tags": []
   },
   "outputs": [],
   "source": [
    "# Display full text\n",
    "\n",
    "pd.set_option(\"display.max_colwidth\", None)"
   ]
  },
  {
   "cell_type": "code",
   "execution_count": 5,
   "id": "e1e3e1ef-6a21-43f3-83c7-7a96793c098a",
   "metadata": {
    "tags": []
   },
   "outputs": [
    {
     "data": {
      "text/html": [
       "<div>\n",
       "<style scoped>\n",
       "    .dataframe tbody tr th:only-of-type {\n",
       "        vertical-align: middle;\n",
       "    }\n",
       "\n",
       "    .dataframe tbody tr th {\n",
       "        vertical-align: top;\n",
       "    }\n",
       "\n",
       "    .dataframe thead th {\n",
       "        text-align: right;\n",
       "    }\n",
       "</style>\n",
       "<table border=\"1\" class=\"dataframe\">\n",
       "  <thead>\n",
       "    <tr style=\"text-align: right;\">\n",
       "      <th></th>\n",
       "      <th>reviews</th>\n",
       "      <th>ratings</th>\n",
       "    </tr>\n",
       "  </thead>\n",
       "  <tbody>\n",
       "    <tr>\n",
       "      <th>0</th>\n",
       "      <td>I’ve been ordering this product monthly for over a year. These past few shipments have been off, and the packaging is different. It is obvious they are from two different manufacturers. The full bottle is the imposter and has no pink ribbon on the label, the label photo is different, and if you look at the bottle, you can see on the back that the legitimate product has a 3% Juice Content label on the back up top, and the imposter has a 1% Juice Content. There are also other differences on the label. See Photos for comparison. Two different products, and the IMPOSTER is absolutely undrinkable and tastes nothing like the original product.I contacted Amazon and they are pulling this flavor, Red Grapefruit, off the shelf while they investigate this issue. They also issued me a full credit. I hope they can get this figured out because this is my favorite flavor and I drink it everyday.</td>\n",
       "      <td>4</td>\n",
       "    </tr>\n",
       "    <tr>\n",
       "      <th>1</th>\n",
       "      <td>I used to drink these Sparkling Ice waters in all flavors every day.  They all taste GREAT, my favorite was Black Raspberry. However, I just discovered that they contain sucralose which is just another harmful artificial sweetener. The only safe sweeteners are Stevia, Agave, and Raw Honey.  I have stopped drinking/eating anything with harmful artificial sweeteners since they have been linked to many diseases, including dementia and the increase in Atzheimers disease patients.</td>\n",
       "      <td>5</td>\n",
       "    </tr>\n",
       "    <tr>\n",
       "      <th>2</th>\n",
       "      <td>Update March 2019: I have been a regular subscriber of 3 cases a month of Sparkling Ice for a few years. I LOVED the stuff. It was plenty diabetic/keto-friendly with its 3% real juice and it tasted not merelt great, but REALISTIC. Then, sometime in the last year or so, I just stopped wanting to drink it as much. The flavor was no longer exciting. The mock mulled cider I made with it this Christmas fell flat. I thought I’d just lost my taste for it until I saw that another reviewer had noticed that the juice content went from 3% to 1%. I looked at my bottles and all the flavors indeed now say 1% juice.The company said it was to conform to its zero-sugar claim but I don’t believe it - 3% of 179mL (one serving) would be about 5g of juice, which would contain about half a gram of sugar, which can legally be labeled as 0 grams. They could have replaced the aromatics and maintained the flavor but that would probably have been more expensive than just using real juice.Now these drinks taste about the same as any other diet soda. The flavors are now flat instead of complex and realistic like they used to be.I AM CANCELLING MY SUBSCRIPTION FOR ALL THREE CASES PER MONTH. ARE YOU LISTENING, TALKING RAIN INC?I also intend to complain to Amazon about allowing Sparkling Ice to keep its past high ratings for what is no longer the same product. It is very misleading if reviews don’t all refer to the same thing being reviewed.Old review: Crisp Apple Sparkling Ice tastes almost exactly like Martinelli's sparkling ciderBeing on a carb-restricted diet, one of the things I miss most is the taste of fruit, and especially the intense flavor of fruit juices. To my palate (accustomed as it is to most artificial sweeteners), Crisp Apple Sparkling Ice tastes almost exactly like Martinelli's sparkling cider.Crisp Apple, Coconut Pineapple, and Pink Grapefruit are in my opinion, the most realistic flavors of Sparkling Ice.At $1 a bottle, it's not quite cheap but it is an affordable treat.Update: at Christmastime, I used Crisp Apple as a base for zero-carb mulled “cider.” Lacking proper mulling spices, a Constant Comment tea bag with its cinnamon/orange peel/clove flavoring did the trick nicely. A touch of malic acid restored the tanginess lost from heating the fizz (carbonic acid) out of it.</td>\n",
       "      <td>1</td>\n",
       "    </tr>\n",
       "  </tbody>\n",
       "</table>\n",
       "</div>"
      ],
      "text/plain": [
       "                                                                                                                                                                                                                                                                                                                                                                                                                                                                                                                                                                                                                                                                                                                                                                                                                                                                                                                                                                                                                                                                                                                                                                                                                                                                                                                                                                                                                                                                                                                                                                                                                                                                                                                                                                                                                                                                                                                                                                                                                                                                                                                                                                                                                                                                                                                                                                                          reviews  \\\n",
       "0                                                                                                                                                                                                                                                                                                                                                                                                                                                                                                                                                                                                                                                                                                                                                                                                                                                                                                                                                                                                                                                                                                                                                                                                                                                                                                                                                                                                                                                                   I’ve been ordering this product monthly for over a year. These past few shipments have been off, and the packaging is different. It is obvious they are from two different manufacturers. The full bottle is the imposter and has no pink ribbon on the label, the label photo is different, and if you look at the bottle, you can see on the back that the legitimate product has a 3% Juice Content label on the back up top, and the imposter has a 1% Juice Content. There are also other differences on the label. See Photos for comparison. Two different products, and the IMPOSTER is absolutely undrinkable and tastes nothing like the original product.I contacted Amazon and they are pulling this flavor, Red Grapefruit, off the shelf while they investigate this issue. They also issued me a full credit. I hope they can get this figured out because this is my favorite flavor and I drink it everyday.   \n",
       "1                                                                                                                                                                                                                                                                                                                                                                                                                                                                                                                                                                                                                                                                                                                                                                                                                                                                                                                                                                                                                                                                                                                                                                                                                                                                                                                                                                                                                                                                                                                                                                                                                                                                                                                                                                                                                                                                                                I used to drink these Sparkling Ice waters in all flavors every day.  They all taste GREAT, my favorite was Black Raspberry. However, I just discovered that they contain sucralose which is just another harmful artificial sweetener. The only safe sweeteners are Stevia, Agave, and Raw Honey.  I have stopped drinking/eating anything with harmful artificial sweeteners since they have been linked to many diseases, including dementia and the increase in Atzheimers disease patients.   \n",
       "2  Update March 2019: I have been a regular subscriber of 3 cases a month of Sparkling Ice for a few years. I LOVED the stuff. It was plenty diabetic/keto-friendly with its 3% real juice and it tasted not merelt great, but REALISTIC. Then, sometime in the last year or so, I just stopped wanting to drink it as much. The flavor was no longer exciting. The mock mulled cider I made with it this Christmas fell flat. I thought I’d just lost my taste for it until I saw that another reviewer had noticed that the juice content went from 3% to 1%. I looked at my bottles and all the flavors indeed now say 1% juice.The company said it was to conform to its zero-sugar claim but I don’t believe it - 3% of 179mL (one serving) would be about 5g of juice, which would contain about half a gram of sugar, which can legally be labeled as 0 grams. They could have replaced the aromatics and maintained the flavor but that would probably have been more expensive than just using real juice.Now these drinks taste about the same as any other diet soda. The flavors are now flat instead of complex and realistic like they used to be.I AM CANCELLING MY SUBSCRIPTION FOR ALL THREE CASES PER MONTH. ARE YOU LISTENING, TALKING RAIN INC?I also intend to complain to Amazon about allowing Sparkling Ice to keep its past high ratings for what is no longer the same product. It is very misleading if reviews don’t all refer to the same thing being reviewed.Old review: Crisp Apple Sparkling Ice tastes almost exactly like Martinelli's sparkling ciderBeing on a carb-restricted diet, one of the things I miss most is the taste of fruit, and especially the intense flavor of fruit juices. To my palate (accustomed as it is to most artificial sweeteners), Crisp Apple Sparkling Ice tastes almost exactly like Martinelli's sparkling cider.Crisp Apple, Coconut Pineapple, and Pink Grapefruit are in my opinion, the most realistic flavors of Sparkling Ice.At $1 a bottle, it's not quite cheap but it is an affordable treat.Update: at Christmastime, I used Crisp Apple as a base for zero-carb mulled “cider.” Lacking proper mulling spices, a Constant Comment tea bag with its cinnamon/orange peel/clove flavoring did the trick nicely. A touch of malic acid restored the tanginess lost from heating the fizz (carbonic acid) out of it.   \n",
       "\n",
       "   ratings  \n",
       "0        4  \n",
       "1        5  \n",
       "2        1  "
      ]
     },
     "execution_count": 5,
     "metadata": {},
     "output_type": "execute_result"
    }
   ],
   "source": [
    "# Load the raw dataset. Remove any leading and trailing characters.\n",
    "\n",
    "df = pd.read_csv('export_food.csv')\n",
    "data = df[['reviews','ratings']]\n",
    "data['reviews'] = data['reviews'].str.strip()\n",
    "data.head(3)"
   ]
  },
  {
   "cell_type": "code",
   "execution_count": 6,
   "id": "442c1b9f-3cfe-467c-a7bf-6b7fe30d328c",
   "metadata": {
    "tags": []
   },
   "outputs": [
    {
     "name": "stdout",
     "output_type": "stream",
     "text": [
      "<class 'pandas.core.frame.DataFrame'>\n",
      "RangeIndex: 5000 entries, 0 to 4999\n",
      "Data columns (total 2 columns):\n",
      " #   Column   Non-Null Count  Dtype \n",
      "---  ------   --------------  ----- \n",
      " 0   reviews  5000 non-null   object\n",
      " 1   ratings  5000 non-null   int64 \n",
      "dtypes: int64(1), object(1)\n",
      "memory usage: 78.2+ KB\n"
     ]
    }
   ],
   "source": [
    "# View dataset information, including index dtype, columns, non-null values, and memory usage.\n",
    "\n",
    "data.info()"
   ]
  },
  {
   "cell_type": "code",
   "execution_count": 7,
   "id": "8f27cabc-f1ed-4891-9336-6d7ebb4d8bb9",
   "metadata": {
    "tags": []
   },
   "outputs": [
    {
     "data": {
      "text/plain": [
       "array([4, 5, 1, 2, 3])"
      ]
     },
     "execution_count": 7,
     "metadata": {},
     "output_type": "execute_result"
    }
   ],
   "source": [
    "# Unique classes\n",
    "data['ratings'].unique()"
   ]
  },
  {
   "cell_type": "code",
   "execution_count": 8,
   "id": "ceb13916",
   "metadata": {},
   "outputs": [
    {
     "data": {
      "text/plain": [
       "5    3402\n",
       "4     683\n",
       "1     677\n",
       "3     134\n",
       "2     104\n",
       "Name: ratings, dtype: int64"
      ]
     },
     "execution_count": 8,
     "metadata": {},
     "output_type": "execute_result"
    }
   ],
   "source": [
    "# Class frequency distribution\n",
    "data['ratings'].value_counts()"
   ]
  },
  {
   "cell_type": "code",
   "execution_count": 9,
   "id": "819aac2b-374d-4659-8056-0ba9c3fc2491",
   "metadata": {
    "tags": []
   },
   "outputs": [
    {
     "data": {
      "text/plain": [
       "<AxesSubplot:>"
      ]
     },
     "execution_count": 9,
     "metadata": {},
     "output_type": "execute_result"
    },
    {
     "data": {
      "image/png": "[encoded data removed]",
      "text/plain": [
       "<Figure size 432x288 with 1 Axes>"
      ]
     },
     "metadata": {
      "needs_background": "light"
     },
     "output_type": "display_data"
    }
   ],
   "source": [
    "# Visualize class distribution\n",
    "data['ratings'].value_counts().plot(kind = 'bar')"
   ]
  },
  {
   "cell_type": "markdown",
   "id": "be80b638-2df0-4b65-87e3-559137b8634c",
   "metadata": {},
   "source": [
    "The original dataset is highly imbalanced. We will use RandomOverSampler to duplicate examples randomly in the minority class."
   ]
  },
  {
   "cell_type": "code",
   "execution_count": 10,
   "id": "eb33d14d-1812-4295-96b4-6d8431ab044d",
   "metadata": {},
   "outputs": [
    {
     "data": {
      "text/html": [
       "<style>#sk-container-id-1 {color: black;background-color: white;}#sk-container-id-1 pre{padding: 0;}#sk-container-id-1 div.sk-toggleable {background-color: white;}#sk-container-id-1 label.sk-toggleable__label {cursor: pointer;display: block;width: 100%;margin-bottom: 0;padding: 0.3em;box-sizing: border-box;text-align: center;}#sk-container-id-1 label.sk-toggleable__label-arrow:before {content: \"▸\";float: left;margin-right: 0.25em;color: #696969;}#sk-container-id-1 label.sk-toggleable__label-arrow:hover:before {color: black;}#sk-container-id-1 div.sk-estimator:hover label.sk-toggleable__label-arrow:before {color: black;}#sk-container-id-1 div.sk-toggleable__content {max-height: 0;max-width: 0;overflow: hidden;text-align: left;background-color: #f0f8ff;}#sk-container-id-1 div.sk-toggleable__content pre {margin: 0.2em;color: black;border-radius: 0.25em;background-color: #f0f8ff;}#sk-container-id-1 input.sk-toggleable__control:checked~div.sk-toggleable__content {max-height: 200px;max-width: 100%;overflow: auto;}#sk-container-id-1 input.sk-toggleable__control:checked~label.sk-toggleable__label-arrow:before {content: \"▾\";}#sk-container-id-1 div.sk-estimator input.sk-toggleable__control:checked~label.sk-toggleable__label {background-color: #d4ebff;}#sk-container-id-1 div.sk-label input.sk-toggleable__control:checked~label.sk-toggleable__label {background-color: #d4ebff;}#sk-container-id-1 input.sk-hidden--visually {border: 0;clip: rect(1px 1px 1px 1px);clip: rect(1px, 1px, 1px, 1px);height: 1px;margin: -1px;overflow: hidden;padding: 0;position: absolute;width: 1px;}#sk-container-id-1 div.sk-estimator {font-family: monospace;background-color: #f0f8ff;border: 1px dotted black;border-radius: 0.25em;box-sizing: border-box;margin-bottom: 0.5em;}#sk-container-id-1 div.sk-estimator:hover {background-color: #d4ebff;}#sk-container-id-1 div.sk-parallel-item::after {content: \"\";width: 100%;border-bottom: 1px solid gray;flex-grow: 1;}#sk-container-id-1 div.sk-label:hover label.sk-toggleable__label {background-color: #d4ebff;}#sk-container-id-1 div.sk-serial::before {content: \"\";position: absolute;border-left: 1px solid gray;box-sizing: border-box;top: 0;bottom: 0;left: 50%;z-index: 0;}#sk-container-id-1 div.sk-serial {display: flex;flex-direction: column;align-items: center;background-color: white;padding-right: 0.2em;padding-left: 0.2em;position: relative;}#sk-container-id-1 div.sk-item {position: relative;z-index: 1;}#sk-container-id-1 div.sk-parallel {display: flex;align-items: stretch;justify-content: center;background-color: white;position: relative;}#sk-container-id-1 div.sk-item::before, #sk-container-id-1 div.sk-parallel-item::before {content: \"\";position: absolute;border-left: 1px solid gray;box-sizing: border-box;top: 0;bottom: 0;left: 50%;z-index: -1;}#sk-container-id-1 div.sk-parallel-item {display: flex;flex-direction: column;z-index: 1;position: relative;background-color: white;}#sk-container-id-1 div.sk-parallel-item:first-child::after {align-self: flex-end;width: 50%;}#sk-container-id-1 div.sk-parallel-item:last-child::after {align-self: flex-start;width: 50%;}#sk-container-id-1 div.sk-parallel-item:only-child::after {width: 0;}#sk-container-id-1 div.sk-dashed-wrapped {border: 1px dashed gray;margin: 0 0.4em 0.5em 0.4em;box-sizing: border-box;padding-bottom: 0.4em;background-color: white;}#sk-container-id-1 div.sk-label label {font-family: monospace;font-weight: bold;display: inline-block;line-height: 1.2em;}#sk-container-id-1 div.sk-label-container {text-align: center;}#sk-container-id-1 div.sk-container {/* jupyter's `normalize.less` sets `[hidden] { display: none; }` but bootstrap.min.css set `[hidden] { display: none !important; }` so we also need the `!important` here to be able to override the default hidden behavior on the sphinx rendered scikit-learn.org. See: https://github.com/scikit-learn/scikit-learn/issues/21755 */display: inline-block !important;position: relative;}#sk-container-id-1 div.sk-text-repr-fallback {display: none;}</style><div id=\"sk-container-id-1\" class=\"sk-top-container\"><div class=\"sk-text-repr-fallback\"><pre>RandomOverSampler(sampling_strategy=&#x27;minority&#x27;)</pre><b>In a Jupyter environment, please rerun this cell to show the HTML representation or trust the notebook. <br />On GitHub, the HTML representation is unable to render, please try loading this page with nbviewer.org.</b></div><div class=\"sk-container\" hidden><div class=\"sk-item\"><div class=\"sk-estimator sk-toggleable\"><input class=\"sk-toggleable__control sk-hidden--visually\" id=\"sk-estimator-id-1\" type=\"checkbox\" checked><label for=\"sk-estimator-id-1\" class=\"sk-toggleable__label sk-toggleable__label-arrow\">RandomOverSampler</label><div class=\"sk-toggleable__content\"><pre>RandomOverSampler(sampling_strategy=&#x27;minority&#x27;)</pre></div></div></div></div></div>"
      ],
      "text/plain": [
       "RandomOverSampler(sampling_strategy='minority')"
      ]
     },
     "execution_count": 10,
     "metadata": {},
     "output_type": "execute_result"
    }
   ],
   "source": [
    "from imblearn.over_sampling import RandomOverSampler\n",
    "\n",
    "X = data[['reviews']]\n",
    "y = data[['ratings']]\n",
    "\n",
    "ros = RandomOverSampler(sampling_strategy='minority')\n",
    "X_res, y_res = ros.fit_resample(X, y)\n",
    "\n",
    "RandomOverSampler(sampling_strategy='minority')"
   ]
  },
  {
   "cell_type": "code",
   "execution_count": 11,
   "id": "1be4b81d-9814-431c-aee9-5c2962ec6a11",
   "metadata": {
    "tags": []
   },
   "outputs": [
    {
     "data": {
      "text/plain": [
       "<AxesSubplot:xlabel='ratings'>"
      ]
     },
     "execution_count": 11,
     "metadata": {},
     "output_type": "execute_result"
    },
    {
     "data": {
      "image/png": "[encoded data removed]",
      "text/plain": [
       "<Figure size 432x288 with 1 Axes>"
      ]
     },
     "metadata": {
      "needs_background": "light"
     },
     "output_type": "display_data"
    }
   ],
   "source": [
    "# Visualize the frequency distribution after oversampling\n",
    "\n",
    "y_res.value_counts().plot(kind = 'bar')"
   ]
  },
  {
   "cell_type": "code",
   "execution_count": 12,
   "id": "1aa817cb-3b93-463f-a8ac-be9120925783",
   "metadata": {
    "tags": []
   },
   "outputs": [
    {
     "data": {
      "text/html": [
       "<div>\n",
       "<style scoped>\n",
       "    .dataframe tbody tr th:only-of-type {\n",
       "        vertical-align: middle;\n",
       "    }\n",
       "\n",
       "    .dataframe tbody tr th {\n",
       "        vertical-align: top;\n",
       "    }\n",
       "\n",
       "    .dataframe thead th {\n",
       "        text-align: right;\n",
       "    }\n",
       "</style>\n",
       "<table border=\"1\" class=\"dataframe\">\n",
       "  <thead>\n",
       "    <tr style=\"text-align: right;\">\n",
       "      <th></th>\n",
       "      <th>reviews</th>\n",
       "      <th>ratings</th>\n",
       "    </tr>\n",
       "  </thead>\n",
       "  <tbody>\n",
       "    <tr>\n",
       "      <th>0</th>\n",
       "      <td>I’ve been ordering this product monthly for over a year. These past few shipments have been off, and the packaging is different. It is obvious they are from two different manufacturers. The full bottle is the imposter and has no pink ribbon on the label, the label photo is different, and if you look at the bottle, you can see on the back that the legitimate product has a 3% Juice Content label on the back up top, and the imposter has a 1% Juice Content. There are also other differences on the label. See Photos for comparison. Two different products, and the IMPOSTER is absolutely undrinkable and tastes nothing like the original product.I contacted Amazon and they are pulling this flavor, Red Grapefruit, off the shelf while they investigate this issue. They also issued me a full credit. I hope they can get this figured out because this is my favorite flavor and I drink it everyday.</td>\n",
       "      <td>4</td>\n",
       "    </tr>\n",
       "    <tr>\n",
       "      <th>1</th>\n",
       "      <td>I used to drink these Sparkling Ice waters in all flavors every day.  They all taste GREAT, my favorite was Black Raspberry. However, I just discovered that they contain sucralose which is just another harmful artificial sweetener. The only safe sweeteners are Stevia, Agave, and Raw Honey.  I have stopped drinking/eating anything with harmful artificial sweeteners since they have been linked to many diseases, including dementia and the increase in Atzheimers disease patients.</td>\n",
       "      <td>5</td>\n",
       "    </tr>\n",
       "    <tr>\n",
       "      <th>2</th>\n",
       "      <td>Update March 2019: I have been a regular subscriber of 3 cases a month of Sparkling Ice for a few years. I LOVED the stuff. It was plenty diabetic/keto-friendly with its 3% real juice and it tasted not merelt great, but REALISTIC. Then, sometime in the last year or so, I just stopped wanting to drink it as much. The flavor was no longer exciting. The mock mulled cider I made with it this Christmas fell flat. I thought I’d just lost my taste for it until I saw that another reviewer had noticed that the juice content went from 3% to 1%. I looked at my bottles and all the flavors indeed now say 1% juice.The company said it was to conform to its zero-sugar claim but I don’t believe it - 3% of 179mL (one serving) would be about 5g of juice, which would contain about half a gram of sugar, which can legally be labeled as 0 grams. They could have replaced the aromatics and maintained the flavor but that would probably have been more expensive than just using real juice.Now these drinks taste about the same as any other diet soda. The flavors are now flat instead of complex and realistic like they used to be.I AM CANCELLING MY SUBSCRIPTION FOR ALL THREE CASES PER MONTH. ARE YOU LISTENING, TALKING RAIN INC?I also intend to complain to Amazon about allowing Sparkling Ice to keep its past high ratings for what is no longer the same product. It is very misleading if reviews don’t all refer to the same thing being reviewed.Old review: Crisp Apple Sparkling Ice tastes almost exactly like Martinelli's sparkling ciderBeing on a carb-restricted diet, one of the things I miss most is the taste of fruit, and especially the intense flavor of fruit juices. To my palate (accustomed as it is to most artificial sweeteners), Crisp Apple Sparkling Ice tastes almost exactly like Martinelli's sparkling cider.Crisp Apple, Coconut Pineapple, and Pink Grapefruit are in my opinion, the most realistic flavors of Sparkling Ice.At $1 a bottle, it's not quite cheap but it is an affordable treat.Update: at Christmastime, I used Crisp Apple as a base for zero-carb mulled “cider.” Lacking proper mulling spices, a Constant Comment tea bag with its cinnamon/orange peel/clove flavoring did the trick nicely. A touch of malic acid restored the tanginess lost from heating the fizz (carbonic acid) out of it.</td>\n",
       "      <td>1</td>\n",
       "    </tr>\n",
       "  </tbody>\n",
       "</table>\n",
       "</div>"
      ],
      "text/plain": [
       "                                                                                                                                                                                                                                                                                                                                                                                                                                                                                                                                                                                                                                                                                                                                                                                                                                                                                                                                                                                                                                                                                                                                                                                                                                                                                                                                                                                                                                                                                                                                                                                                                                                                                                                                                                                                                                                                                                                                                                                                                                                                                                                                                                                                                                                                                                                                                                                          reviews  \\\n",
       "0                                                                                                                                                                                                                                                                                                                                                                                                                                                                                                                                                                                                                                                                                                                                                                                                                                                                                                                                                                                                                                                                                                                                                                                                                                                                                                                                                                                                                                                                   I’ve been ordering this product monthly for over a year. These past few shipments have been off, and the packaging is different. It is obvious they are from two different manufacturers. The full bottle is the imposter and has no pink ribbon on the label, the label photo is different, and if you look at the bottle, you can see on the back that the legitimate product has a 3% Juice Content label on the back up top, and the imposter has a 1% Juice Content. There are also other differences on the label. See Photos for comparison. Two different products, and the IMPOSTER is absolutely undrinkable and tastes nothing like the original product.I contacted Amazon and they are pulling this flavor, Red Grapefruit, off the shelf while they investigate this issue. They also issued me a full credit. I hope they can get this figured out because this is my favorite flavor and I drink it everyday.   \n",
       "1                                                                                                                                                                                                                                                                                                                                                                                                                                                                                                                                                                                                                                                                                                                                                                                                                                                                                                                                                                                                                                                                                                                                                                                                                                                                                                                                                                                                                                                                                                                                                                                                                                                                                                                                                                                                                                                                                                I used to drink these Sparkling Ice waters in all flavors every day.  They all taste GREAT, my favorite was Black Raspberry. However, I just discovered that they contain sucralose which is just another harmful artificial sweetener. The only safe sweeteners are Stevia, Agave, and Raw Honey.  I have stopped drinking/eating anything with harmful artificial sweeteners since they have been linked to many diseases, including dementia and the increase in Atzheimers disease patients.   \n",
       "2  Update March 2019: I have been a regular subscriber of 3 cases a month of Sparkling Ice for a few years. I LOVED the stuff. It was plenty diabetic/keto-friendly with its 3% real juice and it tasted not merelt great, but REALISTIC. Then, sometime in the last year or so, I just stopped wanting to drink it as much. The flavor was no longer exciting. The mock mulled cider I made with it this Christmas fell flat. I thought I’d just lost my taste for it until I saw that another reviewer had noticed that the juice content went from 3% to 1%. I looked at my bottles and all the flavors indeed now say 1% juice.The company said it was to conform to its zero-sugar claim but I don’t believe it - 3% of 179mL (one serving) would be about 5g of juice, which would contain about half a gram of sugar, which can legally be labeled as 0 grams. They could have replaced the aromatics and maintained the flavor but that would probably have been more expensive than just using real juice.Now these drinks taste about the same as any other diet soda. The flavors are now flat instead of complex and realistic like they used to be.I AM CANCELLING MY SUBSCRIPTION FOR ALL THREE CASES PER MONTH. ARE YOU LISTENING, TALKING RAIN INC?I also intend to complain to Amazon about allowing Sparkling Ice to keep its past high ratings for what is no longer the same product. It is very misleading if reviews don’t all refer to the same thing being reviewed.Old review: Crisp Apple Sparkling Ice tastes almost exactly like Martinelli's sparkling ciderBeing on a carb-restricted diet, one of the things I miss most is the taste of fruit, and especially the intense flavor of fruit juices. To my palate (accustomed as it is to most artificial sweeteners), Crisp Apple Sparkling Ice tastes almost exactly like Martinelli's sparkling cider.Crisp Apple, Coconut Pineapple, and Pink Grapefruit are in my opinion, the most realistic flavors of Sparkling Ice.At $1 a bottle, it's not quite cheap but it is an affordable treat.Update: at Christmastime, I used Crisp Apple as a base for zero-carb mulled “cider.” Lacking proper mulling spices, a Constant Comment tea bag with its cinnamon/orange peel/clove flavoring did the trick nicely. A touch of malic acid restored the tanginess lost from heating the fizz (carbonic acid) out of it.   \n",
       "\n",
       "   ratings  \n",
       "0        4  \n",
       "1        5  \n",
       "2        1  "
      ]
     },
     "execution_count": 12,
     "metadata": {},
     "output_type": "execute_result"
    }
   ],
   "source": [
    "# Merge the rebalanced dataset\n",
    "\n",
    "rebalanced_data = X_res.join(y_res)\n",
    "rebalanced_data.head(3)"
   ]
  },
  {
   "cell_type": "code",
   "execution_count": 13,
   "id": "dc1233d4-eef9-4b56-baae-78777c899253",
   "metadata": {
    "tags": []
   },
   "outputs": [],
   "source": [
    "# Split the dataset into 80% for training and 20% for test\n",
    "\n",
    "from sklearn.model_selection import train_test_split\n",
    "\n",
    "X_train, X_test = train_test_split(rebalanced_data, test_size=0.2, random_state=42)"
   ]
  },
  {
   "cell_type": "code",
   "execution_count": 14,
   "id": "d59e0eb7-cfdd-42d1-ab1e-86f1f3c20360",
   "metadata": {
    "tags": []
   },
   "outputs": [
    {
     "name": "stdout",
     "output_type": "stream",
     "text": [
      "Train shape: (6638, 2)\n",
      "Test shape: (1660, 2)\n"
     ]
    }
   ],
   "source": [
    "# View train and test shape\n",
    "\n",
    "print(f'Train shape: {X_train.shape}')\n",
    "print(f'Test shape: {X_test.shape}')"
   ]
  },
  {
   "cell_type": "markdown",
   "id": "a44939ed-1161-4af7-a7b6-5b1744c67011",
   "metadata": {},
   "source": [
    "## Train a Model\n",
    "We are now ready to train a model using AutoGluon Text Predictor. Let's define a directory for saving the trained model output."
   ]
  },
  {
   "cell_type": "code",
   "execution_count": 15,
   "id": "8be4cf65-041d-4741-af53-310e4832d8de",
   "metadata": {
    "tags": []
   },
   "outputs": [
    {
     "name": "stdout",
     "output_type": "stream",
     "text": [
      "Model output directory: ag_food_reviews\n"
     ]
    }
   ],
   "source": [
    "# Set the output directory for saving model file\n",
    "OUTPUT_DIR = 'ag_food_reviews'\n",
    "\n",
    "# Clear or delete if folder exists\n",
    "DO_DELETE = True \n",
    "\n",
    "if DO_DELETE:\n",
    "  try:\n",
    "    tf.compat.v1.gfile.DeleteRecursively(OUTPUT_DIR)\n",
    "  except:\n",
    "    pass\n",
    "\n",
    "tf.io.gfile.makedirs(OUTPUT_DIR)\n",
    "print(f'Model output directory: {OUTPUT_DIR}')"
   ]
  },
  {
   "cell_type": "code",
   "execution_count": 16,
   "id": "0b383250-064f-4507-9339-325717bf0e40",
   "metadata": {
    "tags": []
   },
   "outputs": [
    {
     "name": "stdout",
     "output_type": "stream",
     "text": [
      "Extension horovod.torch has not been built: /usr/local/lib/python3.8/site-packages/horovod/torch/mpi_lib/_mpi_lib.cpython-38-x86_64-linux-gnu.so not found\n",
      "If this is not expected, reinstall Horovod with HOROVOD_WITH_PYTORCH=1 to debug the build error.\n",
      "Warning! MPI libs are missing, but python applications are still avaiable.\n"
     ]
    },
    {
     "name": "stderr",
     "output_type": "stream",
     "text": [
      "Warning: path already exists! This predictor may overwrite an existing predictor! path=\"/root/Chapter3/autogluon_nlp/ag_food_reviews\"\n",
      "Global seed set to 123\n"
     ]
    },
    {
     "name": "stdout",
     "output_type": "stream",
     "text": [
      "Downloading /usr/local/lib/python3.8/site-packages/autogluon/multimodal/data/templates.zip from https://automl-mm-bench.s3.amazonaws.com/few_shot/templates.zip...\n"
     ]
    },
    {
     "name": "stderr",
     "output_type": "stream",
     "text": [
      "Auto select gpus: [0]                      \n",
      "Using 16bit native Automatic Mixed Precision (AMP)\n",
      "GPU available: True (cuda), used: True\n",
      "TPU available: False, using: 0 TPU cores\n",
      "IPU available: False, using: 0 IPUs\n",
      "HPU available: False, using: 0 HPUs\n",
      "LOCAL_RANK: 0 - CUDA_VISIBLE_DEVICES: [0]\n",
      "\n",
      "  | Name              | Type                         | Params\n",
      "-------------------------------------------------------------------\n",
      "0 | model             | HFAutoModelForTextPrediction | 108 M \n",
      "1 | validation_metric | Accuracy                     | 0     \n",
      "2 | loss_func         | CrossEntropyLoss             | 0     \n",
      "-------------------------------------------------------------------\n",
      "108 M     Trainable params\n",
      "0         Non-trainable params\n",
      "108 M     Total params\n",
      "217.791   Total estimated model params size (MB)\n"
     ]
    },
    {
     "data": {
      "application/vnd.jupyter.widget-view+json": {
       "model_id": "",
       "version_major": 2,
       "version_minor": 0
      },
      "text/plain": [
       "Sanity Checking: 0it [00:00, ?it/s]"
      ]
     },
     "metadata": {},
     "output_type": "display_data"
    },
    {
     "data": {
      "application/vnd.jupyter.widget-view+json": {
       "model_id": "3f54436b4be8456792bf2719c6c606a1",
       "version_major": 2,
       "version_minor": 0
      },
      "text/plain": [
       "Training: 0it [00:00, ?it/s]"
      ]
     },
     "metadata": {},
     "output_type": "display_data"
    },
    {
     "data": {
      "application/vnd.jupyter.widget-view+json": {
       "model_id": "",
       "version_major": 2,
       "version_minor": 0
      },
      "text/plain": [
       "Validation: 0it [00:00, ?it/s]"
      ]
     },
     "metadata": {},
     "output_type": "display_data"
    },
    {
     "name": "stderr",
     "output_type": "stream",
     "text": [
      "Epoch 0, global step 23: 'val_acc' reached 0.59488 (best 0.59488), saving model to '/root/Chapter3/autogluon_nlp/ag_food_reviews/epoch=0-step=23.ckpt' as top 3\n"
     ]
    },
    {
     "data": {
      "application/vnd.jupyter.widget-view+json": {
       "model_id": "",
       "version_major": 2,
       "version_minor": 0
      },
      "text/plain": [
       "Validation: 0it [00:00, ?it/s]"
      ]
     },
     "metadata": {},
     "output_type": "display_data"
    },
    {
     "name": "stderr",
     "output_type": "stream",
     "text": [
      "Epoch 0, global step 46: 'val_acc' reached 0.67620 (best 0.67620), saving model to '/root/Chapter3/autogluon_nlp/ag_food_reviews/epoch=0-step=46.ckpt' as top 3\n"
     ]
    },
    {
     "data": {
      "application/vnd.jupyter.widget-view+json": {
       "model_id": "",
       "version_major": 2,
       "version_minor": 0
      },
      "text/plain": [
       "Validation: 0it [00:00, ?it/s]"
      ]
     },
     "metadata": {},
     "output_type": "display_data"
    },
    {
     "name": "stderr",
     "output_type": "stream",
     "text": [
      "Epoch 1, global step 70: 'val_acc' reached 0.78614 (best 0.78614), saving model to '/root/Chapter3/autogluon_nlp/ag_food_reviews/epoch=1-step=70.ckpt' as top 3\n"
     ]
    },
    {
     "data": {
      "application/vnd.jupyter.widget-view+json": {
       "model_id": "",
       "version_major": 2,
       "version_minor": 0
      },
      "text/plain": [
       "Validation: 0it [00:00, ?it/s]"
      ]
     },
     "metadata": {},
     "output_type": "display_data"
    },
    {
     "name": "stderr",
     "output_type": "stream",
     "text": [
      "Epoch 1, global step 93: 'val_acc' reached 0.81627 (best 0.81627), saving model to '/root/Chapter3/autogluon_nlp/ag_food_reviews/epoch=1-step=93.ckpt' as top 3\n"
     ]
    },
    {
     "data": {
      "application/vnd.jupyter.widget-view+json": {
       "model_id": "",
       "version_major": 2,
       "version_minor": 0
      },
      "text/plain": [
       "Validation: 0it [00:00, ?it/s]"
      ]
     },
     "metadata": {},
     "output_type": "display_data"
    },
    {
     "name": "stderr",
     "output_type": "stream",
     "text": [
      "Epoch 2, global step 117: 'val_acc' reached 0.73946 (best 0.81627), saving model to '/root/Chapter3/autogluon_nlp/ag_food_reviews/epoch=2-step=117.ckpt' as top 3\n"
     ]
    },
    {
     "data": {
      "application/vnd.jupyter.widget-view+json": {
       "model_id": "",
       "version_major": 2,
       "version_minor": 0
      },
      "text/plain": [
       "Validation: 0it [00:00, ?it/s]"
      ]
     },
     "metadata": {},
     "output_type": "display_data"
    },
    {
     "name": "stderr",
     "output_type": "stream",
     "text": [
      "Epoch 2, global step 140: 'val_acc' reached 0.80873 (best 0.81627), saving model to '/root/Chapter3/autogluon_nlp/ag_food_reviews/epoch=2-step=140.ckpt' as top 3\n"
     ]
    },
    {
     "data": {
      "application/vnd.jupyter.widget-view+json": {
       "model_id": "",
       "version_major": 2,
       "version_minor": 0
      },
      "text/plain": [
       "Validation: 0it [00:00, ?it/s]"
      ]
     },
     "metadata": {},
     "output_type": "display_data"
    },
    {
     "name": "stderr",
     "output_type": "stream",
     "text": [
      "Epoch 3, global step 164: 'val_acc' was not in top 3\n"
     ]
    },
    {
     "data": {
      "application/vnd.jupyter.widget-view+json": {
       "model_id": "",
       "version_major": 2,
       "version_minor": 0
      },
      "text/plain": [
       "Validation: 0it [00:00, ?it/s]"
      ]
     },
     "metadata": {},
     "output_type": "display_data"
    },
    {
     "name": "stderr",
     "output_type": "stream",
     "text": [
      "Epoch 3, global step 187: 'val_acc' reached 0.81024 (best 0.81627), saving model to '/root/Chapter3/autogluon_nlp/ag_food_reviews/epoch=3-step=187.ckpt' as top 3\n"
     ]
    },
    {
     "data": {
      "application/vnd.jupyter.widget-view+json": {
       "model_id": "",
       "version_major": 2,
       "version_minor": 0
      },
      "text/plain": [
       "Validation: 0it [00:00, ?it/s]"
      ]
     },
     "metadata": {},
     "output_type": "display_data"
    },
    {
     "name": "stderr",
     "output_type": "stream",
     "text": [
      "Epoch 4, global step 211: 'val_acc' was not in top 3\n"
     ]
    },
    {
     "data": {
      "application/vnd.jupyter.widget-view+json": {
       "model_id": "",
       "version_major": 2,
       "version_minor": 0
      },
      "text/plain": [
       "Validation: 0it [00:00, ?it/s]"
      ]
     },
     "metadata": {},
     "output_type": "display_data"
    },
    {
     "name": "stderr",
     "output_type": "stream",
     "text": [
      "Epoch 4, global step 234: 'val_acc' was not in top 3\n"
     ]
    },
    {
     "data": {
      "application/vnd.jupyter.widget-view+json": {
       "model_id": "",
       "version_major": 2,
       "version_minor": 0
      },
      "text/plain": [
       "Validation: 0it [00:00, ?it/s]"
      ]
     },
     "metadata": {},
     "output_type": "display_data"
    },
    {
     "name": "stderr",
     "output_type": "stream",
     "text": [
      "Epoch 5, global step 258: 'val_acc' was not in top 3\n"
     ]
    },
    {
     "data": {
      "application/vnd.jupyter.widget-view+json": {
       "model_id": "",
       "version_major": 2,
       "version_minor": 0
      },
      "text/plain": [
       "Validation: 0it [00:00, ?it/s]"
      ]
     },
     "metadata": {},
     "output_type": "display_data"
    },
    {
     "name": "stderr",
     "output_type": "stream",
     "text": [
      "Epoch 5, global step 281: 'val_acc' was not in top 3\n"
     ]
    },
    {
     "data": {
      "application/vnd.jupyter.widget-view+json": {
       "model_id": "",
       "version_major": 2,
       "version_minor": 0
      },
      "text/plain": [
       "Validation: 0it [00:00, ?it/s]"
      ]
     },
     "metadata": {},
     "output_type": "display_data"
    },
    {
     "name": "stderr",
     "output_type": "stream",
     "text": [
      "Epoch 6, global step 305: 'val_acc' was not in top 3\n"
     ]
    },
    {
     "data": {
      "application/vnd.jupyter.widget-view+json": {
       "model_id": "",
       "version_major": 2,
       "version_minor": 0
      },
      "text/plain": [
       "Validation: 0it [00:00, ?it/s]"
      ]
     },
     "metadata": {},
     "output_type": "display_data"
    },
    {
     "name": "stderr",
     "output_type": "stream",
     "text": [
      "Epoch 6, global step 328: 'val_acc' was not in top 3\n"
     ]
    },
    {
     "data": {
      "application/vnd.jupyter.widget-view+json": {
       "model_id": "9844fa0cb5194d0d98adc95d60f07481",
       "version_major": 2,
       "version_minor": 0
      },
      "text/plain": [
       "Predicting: 0it [00:00, ?it/s]"
      ]
     },
     "metadata": {},
     "output_type": "display_data"
    },
    {
     "data": {
      "application/vnd.jupyter.widget-view+json": {
       "model_id": "c625b51eaaac47cf9cac5b531f9ef8e3",
       "version_major": 2,
       "version_minor": 0
      },
      "text/plain": [
       "Predicting: 0it [00:00, ?it/s]"
      ]
     },
     "metadata": {},
     "output_type": "display_data"
    },
    {
     "data": {
      "application/vnd.jupyter.widget-view+json": {
       "model_id": "d3facb38acc64cf8b0fc324d95045cda",
       "version_major": 2,
       "version_minor": 0
      },
      "text/plain": [
       "Predicting: 0it [00:00, ?it/s]"
      ]
     },
     "metadata": {},
     "output_type": "display_data"
    },
    {
     "data": {
      "application/vnd.jupyter.widget-view+json": {
       "model_id": "3accecda580146479d2a17b8eff71c07",
       "version_major": 2,
       "version_minor": 0
      },
      "text/plain": [
       "Predicting: 0it [00:00, ?it/s]"
      ]
     },
     "metadata": {},
     "output_type": "display_data"
    },
    {
     "data": {
      "text/plain": [
       "<autogluon.text.text_prediction.predictor.TextPredictor at 0x7f5ddebd7040>"
      ]
     },
     "execution_count": 16,
     "metadata": {},
     "output_type": "execute_result"
    }
   ],
   "source": [
    "# Call the TextPredictor to fit the train data\n",
    "\n",
    "from autogluon.text import TextPredictor\n",
    "\n",
    "predictor = TextPredictor(label='ratings', problem_type='multiclass', eval_metric='acc', path=OUTPUT_DIR)\n",
    "\n",
    "# You can set a lower time_limit in seconds for a shorter training time. Example: predictor.fit(train_data, time_limit=600)\n",
    "\n",
    "predictor.fit(X_train)"
   ]
  },
  {
   "cell_type": "markdown",
   "id": "dcfab4d7-ef1c-458e-b395-a231ff953cd5",
   "metadata": {},
   "source": [
    "## Evaluate Performance\n",
    "\n",
    "After training, we can evaluate model performance using a the test dataset. By default, the evaluate() function reports the previously defined metric, i.e., accuracy. You can include additional metrics such as f1_micro score for evaluation."
   ]
  },
  {
   "cell_type": "code",
   "execution_count": 17,
   "id": "870e6bdd-e28e-4cd3-87db-02b1cc4c5f33",
   "metadata": {},
   "outputs": [
    {
     "data": {
      "application/vnd.jupyter.widget-view+json": {
       "model_id": "7cf61529d2e94351b4b9a1415358ce62",
       "version_major": 2,
       "version_minor": 0
      },
      "text/plain": [
       "Predicting: 0it [00:00, ?it/s]"
      ]
     },
     "metadata": {},
     "output_type": "display_data"
    },
    {
     "name": "stdout",
     "output_type": "stream",
     "text": [
      "{'accuracy': 0.8012048192771084, 'f1_micro': 0.8012048192771084}\n"
     ]
    }
   ],
   "source": [
    "# Evaluate the model performance with test data\n",
    "\n",
    "test_score = predictor.evaluate(X_test, metrics=['accuracy', 'f1_micro'])\n",
    "print(test_score)"
   ]
  },
  {
   "cell_type": "markdown",
   "id": "61ff83b3-e56b-4c1c-a851-6e4d2dfbe75c",
   "metadata": {},
   "source": [
    "## Predict\n",
    "\n",
    "Let's make predictions from the trained model by calling predictor.predict() function. First, we will identify some test sample reviews."
   ]
  },
  {
   "cell_type": "code",
   "execution_count": 18,
   "id": "53f237de-b193-49f1-a139-3dc4c723dd60",
   "metadata": {
    "tags": []
   },
   "outputs": [],
   "source": [
    "# Query test samples for positive and negative reviews\n",
    "\n",
    "positive_reviews = X_test.query('ratings > 3')\n",
    "negative_reviews = X_test.query('ratings <= 3')"
   ]
  },
  {
   "cell_type": "code",
   "execution_count": 19,
   "id": "c1d6de9e-b7b1-4376-a3a3-8ba2e34d284e",
   "metadata": {
    "tags": []
   },
   "outputs": [
    {
     "data": {
      "text/html": [
       "<div>\n",
       "<style scoped>\n",
       "    .dataframe tbody tr th:only-of-type {\n",
       "        vertical-align: middle;\n",
       "    }\n",
       "\n",
       "    .dataframe tbody tr th {\n",
       "        vertical-align: top;\n",
       "    }\n",
       "\n",
       "    .dataframe thead th {\n",
       "        text-align: right;\n",
       "    }\n",
       "</style>\n",
       "<table border=\"1\" class=\"dataframe\">\n",
       "  <thead>\n",
       "    <tr style=\"text-align: right;\">\n",
       "      <th></th>\n",
       "      <th>reviews</th>\n",
       "      <th>ratings</th>\n",
       "    </tr>\n",
       "  </thead>\n",
       "  <tbody>\n",
       "    <tr>\n",
       "      <th>4985</th>\n",
       "      <td>They taste really good and I would recommend it to anyone</td>\n",
       "      <td>4</td>\n",
       "    </tr>\n",
       "    <tr>\n",
       "      <th>3994</th>\n",
       "      <td>Tastes really good.</td>\n",
       "      <td>5</td>\n",
       "    </tr>\n",
       "    <tr>\n",
       "      <th>2820</th>\n",
       "      <td>Did not like the ginger taste.</td>\n",
       "      <td>5</td>\n",
       "    </tr>\n",
       "    <tr>\n",
       "      <th>2280</th>\n",
       "      <td>My favorite flavor. Like sparkling lemonade....So refreshing!</td>\n",
       "      <td>5</td>\n",
       "    </tr>\n",
       "    <tr>\n",
       "      <th>3149</th>\n",
       "      <td>Refreshing</td>\n",
       "      <td>5</td>\n",
       "    </tr>\n",
       "    <tr>\n",
       "      <th>...</th>\n",
       "      <td>...</td>\n",
       "      <td>...</td>\n",
       "    </tr>\n",
       "    <tr>\n",
       "      <th>4092</th>\n",
       "      <td>Sparkling ICE is the best! They are tasty, calorie free, bubbly, and inexpensive. Buying on amazon is less expensive than at the grocery store, so I order these all the time.</td>\n",
       "      <td>5</td>\n",
       "    </tr>\n",
       "    <tr>\n",
       "      <th>4013</th>\n",
       "      <td>love this stuff</td>\n",
       "      <td>4</td>\n",
       "    </tr>\n",
       "    <tr>\n",
       "      <th>620</th>\n",
       "      <td>We love this and had been paying more per bottle at the grocery.  I love being able to get this for cheaper and like the combination of flavors.</td>\n",
       "      <td>5</td>\n",
       "    </tr>\n",
       "    <tr>\n",
       "      <th>4745</th>\n",
       "      <td>Product came pre-opened with two inches of product missing.</td>\n",
       "      <td>4</td>\n",
       "    </tr>\n",
       "    <tr>\n",
       "      <th>4313</th>\n",
       "      <td>good taste n price</td>\n",
       "      <td>5</td>\n",
       "    </tr>\n",
       "  </tbody>\n",
       "</table>\n",
       "<p>809 rows × 2 columns</p>\n",
       "</div>"
      ],
      "text/plain": [
       "                                                                                                                                                                             reviews  \\\n",
       "4985                                                                                                                       They taste really good and I would recommend it to anyone   \n",
       "3994                                                                                                                                                             Tastes really good.   \n",
       "2820                                                                                                                                                  Did not like the ginger taste.   \n",
       "2280                                                                                                                   My favorite flavor. Like sparkling lemonade....So refreshing!   \n",
       "3149                                                                                                                                                                      Refreshing   \n",
       "...                                                                                                                                                                              ...   \n",
       "4092  Sparkling ICE is the best! They are tasty, calorie free, bubbly, and inexpensive. Buying on amazon is less expensive than at the grocery store, so I order these all the time.   \n",
       "4013                                                                                                                                                                 love this stuff   \n",
       "620                                 We love this and had been paying more per bottle at the grocery.  I love being able to get this for cheaper and like the combination of flavors.   \n",
       "4745                                                                                                                     Product came pre-opened with two inches of product missing.   \n",
       "4313                                                                                                                                                              good taste n price   \n",
       "\n",
       "      ratings  \n",
       "4985        4  \n",
       "3994        5  \n",
       "2820        5  \n",
       "2280        5  \n",
       "3149        5  \n",
       "...       ...  \n",
       "4092        5  \n",
       "4013        4  \n",
       "620         5  \n",
       "4745        4  \n",
       "4313        5  \n",
       "\n",
       "[809 rows x 2 columns]"
      ]
     },
     "metadata": {},
     "output_type": "display_data"
    }
   ],
   "source": [
    "# View sample positive reviews\n",
    "\n",
    "with pd.option_context('display.max_colwidth', None):\n",
    "  display(positive_reviews)"
   ]
  },
  {
   "cell_type": "code",
   "execution_count": 20,
   "id": "4eea78a7-c4bf-47d1-83ce-c40594986778",
   "metadata": {
    "tags": []
   },
   "outputs": [
    {
     "data": {
      "text/html": [
       "<div>\n",
       "<style scoped>\n",
       "    .dataframe tbody tr th:only-of-type {\n",
       "        vertical-align: middle;\n",
       "    }\n",
       "\n",
       "    .dataframe tbody tr th {\n",
       "        vertical-align: top;\n",
       "    }\n",
       "\n",
       "    .dataframe thead th {\n",
       "        text-align: right;\n",
       "    }\n",
       "</style>\n",
       "<table border=\"1\" class=\"dataframe\">\n",
       "  <thead>\n",
       "    <tr style=\"text-align: right;\">\n",
       "      <th></th>\n",
       "      <th>reviews</th>\n",
       "      <th>ratings</th>\n",
       "    </tr>\n",
       "  </thead>\n",
       "  <tbody>\n",
       "    <tr>\n",
       "      <th>5756</th>\n",
       "      <td>Just love this stuff!</td>\n",
       "      <td>2</td>\n",
       "    </tr>\n",
       "    <tr>\n",
       "      <th>8177</th>\n",
       "      <td>It tastes terrible all by itself, but if you pour a 50/50 mix with club soda it is almost perfect. It is unbelievably sweet all alone. Tastes kind if like snow cone juice..</td>\n",
       "      <td>2</td>\n",
       "    </tr>\n",
       "    <tr>\n",
       "      <th>4812</th>\n",
       "      <td>Love it. Tases is awesome! Just don’t like the sugar substitute for health reasons.</td>\n",
       "      <td>1</td>\n",
       "    </tr>\n",
       "    <tr>\n",
       "      <th>7871</th>\n",
       "      <td>Although the water tastes fine, I’m concerned that the plastic bottles and caps are discolored.  Maybe these bottles are stored in too hot a warehouse.  The ones I buy at the store are not discolored</td>\n",
       "      <td>2</td>\n",
       "    </tr>\n",
       "    <tr>\n",
       "      <th>7067</th>\n",
       "      <td>I have been ordering this for months but this last batch was old or bad and faded I had to return</td>\n",
       "      <td>2</td>\n",
       "    </tr>\n",
       "    <tr>\n",
       "      <th>...</th>\n",
       "      <td>...</td>\n",
       "      <td>...</td>\n",
       "    </tr>\n",
       "    <tr>\n",
       "      <th>5214</th>\n",
       "      <td>I like having Sparkling Ice on hand as it's very refreshing plus the bonus of getting the anti-oxidants and vitamins and no sugar.  I recently tried the ginger-lime for the first time and was surprised how much I liked it.  It has become my new favorite flavor, plus I got a better deal on it in my subscribe and save.</td>\n",
       "      <td>2</td>\n",
       "    </tr>\n",
       "    <tr>\n",
       "      <th>7126</th>\n",
       "      <td>Yummy</td>\n",
       "      <td>2</td>\n",
       "    </tr>\n",
       "    <tr>\n",
       "      <th>1544</th>\n",
       "      <td>Bought the sampler pack and my mom loved these and I loved the cherry limeade so I bought us each a pack of our faves.</td>\n",
       "      <td>1</td>\n",
       "    </tr>\n",
       "    <tr>\n",
       "      <th>7899</th>\n",
       "      <td>This is a good product.  I love the taste.  The price at the time was great.  However, the price went way up and I have not ordered any more.</td>\n",
       "      <td>2</td>\n",
       "    </tr>\n",
       "    <tr>\n",
       "      <th>6994</th>\n",
       "      <td>I am a follower of the ICE waters. I tried the variety pack to try a couple of newer flavors. Since this is a rare indulgence for me, I quite enjoy each flavor and will watch for a great sale on these. A bit pricey, so I gave it only 4 stars.</td>\n",
       "      <td>2</td>\n",
       "    </tr>\n",
       "  </tbody>\n",
       "</table>\n",
       "<p>851 rows × 2 columns</p>\n",
       "</div>"
      ],
      "text/plain": [
       "                                                                                                                                                                                                                                                                                                                             reviews  \\\n",
       "5756                                                                                                                                                                                                                                                                                                           Just love this stuff!   \n",
       "8177                                                                                                                                                    It tastes terrible all by itself, but if you pour a 50/50 mix with club soda it is almost perfect. It is unbelievably sweet all alone. Tastes kind if like snow cone juice..   \n",
       "4812                                                                                                                                                                                                                                             Love it. Tases is awesome! Just don’t like the sugar substitute for health reasons.   \n",
       "7871                                                                                                                         Although the water tastes fine, I’m concerned that the plastic bottles and caps are discolored.  Maybe these bottles are stored in too hot a warehouse.  The ones I buy at the store are not discolored   \n",
       "7067                                                                                                                                                                                                                               I have been ordering this for months but this last batch was old or bad and faded I had to return   \n",
       "...                                                                                                                                                                                                                                                                                                                              ...   \n",
       "5214  I like having Sparkling Ice on hand as it's very refreshing plus the bonus of getting the anti-oxidants and vitamins and no sugar.  I recently tried the ginger-lime for the first time and was surprised how much I liked it.  It has become my new favorite flavor, plus I got a better deal on it in my subscribe and save.   \n",
       "7126                                                                                                                                                                                                                                                                                                                           Yummy   \n",
       "1544                                                                                                                                                                                                          Bought the sampler pack and my mom loved these and I loved the cherry limeade so I bought us each a pack of our faves.   \n",
       "7899                                                                                                                                                                                   This is a good product.  I love the taste.  The price at the time was great.  However, the price went way up and I have not ordered any more.   \n",
       "6994                                                                              I am a follower of the ICE waters. I tried the variety pack to try a couple of newer flavors. Since this is a rare indulgence for me, I quite enjoy each flavor and will watch for a great sale on these. A bit pricey, so I gave it only 4 stars.   \n",
       "\n",
       "      ratings  \n",
       "5756        2  \n",
       "8177        2  \n",
       "4812        1  \n",
       "7871        2  \n",
       "7067        2  \n",
       "...       ...  \n",
       "5214        2  \n",
       "7126        2  \n",
       "1544        1  \n",
       "7899        2  \n",
       "6994        2  \n",
       "\n",
       "[851 rows x 2 columns]"
      ]
     },
     "metadata": {},
     "output_type": "display_data"
    }
   ],
   "source": [
    "# View sample negative reviews\n",
    "\n",
    "with pd.option_context('display.max_colwidth', None):\n",
    "  display(negative_reviews)"
   ]
  },
  {
   "cell_type": "code",
   "execution_count": 21,
   "id": "19a8ae36-869a-43cc-83f8-71b5567c3a43",
   "metadata": {
    "tags": []
   },
   "outputs": [
    {
     "name": "stdout",
     "output_type": "stream",
     "text": [
      "Product Review: Sparkling ICE is the best! They are tasty, calorie free, bubbly, and inexpensive. Buying on amazon is less expensive than at the grocery store, so I order these all the time. \n",
      "Predicted Rating: 5\n",
      "Product Review: I have been ordering this for months but this last batch was old or bad and faded I had to return \n",
      "Predicted Rating: 2\n"
     ]
    }
   ],
   "source": [
    "# Predict the ratings for individual reviews\n",
    "\n",
    "review1 = \"Sparkling ICE is the best! They are tasty, calorie free, bubbly, and inexpensive. Buying on amazon is less expensive than at the grocery store, so I order these all the time.\"\n",
    "review2 = \"I have been ordering this for months but this last batch was old or bad and faded I had to return\"\n",
    "\n",
    "predictions = predictor.predict({'reviews': [review1, review2]})\n",
    "print(f'Product Review: {review1} \\nPredicted Rating: {predictions.iloc[0]}')\n",
    "print(f'Product Review: {review2} \\nPredicted Rating: {predictions.iloc[1]}')"
   ]
  },
  {
   "cell_type": "markdown",
   "id": "578dc0f6-29a7-40b5-bcdb-afc5f4f2bf0e",
   "metadata": {},
   "source": [
    "Besides predicted classes, we can obtain predicted class-probabilities."
   ]
  },
  {
   "cell_type": "code",
   "execution_count": 22,
   "id": "d909acb8-7c24-4cbf-b50a-ccc65e560a8a",
   "metadata": {},
   "outputs": [
    {
     "name": "stdout",
     "output_type": "stream",
     "text": [
      "Product Review: Sparkling ICE is the best! They are tasty, calorie free, bubbly, and inexpensive. Buying on amazon is less expensive than at the grocery store, so I order these all the time. \n",
      "Predicted Class-Probabilities:\n",
      "1    0.158037\n",
      "2    0.250578\n",
      "3    0.042650\n",
      "4    0.133276\n",
      "5    0.415459\n",
      "Name: 0, dtype: float32\n",
      "Product Review: I have been ordering this for months but this last batch was old or bad and faded I had to return \n",
      "Predicted Class-Probabilities:\n",
      "1    0.000047\n",
      "2    0.999846\n",
      "3    0.000051\n",
      "4    0.000025\n",
      "5    0.000030\n",
      "Name: 1, dtype: float32\n"
     ]
    }
   ],
   "source": [
    "# Predicted class-probabilities instead of predicted classes\n",
    "\n",
    "probs = predictor.predict_proba({'reviews': [review1, review2]})\n",
    "print(f'Product Review: {review1} \\nPredicted Class-Probabilities:\\n{probs.iloc[0]}')\n",
    "print(f'Product Review: {review2} \\nPredicted Class-Probabilities:\\n{probs.iloc[1]}')"
   ]
  },
  {
   "cell_type": "markdown",
   "id": "839633c6-a060-43c9-9e7d-f226eeea581c",
   "metadata": {},
   "source": [
    "Let's produce predictions over an entire test data."
   ]
  },
  {
   "cell_type": "code",
   "execution_count": 23,
   "id": "01d17b4e-4843-49f3-a33e-3e35d286bcfd",
   "metadata": {},
   "outputs": [
    {
     "data": {
      "application/vnd.jupyter.widget-view+json": {
       "model_id": "73e84450df1d4311945773097c1b0f10",
       "version_major": 2,
       "version_minor": 0
      },
      "text/plain": [
       "Predicting: 0it [00:00, ?it/s]"
      ]
     },
     "metadata": {},
     "output_type": "display_data"
    }
   ],
   "source": [
    "# Produce predictions over an entire test dataset\n",
    "test_predictions = predictor.predict(X_test)"
   ]
  },
  {
   "cell_type": "markdown",
   "id": "6d4c4ee4-5dc5-4600-b38b-7a31dc12045a",
   "metadata": {},
   "source": [
    "## Save and Load the Model\n",
    "\n",
    "The fit function automatically saves the trained predictor at the end of training process. We can reload it for prediction. Alternatively, you can save the model to a desired location."
   ]
  },
  {
   "cell_type": "code",
   "execution_count": 24,
   "id": "27811f79-0d64-41b9-b332-63bcbdca8eb3",
   "metadata": {},
   "outputs": [
    {
     "data": {
      "text/html": [
       "<div>\n",
       "<style scoped>\n",
       "    .dataframe tbody tr th:only-of-type {\n",
       "        vertical-align: middle;\n",
       "    }\n",
       "\n",
       "    .dataframe tbody tr th {\n",
       "        vertical-align: top;\n",
       "    }\n",
       "\n",
       "    .dataframe thead th {\n",
       "        text-align: right;\n",
       "    }\n",
       "</style>\n",
       "<table border=\"1\" class=\"dataframe\">\n",
       "  <thead>\n",
       "    <tr style=\"text-align: right;\">\n",
       "      <th></th>\n",
       "      <th>1</th>\n",
       "      <th>2</th>\n",
       "      <th>3</th>\n",
       "      <th>4</th>\n",
       "      <th>5</th>\n",
       "    </tr>\n",
       "  </thead>\n",
       "  <tbody>\n",
       "    <tr>\n",
       "      <th>0</th>\n",
       "      <td>0.158037</td>\n",
       "      <td>0.250578</td>\n",
       "      <td>0.042650</td>\n",
       "      <td>0.133276</td>\n",
       "      <td>0.415459</td>\n",
       "    </tr>\n",
       "    <tr>\n",
       "      <th>1</th>\n",
       "      <td>0.000047</td>\n",
       "      <td>0.999846</td>\n",
       "      <td>0.000051</td>\n",
       "      <td>0.000025</td>\n",
       "      <td>0.000030</td>\n",
       "    </tr>\n",
       "  </tbody>\n",
       "</table>\n",
       "</div>"
      ],
      "text/plain": [
       "          1         2         3         4         5\n",
       "0  0.158037  0.250578  0.042650  0.133276  0.415459\n",
       "1  0.000047  0.999846  0.000051  0.000025  0.000030"
      ]
     },
     "execution_count": 24,
     "metadata": {},
     "output_type": "execute_result"
    }
   ],
   "source": [
    "## You can reload the trained predictor saved by fit(). \n",
    "\n",
    "loaded_predictor = TextPredictor.load('ag_food_reviews')\n",
    "loaded_predictor.predict_proba({'reviews': [review1, review2]})"
   ]
  },
  {
   "cell_type": "code",
   "execution_count": 25,
   "id": "09d0dca0-d57f-4cef-b9e6-293a795d36c2",
   "metadata": {
    "tags": []
   },
   "outputs": [
    {
     "data": {
      "text/html": [
       "<div>\n",
       "<style scoped>\n",
       "    .dataframe tbody tr th:only-of-type {\n",
       "        vertical-align: middle;\n",
       "    }\n",
       "\n",
       "    .dataframe tbody tr th {\n",
       "        vertical-align: top;\n",
       "    }\n",
       "\n",
       "    .dataframe thead th {\n",
       "        text-align: right;\n",
       "    }\n",
       "</style>\n",
       "<table border=\"1\" class=\"dataframe\">\n",
       "  <thead>\n",
       "    <tr style=\"text-align: right;\">\n",
       "      <th></th>\n",
       "      <th>1</th>\n",
       "      <th>2</th>\n",
       "      <th>3</th>\n",
       "      <th>4</th>\n",
       "      <th>5</th>\n",
       "    </tr>\n",
       "  </thead>\n",
       "  <tbody>\n",
       "    <tr>\n",
       "      <th>0</th>\n",
       "      <td>0.158037</td>\n",
       "      <td>0.250578</td>\n",
       "      <td>0.042650</td>\n",
       "      <td>0.133276</td>\n",
       "      <td>0.415459</td>\n",
       "    </tr>\n",
       "    <tr>\n",
       "      <th>1</th>\n",
       "      <td>0.000047</td>\n",
       "      <td>0.999846</td>\n",
       "      <td>0.000051</td>\n",
       "      <td>0.000025</td>\n",
       "      <td>0.000030</td>\n",
       "    </tr>\n",
       "  </tbody>\n",
       "</table>\n",
       "</div>"
      ],
      "text/plain": [
       "          1         2         3         4         5\n",
       "0  0.158037  0.250578  0.042650  0.133276  0.415459\n",
       "1  0.000047  0.999846  0.000051  0.000025  0.000030"
      ]
     },
     "execution_count": 25,
     "metadata": {},
     "output_type": "execute_result"
    }
   ],
   "source": [
    "# Alternatively, save the predictor to a custom location\n",
    "\n",
    "loaded_predictor.save('my_saved_dir')\n",
    "loaded_predictor2 = TextPredictor.load('my_saved_dir')\n",
    "loaded_predictor2.predict_proba({'reviews': [review1, review2]})"
   ]
  },
  {
   "cell_type": "markdown",
   "id": "18292b8d-03bf-47d7-a97c-0dabebe1643b",
   "metadata": {},
   "source": [
    "## Extract Embeddings\n",
    "\n",
    "We can use a trained predictor to extract embeddings that map each data table row to an intermediate neural network representation of the row. "
   ]
  },
  {
   "cell_type": "code",
   "execution_count": 26,
   "id": "77afb221-6e75-414b-be85-baf1b4a1edd0",
   "metadata": {},
   "outputs": [
    {
     "data": {
      "application/vnd.jupyter.widget-view+json": {
       "model_id": "9f81bb1f15574d9bb04b26f7dfb2efa3",
       "version_major": 2,
       "version_minor": 0
      },
      "text/plain": [
       "Predicting: 0it [00:00, ?it/s]"
      ]
     },
     "metadata": {},
     "output_type": "display_data"
    },
    {
     "name": "stdout",
     "output_type": "stream",
     "text": [
      "[[-0.6521491  -0.26700833  0.09421055 ...  0.29980472  0.44825974\n",
      "   0.7461777 ]\n",
      " [ 0.00520702  0.68804175  0.02289832 ...  0.5043433   0.2496965\n",
      "  -0.26859117]\n",
      " [ 0.14096348  0.6670949   0.0537451  ...  0.46771514  0.09381741\n",
      "  -0.37640372]\n",
      " ...\n",
      " [ 0.2750097  -0.34764984  0.1748297  ... -0.64605737  0.5334411\n",
      "   0.12582716]\n",
      " [ 0.19423327  0.51381886  0.03548399 ...  0.3546247   0.25145265\n",
      "  -0.6742987 ]\n",
      " [-0.65595    -0.77710974 -0.42872536 ... -0.7155813   0.6250126\n",
      "   0.1075721 ]]\n"
     ]
    }
   ],
   "source": [
    "embeddings = predictor.extract_embedding(X_test)\n",
    "print(embeddings)"
   ]
  },
  {
   "cell_type": "markdown",
   "id": "09650a69-c6fe-491e-a35c-c613a99f6585",
   "metadata": {},
   "source": [
    "Using TSNE, we can see the extracted embeddings of test data correspond to 5 target labels."
   ]
  },
  {
   "cell_type": "code",
   "execution_count": 27,
   "id": "32b0f0f9-a444-45c1-a5a8-5c5ea761c74d",
   "metadata": {},
   "outputs": [
    {
     "data": {
      "text/plain": [
       "<matplotlib.legend.Legend at 0x7f5df22d79d0>"
      ]
     },
     "execution_count": 27,
     "metadata": {},
     "output_type": "execute_result"
    },
    {
     "data": {
      "image/png": "[encoded data removed]",
      "text/plain": [
       "<Figure size 1440x720 with 1 Axes>"
      ]
     },
     "metadata": {
      "needs_background": "light"
     },
     "output_type": "display_data"
    }
   ],
   "source": [
    "from sklearn.manifold import TSNE\n",
    "\n",
    "plt.rcParams[\"figure.figsize\"] = (20,10)\n",
    "\n",
    "X_embedded = TSNE(n_components=2, random_state=123).fit_transform(embeddings)\n",
    "for val, color in [(1, 'red'), (2, 'purple'), (3, 'blue'), (4, 'orange'), (5, 'green')]:\n",
    "    idx = (X_test['ratings'].to_numpy() == val).nonzero()\n",
    "    plt.scatter(X_embedded[idx, 0], X_embedded[idx, 1], c=color, label=f'label={val}')\n",
    "plt.legend(loc='best')"
   ]
  },
  {
   "cell_type": "markdown",
   "id": "a4e4db4f-8f34-4803-9329-e92b7814f86f",
   "metadata": {},
   "source": [
    "This concludes the multiclass text classification walkthrough using AutoGluon."
   ]
  },
  {
   "cell_type": "code",
   "execution_count": null,
   "id": "bc690443-66a2-43ec-97f5-d0fe93de5b56",
   "metadata": {},
   "outputs": [],
   "source": []
  }
 ],
 "metadata": {
  "instance_type": "ml.g4dn.xlarge",
  "kernelspec": {
   "display_name": "Python 3 (TensorFlow 2.6 Python 3.8 CPU Optimized)",
   "language": "python",
   "name": "python3__SAGEMAKER_INTERNAL__arn:aws:sagemaker:us-east-1:081325390199:image/tensorflow-2.6-cpu-py38-ubuntu20.04-v1"
  },
  "language_info": {
   "codemirror_mode": {
    "name": "ipython",
    "version": 3
   },
   "file_extension": ".py",
   "mimetype": "text/x-python",
   "name": "python",
   "nbconvert_exporter": "python",
   "pygments_lexer": "ipython3",
   "version": "3.8.2"
  }
 },
 "nbformat": 4,
 "nbformat_minor": 5
}
