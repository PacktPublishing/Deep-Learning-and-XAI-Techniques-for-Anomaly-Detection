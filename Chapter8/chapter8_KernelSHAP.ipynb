{
 "cells": [
  {
   "cell_type": "markdown",
   "id": "b51b92e4",
   "metadata": {},
   "source": [
    "# Chapter 6 - Model-agnostic versus Model-specific Explainability\n",
    "\n",
    "SHAP values show the impact of each feature for a given prediction and the overall model behavior in the decision-making process. This notebook provides a walkthrough of assessing explainability using **KernelSHAP**, a model-agnostic method implemented in the SHAP library. We will use the [pet adoption dataset](https://github.com/aws-samples/aws-machine-learning-university-accelerated-tab/tree/master/data/review) consolidated by [Amazon Machine Learning University(MLU)](https://aws.amazon.com/machine-learning/mlu/). This notebook is tested with TensorFlow 2.10.1 and Python 3.9.10 using Amazon SageMaker Studio ml.m5.8xlarge general-purpose instance with 32 vCPU and 128 GiB. [Link](https://aws.amazon.com/sagemaker/pricing/) for instance pricing reference. Alternatively, you can try this on your preferred IDE."
   ]
  },
  {
   "cell_type": "markdown",
   "id": "2e54dd68-ef3a-42cb-ac81-0741c6a0f709",
   "metadata": {
    "tags": []
   },
   "source": [
    "## Install and load libraries"
   ]
  },
  {
   "cell_type": "code",
   "execution_count": 2,
   "id": "5f00e1ed",
   "metadata": {
    "tags": []
   },
   "outputs": [
    {
     "name": "stdout",
     "output_type": "stream",
     "text": [
      "Requirement already satisfied: shap in /usr/local/lib/python3.9/site-packages (0.41.0)\n",
      "Requirement already satisfied: imblearn in /usr/local/lib/python3.9/site-packages (0.0)\n",
      "Requirement already satisfied: numba in /usr/local/lib/python3.9/site-packages (from shap) (0.53.1)\n",
      "Requirement already satisfied: tqdm>4.25.0 in /usr/local/lib/python3.9/site-packages (from shap) (4.64.1)\n",
      "Requirement already satisfied: numpy in /usr/local/lib/python3.9/site-packages (from shap) (1.23.5)\n",
      "Requirement already satisfied: pandas in /usr/local/lib/python3.9/site-packages (from shap) (1.5.2)\n",
      "Requirement already satisfied: slicer==0.0.7 in /usr/local/lib/python3.9/site-packages (from shap) (0.0.7)\n",
      "Requirement already satisfied: cloudpickle in /usr/local/lib/python3.9/site-packages (from shap) (2.2.0)\n",
      "Requirement already satisfied: scipy in /usr/local/lib/python3.9/site-packages (from shap) (1.8.0)\n",
      "Requirement already satisfied: scikit-learn in /usr/local/lib/python3.9/site-packages (from shap) (1.1.3)\n",
      "Requirement already satisfied: packaging>20.9 in /usr/local/lib/python3.9/site-packages (from shap) (21.3)\n",
      "Requirement already satisfied: imbalanced-learn in /usr/local/lib/python3.9/site-packages (from imblearn) (0.10.0)\n",
      "Requirement already satisfied: pyparsing!=3.0.5,>=2.0.2 in /usr/local/lib/python3.9/site-packages (from packaging>20.9->shap) (3.0.9)\n",
      "Requirement already satisfied: threadpoolctl>=2.0.0 in /usr/local/lib/python3.9/site-packages (from imbalanced-learn->imblearn) (3.1.0)\n",
      "Requirement already satisfied: joblib>=1.1.1 in /usr/local/lib/python3.9/site-packages (from imbalanced-learn->imblearn) (1.2.0)\n",
      "Requirement already satisfied: setuptools in /usr/local/lib/python3.9/site-packages (from numba->shap) (65.6.3)\n",
      "Requirement already satisfied: llvmlite<0.37,>=0.36.0rc1 in /usr/local/lib/python3.9/site-packages (from numba->shap) (0.36.0)\n",
      "Requirement already satisfied: pytz>=2020.1 in /usr/local/lib/python3.9/site-packages (from pandas->shap) (2022.6)\n",
      "Requirement already satisfied: python-dateutil>=2.8.1 in /usr/local/lib/python3.9/site-packages (from pandas->shap) (2.8.2)\n",
      "Requirement already satisfied: six>=1.5 in /usr/local/lib/python3.9/site-packages (from python-dateutil>=2.8.1->pandas->shap) (1.16.0)\n",
      "\u001b[33mWARNING: Running pip as the 'root' user can result in broken permissions and conflicting behaviour with the system package manager. It is recommended to use a virtual environment instead: https://pip.pypa.io/warnings/venv\u001b[0m\u001b[33m\n",
      "\u001b[0m"
     ]
    }
   ],
   "source": [
    "#install SHAP\n",
    "\n",
    "!pip install shap imblearn"
   ]
  },
  {
   "cell_type": "code",
   "execution_count": 3,
   "id": "34a268be",
   "metadata": {
    "tags": []
   },
   "outputs": [
    {
     "name": "stdout",
     "output_type": "stream",
     "text": [
      "TensorFlow version: 2.10.1\n",
      "Python version: 3.9.10\n"
     ]
    }
   ],
   "source": [
    "# Load libraries\n",
    "\n",
    "%matplotlib inline\n",
    "\n",
    "import tensorflow as tf\n",
    "from sklearn.model_selection import train_test_split\n",
    "import matplotlib.pyplot as plt\n",
    "import pandas as pd\n",
    "import numpy as np\n",
    "import sklearn\n",
    "import shap\n",
    "import os\n",
    "import re\n",
    "import string\n",
    "from platform import python_version\n",
    "import warnings\n",
    "\n",
    "warnings.filterwarnings(\"ignore\")\n",
    "\n",
    "os.environ[\"TF_CPP_MIN_LOG_LEVEL\"] = \"3\"\n",
    "\n",
    "print(f'TensorFlow version: {tf.__version__}')\n",
    "print(f'Python version: {python_version()}')"
   ]
  },
  {
   "cell_type": "markdown",
   "id": "57669649-482c-4bd9-9c4d-490dac516fe6",
   "metadata": {
    "tags": []
   },
   "source": [
    "## Prepare the dataset\n",
    "\n",
    "Load and explore the pet_adoption.csv dataset. Data schema:\n",
    "- **Pet ID** - Unique ID of pet\n",
    "- **Outcome Type** - State of pet at the time of recording the outcome (0 = not placed, 1 = placed). This is the target label to predict.\n",
    "- **Sex upon Outcome** - Sex of pet at outcome\n",
    "- **Name** - Name of pet\n",
    "- **Found Location** - Found location of pet before entered the center\n",
    "- **Intake Type** - Circumstances bringing the pet to the center\n",
    "- **Intake Condition** - Health condition of pet when entered the center\n",
    "- **Pet Type** - Type of pet\n",
    "- **Sex upon Intake** - Sex of pet when entered the center\n",
    "- **Breed** - Breed of pet\n",
    "- **Color** - Color of pet\n",
    "- **Age upon Intake Days** - Age of pet when entered the center (days)\n",
    "- **Age upon Outcome Days** - Age of pet at outcome (days)"
   ]
  },
  {
   "cell_type": "code",
   "execution_count": 4,
   "id": "f47b1349",
   "metadata": {
    "tags": []
   },
   "outputs": [
    {
     "data": {
      "text/html": [
       "<div>\n",
       "<style scoped>\n",
       "    .dataframe tbody tr th:only-of-type {\n",
       "        vertical-align: middle;\n",
       "    }\n",
       "\n",
       "    .dataframe tbody tr th {\n",
       "        vertical-align: top;\n",
       "    }\n",
       "\n",
       "    .dataframe thead th {\n",
       "        text-align: right;\n",
       "    }\n",
       "</style>\n",
       "<table border=\"1\" class=\"dataframe\">\n",
       "  <thead>\n",
       "    <tr style=\"text-align: right;\">\n",
       "      <th></th>\n",
       "      <th>Outcome Type</th>\n",
       "      <th>Sex upon Outcome</th>\n",
       "      <th>Name</th>\n",
       "      <th>Found Location</th>\n",
       "      <th>Intake Type</th>\n",
       "      <th>Intake Condition</th>\n",
       "      <th>Pet Type</th>\n",
       "      <th>Sex upon Intake</th>\n",
       "      <th>Breed</th>\n",
       "      <th>Color</th>\n",
       "      <th>Age upon Intake Days</th>\n",
       "      <th>Age upon Outcome Days</th>\n",
       "    </tr>\n",
       "  </thead>\n",
       "  <tbody>\n",
       "    <tr>\n",
       "      <th>0</th>\n",
       "      <td>1.0</td>\n",
       "      <td>Neutered Male</td>\n",
       "      <td>Chunk</td>\n",
       "      <td>Austin (TX)</td>\n",
       "      <td>Owner Surrender</td>\n",
       "      <td>Normal</td>\n",
       "      <td>Cat</td>\n",
       "      <td>Neutered Male</td>\n",
       "      <td>Domestic Shorthair Mix</td>\n",
       "      <td>Brown Tabby/White</td>\n",
       "      <td>730.0</td>\n",
       "      <td>730.0</td>\n",
       "    </tr>\n",
       "    <tr>\n",
       "      <th>1</th>\n",
       "      <td>1.0</td>\n",
       "      <td>Neutered Male</td>\n",
       "      <td>Gizmo</td>\n",
       "      <td>7201 Levander Loop in Austin (TX)</td>\n",
       "      <td>Stray</td>\n",
       "      <td>Normal</td>\n",
       "      <td>Dog</td>\n",
       "      <td>Intact Male</td>\n",
       "      <td>Chihuahua Shorthair Mix</td>\n",
       "      <td>White/Brown</td>\n",
       "      <td>365.0</td>\n",
       "      <td>365.0</td>\n",
       "    </tr>\n",
       "    <tr>\n",
       "      <th>2</th>\n",
       "      <td>0.0</td>\n",
       "      <td>Intact Male</td>\n",
       "      <td>NaN</td>\n",
       "      <td>12034 Research in Austin (TX)</td>\n",
       "      <td>Stray</td>\n",
       "      <td>Nursing</td>\n",
       "      <td>Cat</td>\n",
       "      <td>Intact Male</td>\n",
       "      <td>Domestic Shorthair Mix</td>\n",
       "      <td>Orange Tabby</td>\n",
       "      <td>6.0</td>\n",
       "      <td>6.0</td>\n",
       "    </tr>\n",
       "    <tr>\n",
       "      <th>3</th>\n",
       "      <td>1.0</td>\n",
       "      <td>Neutered Male</td>\n",
       "      <td>*Donatello</td>\n",
       "      <td>2300 Waterway Bnd in Austin (TX)</td>\n",
       "      <td>Stray</td>\n",
       "      <td>Normal</td>\n",
       "      <td>Cat</td>\n",
       "      <td>Intact Male</td>\n",
       "      <td>Domestic Shorthair Mix</td>\n",
       "      <td>Black</td>\n",
       "      <td>60.0</td>\n",
       "      <td>60.0</td>\n",
       "    </tr>\n",
       "    <tr>\n",
       "      <th>4</th>\n",
       "      <td>1.0</td>\n",
       "      <td>Neutered Male</td>\n",
       "      <td>*Zeus</td>\n",
       "      <td>4701 Staggerbrush Rd in Austin (TX)</td>\n",
       "      <td>Stray</td>\n",
       "      <td>Nursing</td>\n",
       "      <td>Cat</td>\n",
       "      <td>Intact Male</td>\n",
       "      <td>Domestic Shorthair Mix</td>\n",
       "      <td>White/Orange Tabby</td>\n",
       "      <td>7.0</td>\n",
       "      <td>60.0</td>\n",
       "    </tr>\n",
       "  </tbody>\n",
       "</table>\n",
       "</div>"
      ],
      "text/plain": [
       "   Outcome Type Sex upon Outcome        Name  \\\n",
       "0           1.0    Neutered Male       Chunk   \n",
       "1           1.0    Neutered Male       Gizmo   \n",
       "2           0.0      Intact Male         NaN   \n",
       "3           1.0    Neutered Male  *Donatello   \n",
       "4           1.0    Neutered Male       *Zeus   \n",
       "\n",
       "                        Found Location      Intake Type Intake Condition  \\\n",
       "0                          Austin (TX)  Owner Surrender           Normal   \n",
       "1    7201 Levander Loop in Austin (TX)            Stray           Normal   \n",
       "2        12034 Research in Austin (TX)            Stray          Nursing   \n",
       "3     2300 Waterway Bnd in Austin (TX)            Stray           Normal   \n",
       "4  4701 Staggerbrush Rd in Austin (TX)            Stray          Nursing   \n",
       "\n",
       "  Pet Type Sex upon Intake                    Breed               Color  \\\n",
       "0      Cat   Neutered Male   Domestic Shorthair Mix   Brown Tabby/White   \n",
       "1      Dog     Intact Male  Chihuahua Shorthair Mix         White/Brown   \n",
       "2      Cat     Intact Male   Domestic Shorthair Mix        Orange Tabby   \n",
       "3      Cat     Intact Male   Domestic Shorthair Mix               Black   \n",
       "4      Cat     Intact Male   Domestic Shorthair Mix  White/Orange Tabby   \n",
       "\n",
       "   Age upon Intake Days  Age upon Outcome Days  \n",
       "0                 730.0                  730.0  \n",
       "1                 365.0                  365.0  \n",
       "2                   6.0                    6.0  \n",
       "3                  60.0                   60.0  \n",
       "4                   7.0                   60.0  "
      ]
     },
     "execution_count": 4,
     "metadata": {},
     "output_type": "execute_result"
    }
   ],
   "source": [
    "# Load dataset and drop Pet ID column\n",
    "\n",
    "df = pd.read_csv('./pet_adoption.csv')\n",
    "df = df.drop(['Pet ID'], axis=1)\n",
    "df.head(5)"
   ]
  },
  {
   "cell_type": "code",
   "execution_count": 5,
   "id": "7eba8233-a7fb-4df5-a41c-b7d0c83c1be2",
   "metadata": {
    "tags": []
   },
   "outputs": [
    {
     "data": {
      "text/plain": [
       "Outcome Type             0\n",
       "Sex upon Outcome         0\n",
       "Name                     0\n",
       "Found Location           0\n",
       "Intake Type              0\n",
       "Intake Condition         0\n",
       "Pet Type                 0\n",
       "Sex upon Intake          0\n",
       "Breed                    0\n",
       "Color                    0\n",
       "Age upon Intake Days     0\n",
       "Age upon Outcome Days    0\n",
       "dtype: int64"
      ]
     },
     "execution_count": 5,
     "metadata": {},
     "output_type": "execute_result"
    }
   ],
   "source": [
    "# Drop rows that contain missing values\n",
    "\n",
    "data = df.dropna()\n",
    "data.isna().sum()"
   ]
  },
  {
   "cell_type": "markdown",
   "id": "aff4cedc-e466-4588-b9f7-4ded180f1716",
   "metadata": {},
   "source": [
    "Converts categorical columns to numerical values and create new feature columns."
   ]
  },
  {
   "cell_type": "code",
   "execution_count": 6,
   "id": "dfd86176-b262-403e-9ecb-d30cb77c1782",
   "metadata": {
    "tags": []
   },
   "outputs": [
    {
     "data": {
      "text/html": [
       "<div>\n",
       "<style scoped>\n",
       "    .dataframe tbody tr th:only-of-type {\n",
       "        vertical-align: middle;\n",
       "    }\n",
       "\n",
       "    .dataframe tbody tr th {\n",
       "        vertical-align: top;\n",
       "    }\n",
       "\n",
       "    .dataframe thead th {\n",
       "        text-align: right;\n",
       "    }\n",
       "</style>\n",
       "<table border=\"1\" class=\"dataframe\">\n",
       "  <thead>\n",
       "    <tr style=\"text-align: right;\">\n",
       "      <th></th>\n",
       "      <th>Outcome Type</th>\n",
       "      <th>Sex upon Outcome</th>\n",
       "      <th>Name</th>\n",
       "      <th>Found Location</th>\n",
       "      <th>Intake Type</th>\n",
       "      <th>Intake Condition</th>\n",
       "      <th>Pet Type</th>\n",
       "      <th>Sex upon Intake</th>\n",
       "      <th>Breed</th>\n",
       "      <th>Color</th>\n",
       "      <th>Age upon Intake Days</th>\n",
       "      <th>Age upon Outcome Days</th>\n",
       "      <th>categorical_pet_type</th>\n",
       "      <th>categorical_intake_cond</th>\n",
       "      <th>categorical_sex_intake</th>\n",
       "      <th>categorical_sex_outcome</th>\n",
       "    </tr>\n",
       "  </thead>\n",
       "  <tbody>\n",
       "    <tr>\n",
       "      <th>0</th>\n",
       "      <td>1.0</td>\n",
       "      <td>Neutered Male</td>\n",
       "      <td>Chunk</td>\n",
       "      <td>Austin (TX)</td>\n",
       "      <td>Owner Surrender</td>\n",
       "      <td>Normal</td>\n",
       "      <td>Cat</td>\n",
       "      <td>Neutered Male</td>\n",
       "      <td>Domestic Shorthair Mix</td>\n",
       "      <td>Brown Tabby/White</td>\n",
       "      <td>730.0</td>\n",
       "      <td>730.0</td>\n",
       "      <td>1</td>\n",
       "      <td>5</td>\n",
       "      <td>2</td>\n",
       "      <td>2</td>\n",
       "    </tr>\n",
       "    <tr>\n",
       "      <th>1</th>\n",
       "      <td>1.0</td>\n",
       "      <td>Neutered Male</td>\n",
       "      <td>Gizmo</td>\n",
       "      <td>7201 Levander Loop in Austin (TX)</td>\n",
       "      <td>Stray</td>\n",
       "      <td>Normal</td>\n",
       "      <td>Dog</td>\n",
       "      <td>Intact Male</td>\n",
       "      <td>Chihuahua Shorthair Mix</td>\n",
       "      <td>White/Brown</td>\n",
       "      <td>365.0</td>\n",
       "      <td>365.0</td>\n",
       "      <td>2</td>\n",
       "      <td>5</td>\n",
       "      <td>1</td>\n",
       "      <td>2</td>\n",
       "    </tr>\n",
       "    <tr>\n",
       "      <th>3</th>\n",
       "      <td>1.0</td>\n",
       "      <td>Neutered Male</td>\n",
       "      <td>*Donatello</td>\n",
       "      <td>2300 Waterway Bnd in Austin (TX)</td>\n",
       "      <td>Stray</td>\n",
       "      <td>Normal</td>\n",
       "      <td>Cat</td>\n",
       "      <td>Intact Male</td>\n",
       "      <td>Domestic Shorthair Mix</td>\n",
       "      <td>Black</td>\n",
       "      <td>60.0</td>\n",
       "      <td>60.0</td>\n",
       "      <td>1</td>\n",
       "      <td>5</td>\n",
       "      <td>1</td>\n",
       "      <td>2</td>\n",
       "    </tr>\n",
       "    <tr>\n",
       "      <th>4</th>\n",
       "      <td>1.0</td>\n",
       "      <td>Neutered Male</td>\n",
       "      <td>*Zeus</td>\n",
       "      <td>4701 Staggerbrush Rd in Austin (TX)</td>\n",
       "      <td>Stray</td>\n",
       "      <td>Nursing</td>\n",
       "      <td>Cat</td>\n",
       "      <td>Intact Male</td>\n",
       "      <td>Domestic Shorthair Mix</td>\n",
       "      <td>White/Orange Tabby</td>\n",
       "      <td>7.0</td>\n",
       "      <td>60.0</td>\n",
       "      <td>1</td>\n",
       "      <td>6</td>\n",
       "      <td>1</td>\n",
       "      <td>2</td>\n",
       "    </tr>\n",
       "    <tr>\n",
       "      <th>6</th>\n",
       "      <td>1.0</td>\n",
       "      <td>Neutered Male</td>\n",
       "      <td>Artemis</td>\n",
       "      <td>9200 N Plaza Dr in Austin (TX)</td>\n",
       "      <td>Stray</td>\n",
       "      <td>Normal</td>\n",
       "      <td>Cat</td>\n",
       "      <td>Neutered Male</td>\n",
       "      <td>Domestic Shorthair Mix</td>\n",
       "      <td>Blue/White</td>\n",
       "      <td>2555.0</td>\n",
       "      <td>2555.0</td>\n",
       "      <td>1</td>\n",
       "      <td>5</td>\n",
       "      <td>2</td>\n",
       "      <td>2</td>\n",
       "    </tr>\n",
       "  </tbody>\n",
       "</table>\n",
       "</div>"
      ],
      "text/plain": [
       "   Outcome Type Sex upon Outcome        Name  \\\n",
       "0           1.0    Neutered Male       Chunk   \n",
       "1           1.0    Neutered Male       Gizmo   \n",
       "3           1.0    Neutered Male  *Donatello   \n",
       "4           1.0    Neutered Male       *Zeus   \n",
       "6           1.0    Neutered Male     Artemis   \n",
       "\n",
       "                        Found Location      Intake Type Intake Condition  \\\n",
       "0                          Austin (TX)  Owner Surrender           Normal   \n",
       "1    7201 Levander Loop in Austin (TX)            Stray           Normal   \n",
       "3     2300 Waterway Bnd in Austin (TX)            Stray           Normal   \n",
       "4  4701 Staggerbrush Rd in Austin (TX)            Stray          Nursing   \n",
       "6       9200 N Plaza Dr in Austin (TX)            Stray           Normal   \n",
       "\n",
       "  Pet Type Sex upon Intake                    Breed               Color  \\\n",
       "0      Cat   Neutered Male   Domestic Shorthair Mix   Brown Tabby/White   \n",
       "1      Dog     Intact Male  Chihuahua Shorthair Mix         White/Brown   \n",
       "3      Cat     Intact Male   Domestic Shorthair Mix               Black   \n",
       "4      Cat     Intact Male   Domestic Shorthair Mix  White/Orange Tabby   \n",
       "6      Cat   Neutered Male   Domestic Shorthair Mix          Blue/White   \n",
       "\n",
       "   Age upon Intake Days  Age upon Outcome Days  categorical_pet_type  \\\n",
       "0                 730.0                  730.0                     1   \n",
       "1                 365.0                  365.0                     2   \n",
       "3                  60.0                   60.0                     1   \n",
       "4                   7.0                   60.0                     1   \n",
       "6                2555.0                 2555.0                     1   \n",
       "\n",
       "   categorical_intake_cond  categorical_sex_intake  categorical_sex_outcome  \n",
       "0                        5                       2                        2  \n",
       "1                        5                       1                        2  \n",
       "3                        5                       1                        2  \n",
       "4                        6                       1                        2  \n",
       "6                        5                       2                        2  "
      ]
     },
     "execution_count": 6,
     "metadata": {},
     "output_type": "execute_result"
    }
   ],
   "source": [
    "# Use LabelEncoder to normalize and encode categorical columns to numerical values.\n",
    "\n",
    "from sklearn import preprocessing\n",
    "\n",
    "le = preprocessing.LabelEncoder()\n",
    "le.fit(data['Pet Type'])\n",
    "data['categorical_pet_type'] = le.transform(data['Pet Type'])\n",
    "\n",
    "le = preprocessing.LabelEncoder()\n",
    "le.fit(data['Intake Condition'])\n",
    "data['categorical_intake_cond'] = le.transform(data['Intake Condition'])\n",
    "\n",
    "le = preprocessing.LabelEncoder()\n",
    "le.fit(data['Sex upon Intake'])\n",
    "data['categorical_sex_intake'] = le.transform(data['Sex upon Intake'])\n",
    "\n",
    "le = preprocessing.LabelEncoder()\n",
    "le.fit(data['Sex upon Outcome'])\n",
    "data['categorical_sex_outcome'] = le.transform(data['Sex upon Outcome'])\n",
    "\n",
    "\n",
    "data.head(5)"
   ]
  },
  {
   "cell_type": "markdown",
   "id": "167f96d1-89e1-46ba-96c6-1d12d371d3be",
   "metadata": {},
   "source": [
    "Clean textual features."
   ]
  },
  {
   "cell_type": "code",
   "execution_count": 7,
   "id": "b2a3e9cc-a722-4452-a1bf-d8a9fb759549",
   "metadata": {
    "tags": []
   },
   "outputs": [],
   "source": [
    "# Prepare text cleaning function\n",
    "\n",
    "def preprocess_text(input_data):\n",
    "    lowercase = tf.strings.lower(input_data)\n",
    "    stripped_html = tf.strings.regex_replace(lowercase, \"<br />\", \" \")\n",
    "    return tf.strings.regex_replace(stripped_html, f\"[{re.escape(string.punctuation)}]\", \"\")\n",
    "\n",
    "# Vectorize text features\n",
    "\n",
    "from tensorflow.keras import layers\n",
    "\n",
    "tf.keras.utils.set_random_seed(42)\n",
    "\n",
    "max_features = 10000\n",
    "sequence_length = 250\n",
    "\n",
    "vectorize_layer = layers.TextVectorization(\n",
    "    standardize=preprocess_text,\n",
    "    max_tokens=max_features,\n",
    "    output_mode=\"int\",\n",
    "    output_sequence_length=sequence_length,\n",
    ")"
   ]
  },
  {
   "cell_type": "code",
   "execution_count": 8,
   "id": "d2d3da6f-08e1-47e0-8fc0-21043dab74d9",
   "metadata": {
    "tags": []
   },
   "outputs": [],
   "source": [
    "vectorize_layer.adapt(data['Breed'])\n",
    "vector_breed = vectorize_layer(data['Breed'])\n",
    "vector_breed = vector_breed.numpy()\n",
    "data['Breed'] = vector_breed"
   ]
  },
  {
   "cell_type": "code",
   "execution_count": 9,
   "id": "c4976f14-cae6-4064-a013-350b7ac5e140",
   "metadata": {},
   "outputs": [],
   "source": [
    "vectorize_layer.adapt(data['Color'])\n",
    "vector_color = vectorize_layer(data['Color'])\n",
    "vector_color = vector_color.numpy()\n",
    "data['Color'] = vector_color"
   ]
  },
  {
   "cell_type": "code",
   "execution_count": 10,
   "id": "cf99d7f1-c2c0-4cc1-88d7-52a958612c8f",
   "metadata": {
    "tags": []
   },
   "outputs": [],
   "source": [
    "vectorize_layer.adapt(data['Found Location'])\n",
    "vector_fl = vectorize_layer(data['Found Location'])\n",
    "vector_fl = vector_fl.numpy()\n",
    "data['Found Location'] = vector_fl"
   ]
  },
  {
   "cell_type": "code",
   "execution_count": 11,
   "id": "480c6d0b-01c7-4e3b-bab3-2e31d3397c2d",
   "metadata": {
    "tags": []
   },
   "outputs": [
    {
     "data": {
      "text/html": [
       "<div>\n",
       "<style scoped>\n",
       "    .dataframe tbody tr th:only-of-type {\n",
       "        vertical-align: middle;\n",
       "    }\n",
       "\n",
       "    .dataframe tbody tr th {\n",
       "        vertical-align: top;\n",
       "    }\n",
       "\n",
       "    .dataframe thead th {\n",
       "        text-align: right;\n",
       "    }\n",
       "</style>\n",
       "<table border=\"1\" class=\"dataframe\">\n",
       "  <thead>\n",
       "    <tr style=\"text-align: right;\">\n",
       "      <th></th>\n",
       "      <th>Outcome Type</th>\n",
       "      <th>Sex upon Outcome</th>\n",
       "      <th>Name</th>\n",
       "      <th>Found Location</th>\n",
       "      <th>Intake Type</th>\n",
       "      <th>Intake Condition</th>\n",
       "      <th>Pet Type</th>\n",
       "      <th>Sex upon Intake</th>\n",
       "      <th>Breed</th>\n",
       "      <th>Color</th>\n",
       "      <th>Age upon Intake Days</th>\n",
       "      <th>Age upon Outcome Days</th>\n",
       "      <th>categorical_pet_type</th>\n",
       "      <th>categorical_intake_cond</th>\n",
       "      <th>categorical_sex_intake</th>\n",
       "      <th>categorical_sex_outcome</th>\n",
       "    </tr>\n",
       "  </thead>\n",
       "  <tbody>\n",
       "    <tr>\n",
       "      <th>0</th>\n",
       "      <td>1.0</td>\n",
       "      <td>Neutered Male</td>\n",
       "      <td>Chunk</td>\n",
       "      <td>3</td>\n",
       "      <td>Owner Surrender</td>\n",
       "      <td>Normal</td>\n",
       "      <td>Cat</td>\n",
       "      <td>Neutered Male</td>\n",
       "      <td>4</td>\n",
       "      <td>2</td>\n",
       "      <td>730.0</td>\n",
       "      <td>730.0</td>\n",
       "      <td>1</td>\n",
       "      <td>5</td>\n",
       "      <td>2</td>\n",
       "      <td>2</td>\n",
       "    </tr>\n",
       "    <tr>\n",
       "      <th>1</th>\n",
       "      <td>1.0</td>\n",
       "      <td>Neutered Male</td>\n",
       "      <td>Gizmo</td>\n",
       "      <td>50</td>\n",
       "      <td>Stray</td>\n",
       "      <td>Normal</td>\n",
       "      <td>Dog</td>\n",
       "      <td>Intact Male</td>\n",
       "      <td>9</td>\n",
       "      <td>12</td>\n",
       "      <td>365.0</td>\n",
       "      <td>365.0</td>\n",
       "      <td>2</td>\n",
       "      <td>5</td>\n",
       "      <td>1</td>\n",
       "      <td>2</td>\n",
       "    </tr>\n",
       "    <tr>\n",
       "      <th>3</th>\n",
       "      <td>1.0</td>\n",
       "      <td>Neutered Male</td>\n",
       "      <td>*Donatello</td>\n",
       "      <td>236</td>\n",
       "      <td>Stray</td>\n",
       "      <td>Normal</td>\n",
       "      <td>Cat</td>\n",
       "      <td>Intact Male</td>\n",
       "      <td>4</td>\n",
       "      <td>5</td>\n",
       "      <td>60.0</td>\n",
       "      <td>60.0</td>\n",
       "      <td>1</td>\n",
       "      <td>5</td>\n",
       "      <td>1</td>\n",
       "      <td>2</td>\n",
       "    </tr>\n",
       "    <tr>\n",
       "      <th>4</th>\n",
       "      <td>1.0</td>\n",
       "      <td>Neutered Male</td>\n",
       "      <td>*Zeus</td>\n",
       "      <td>432</td>\n",
       "      <td>Stray</td>\n",
       "      <td>Nursing</td>\n",
       "      <td>Cat</td>\n",
       "      <td>Intact Male</td>\n",
       "      <td>4</td>\n",
       "      <td>50</td>\n",
       "      <td>7.0</td>\n",
       "      <td>60.0</td>\n",
       "      <td>1</td>\n",
       "      <td>6</td>\n",
       "      <td>1</td>\n",
       "      <td>2</td>\n",
       "    </tr>\n",
       "    <tr>\n",
       "      <th>6</th>\n",
       "      <td>1.0</td>\n",
       "      <td>Neutered Male</td>\n",
       "      <td>Artemis</td>\n",
       "      <td>450</td>\n",
       "      <td>Stray</td>\n",
       "      <td>Normal</td>\n",
       "      <td>Cat</td>\n",
       "      <td>Neutered Male</td>\n",
       "      <td>4</td>\n",
       "      <td>15</td>\n",
       "      <td>2555.0</td>\n",
       "      <td>2555.0</td>\n",
       "      <td>1</td>\n",
       "      <td>5</td>\n",
       "      <td>2</td>\n",
       "      <td>2</td>\n",
       "    </tr>\n",
       "  </tbody>\n",
       "</table>\n",
       "</div>"
      ],
      "text/plain": [
       "   Outcome Type Sex upon Outcome        Name  Found Location      Intake Type  \\\n",
       "0           1.0    Neutered Male       Chunk               3  Owner Surrender   \n",
       "1           1.0    Neutered Male       Gizmo              50            Stray   \n",
       "3           1.0    Neutered Male  *Donatello             236            Stray   \n",
       "4           1.0    Neutered Male       *Zeus             432            Stray   \n",
       "6           1.0    Neutered Male     Artemis             450            Stray   \n",
       "\n",
       "  Intake Condition Pet Type Sex upon Intake  Breed  Color  \\\n",
       "0           Normal      Cat   Neutered Male      4      2   \n",
       "1           Normal      Dog     Intact Male      9     12   \n",
       "3           Normal      Cat     Intact Male      4      5   \n",
       "4          Nursing      Cat     Intact Male      4     50   \n",
       "6           Normal      Cat   Neutered Male      4     15   \n",
       "\n",
       "   Age upon Intake Days  Age upon Outcome Days  categorical_pet_type  \\\n",
       "0                 730.0                  730.0                     1   \n",
       "1                 365.0                  365.0                     2   \n",
       "3                  60.0                   60.0                     1   \n",
       "4                   7.0                   60.0                     1   \n",
       "6                2555.0                 2555.0                     1   \n",
       "\n",
       "   categorical_intake_cond  categorical_sex_intake  categorical_sex_outcome  \n",
       "0                        5                       2                        2  \n",
       "1                        5                       1                        2  \n",
       "3                        5                       1                        2  \n",
       "4                        6                       1                        2  \n",
       "6                        5                       2                        2  "
      ]
     },
     "execution_count": 11,
     "metadata": {},
     "output_type": "execute_result"
    }
   ],
   "source": [
    "data.head(5)"
   ]
  },
  {
   "cell_type": "markdown",
   "id": "3413f4d7-e8d1-4b6e-b017-aa86febaca08",
   "metadata": {},
   "source": [
    "Filter numerical columns."
   ]
  },
  {
   "cell_type": "code",
   "execution_count": 12,
   "id": "980df984-32aa-458e-8291-0f3e686855af",
   "metadata": {
    "tags": []
   },
   "outputs": [
    {
     "name": "stdout",
     "output_type": "stream",
     "text": [
      "Numerical columns: Index(['Outcome Type', 'Found Location', 'Breed', 'Color',\n",
      "       'Age upon Intake Days', 'Age upon Outcome Days', 'categorical_pet_type',\n",
      "       'categorical_intake_cond', 'categorical_sex_intake',\n",
      "       'categorical_sex_outcome'],\n",
      "      dtype='object')\n",
      "\n",
      "Categorical columns: Index(['Sex upon Outcome', 'Name', 'Intake Type', 'Intake Condition',\n",
      "       'Pet Type', 'Sex upon Intake'],\n",
      "      dtype='object')\n"
     ]
    }
   ],
   "source": [
    "import numpy as np\n",
    "numerical_features_all = data.select_dtypes(include=np.number).columns\n",
    "print('Numerical columns:',numerical_features_all)\n",
    "\n",
    "print('')\n",
    "\n",
    "categorical_features_all = data.select_dtypes(include='object').columns\n",
    "print('Categorical columns:',categorical_features_all)"
   ]
  },
  {
   "cell_type": "markdown",
   "id": "4bb55168-ef2a-4feb-88dc-8aa8cbbf9824",
   "metadata": {
    "tags": []
   },
   "source": [
    "The model will train on numerical features."
   ]
  },
  {
   "cell_type": "code",
   "execution_count": 13,
   "id": "7cd76936-406a-42fe-858f-4f861827d1b8",
   "metadata": {
    "tags": []
   },
   "outputs": [
    {
     "data": {
      "text/html": [
       "<div>\n",
       "<style scoped>\n",
       "    .dataframe tbody tr th:only-of-type {\n",
       "        vertical-align: middle;\n",
       "    }\n",
       "\n",
       "    .dataframe tbody tr th {\n",
       "        vertical-align: top;\n",
       "    }\n",
       "\n",
       "    .dataframe thead th {\n",
       "        text-align: right;\n",
       "    }\n",
       "</style>\n",
       "<table border=\"1\" class=\"dataframe\">\n",
       "  <thead>\n",
       "    <tr style=\"text-align: right;\">\n",
       "      <th></th>\n",
       "      <th>Outcome Type</th>\n",
       "      <th>Found Location</th>\n",
       "      <th>Breed</th>\n",
       "      <th>Color</th>\n",
       "      <th>Age upon Intake Days</th>\n",
       "      <th>Age upon Outcome Days</th>\n",
       "      <th>categorical_pet_type</th>\n",
       "      <th>categorical_intake_cond</th>\n",
       "      <th>categorical_sex_intake</th>\n",
       "      <th>categorical_sex_outcome</th>\n",
       "    </tr>\n",
       "  </thead>\n",
       "  <tbody>\n",
       "    <tr>\n",
       "      <th>0</th>\n",
       "      <td>1.0</td>\n",
       "      <td>3</td>\n",
       "      <td>4</td>\n",
       "      <td>2</td>\n",
       "      <td>730.0</td>\n",
       "      <td>730.0</td>\n",
       "      <td>1</td>\n",
       "      <td>5</td>\n",
       "      <td>2</td>\n",
       "      <td>2</td>\n",
       "    </tr>\n",
       "    <tr>\n",
       "      <th>1</th>\n",
       "      <td>1.0</td>\n",
       "      <td>50</td>\n",
       "      <td>9</td>\n",
       "      <td>12</td>\n",
       "      <td>365.0</td>\n",
       "      <td>365.0</td>\n",
       "      <td>2</td>\n",
       "      <td>5</td>\n",
       "      <td>1</td>\n",
       "      <td>2</td>\n",
       "    </tr>\n",
       "    <tr>\n",
       "      <th>3</th>\n",
       "      <td>1.0</td>\n",
       "      <td>236</td>\n",
       "      <td>4</td>\n",
       "      <td>5</td>\n",
       "      <td>60.0</td>\n",
       "      <td>60.0</td>\n",
       "      <td>1</td>\n",
       "      <td>5</td>\n",
       "      <td>1</td>\n",
       "      <td>2</td>\n",
       "    </tr>\n",
       "    <tr>\n",
       "      <th>4</th>\n",
       "      <td>1.0</td>\n",
       "      <td>432</td>\n",
       "      <td>4</td>\n",
       "      <td>50</td>\n",
       "      <td>7.0</td>\n",
       "      <td>60.0</td>\n",
       "      <td>1</td>\n",
       "      <td>6</td>\n",
       "      <td>1</td>\n",
       "      <td>2</td>\n",
       "    </tr>\n",
       "    <tr>\n",
       "      <th>6</th>\n",
       "      <td>1.0</td>\n",
       "      <td>450</td>\n",
       "      <td>4</td>\n",
       "      <td>15</td>\n",
       "      <td>2555.0</td>\n",
       "      <td>2555.0</td>\n",
       "      <td>1</td>\n",
       "      <td>5</td>\n",
       "      <td>2</td>\n",
       "      <td>2</td>\n",
       "    </tr>\n",
       "    <tr>\n",
       "      <th>...</th>\n",
       "      <td>...</td>\n",
       "      <td>...</td>\n",
       "      <td>...</td>\n",
       "      <td>...</td>\n",
       "      <td>...</td>\n",
       "      <td>...</td>\n",
       "      <td>...</td>\n",
       "      <td>...</td>\n",
       "      <td>...</td>\n",
       "      <td>...</td>\n",
       "    </tr>\n",
       "    <tr>\n",
       "      <th>63887</th>\n",
       "      <td>1.0</td>\n",
       "      <td>2425</td>\n",
       "      <td>20</td>\n",
       "      <td>17</td>\n",
       "      <td>1460.0</td>\n",
       "      <td>1460.0</td>\n",
       "      <td>2</td>\n",
       "      <td>5</td>\n",
       "      <td>2</td>\n",
       "      <td>2</td>\n",
       "    </tr>\n",
       "    <tr>\n",
       "      <th>63889</th>\n",
       "      <td>1.0</td>\n",
       "      <td>3</td>\n",
       "      <td>8</td>\n",
       "      <td>24</td>\n",
       "      <td>2555.0</td>\n",
       "      <td>2555.0</td>\n",
       "      <td>2</td>\n",
       "      <td>5</td>\n",
       "      <td>3</td>\n",
       "      <td>3</td>\n",
       "    </tr>\n",
       "    <tr>\n",
       "      <th>63890</th>\n",
       "      <td>1.0</td>\n",
       "      <td>3</td>\n",
       "      <td>19</td>\n",
       "      <td>7</td>\n",
       "      <td>1825.0</td>\n",
       "      <td>1825.0</td>\n",
       "      <td>2</td>\n",
       "      <td>5</td>\n",
       "      <td>3</td>\n",
       "      <td>3</td>\n",
       "    </tr>\n",
       "    <tr>\n",
       "      <th>63892</th>\n",
       "      <td>0.0</td>\n",
       "      <td>421</td>\n",
       "      <td>9</td>\n",
       "      <td>16</td>\n",
       "      <td>730.0</td>\n",
       "      <td>730.0</td>\n",
       "      <td>2</td>\n",
       "      <td>5</td>\n",
       "      <td>1</td>\n",
       "      <td>1</td>\n",
       "    </tr>\n",
       "    <tr>\n",
       "      <th>63894</th>\n",
       "      <td>0.0</td>\n",
       "      <td>3</td>\n",
       "      <td>32</td>\n",
       "      <td>69</td>\n",
       "      <td>2920.0</td>\n",
       "      <td>2920.0</td>\n",
       "      <td>2</td>\n",
       "      <td>9</td>\n",
       "      <td>2</td>\n",
       "      <td>2</td>\n",
       "    </tr>\n",
       "  </tbody>\n",
       "</table>\n",
       "<p>39656 rows × 10 columns</p>\n",
       "</div>"
      ],
      "text/plain": [
       "       Outcome Type  Found Location  Breed  Color  Age upon Intake Days  \\\n",
       "0               1.0               3      4      2                 730.0   \n",
       "1               1.0              50      9     12                 365.0   \n",
       "3               1.0             236      4      5                  60.0   \n",
       "4               1.0             432      4     50                   7.0   \n",
       "6               1.0             450      4     15                2555.0   \n",
       "...             ...             ...    ...    ...                   ...   \n",
       "63887           1.0            2425     20     17                1460.0   \n",
       "63889           1.0               3      8     24                2555.0   \n",
       "63890           1.0               3     19      7                1825.0   \n",
       "63892           0.0             421      9     16                 730.0   \n",
       "63894           0.0               3     32     69                2920.0   \n",
       "\n",
       "       Age upon Outcome Days  categorical_pet_type  categorical_intake_cond  \\\n",
       "0                      730.0                     1                        5   \n",
       "1                      365.0                     2                        5   \n",
       "3                       60.0                     1                        5   \n",
       "4                       60.0                     1                        6   \n",
       "6                     2555.0                     1                        5   \n",
       "...                      ...                   ...                      ...   \n",
       "63887                 1460.0                     2                        5   \n",
       "63889                 2555.0                     2                        5   \n",
       "63890                 1825.0                     2                        5   \n",
       "63892                  730.0                     2                        5   \n",
       "63894                 2920.0                     2                        9   \n",
       "\n",
       "       categorical_sex_intake  categorical_sex_outcome  \n",
       "0                           2                        2  \n",
       "1                           1                        2  \n",
       "3                           1                        2  \n",
       "4                           1                        2  \n",
       "6                           2                        2  \n",
       "...                       ...                      ...  \n",
       "63887                       2                        2  \n",
       "63889                       3                        3  \n",
       "63890                       3                        3  \n",
       "63892                       1                        1  \n",
       "63894                       2                        2  \n",
       "\n",
       "[39656 rows x 10 columns]"
      ]
     },
     "execution_count": 13,
     "metadata": {},
     "output_type": "execute_result"
    }
   ],
   "source": [
    "numerical_features = data[numerical_features_all]\n",
    "numerical_features"
   ]
  },
  {
   "cell_type": "code",
   "execution_count": 14,
   "id": "03b9ef64",
   "metadata": {
    "tags": []
   },
   "outputs": [],
   "source": [
    "# Assign model features and target to variables.\n",
    "\n",
    "X = data[numerical_features.columns.drop('Outcome Type')]\n",
    "y = data['Outcome Type']"
   ]
  },
  {
   "cell_type": "code",
   "execution_count": 15,
   "id": "68946f72-accd-4d52-9bc0-ce1a3883f109",
   "metadata": {
    "tags": []
   },
   "outputs": [
    {
     "data": {
      "text/plain": [
       "array(['1.0', '1.0', '1.0', ..., '1.0', '0.0', '0.0'], dtype='<U32')"
      ]
     },
     "execution_count": 15,
     "metadata": {},
     "output_type": "execute_result"
    }
   ],
   "source": [
    "# Convert DataFrame to a NumPy array.\n",
    "\n",
    "X.to_numpy(dtype=str)\n",
    "y.to_numpy(dtype=str)"
   ]
  },
  {
   "cell_type": "code",
   "execution_count": 16,
   "id": "33cb14db",
   "metadata": {
    "tags": []
   },
   "outputs": [],
   "source": [
    "# Split the data into 80% training and 20% testing\n",
    "\n",
    "X_train, X_test, y_train, y_test = train_test_split(X, y, test_size=0.2, random_state = 42)"
   ]
  },
  {
   "cell_type": "markdown",
   "id": "0518dd58-f2dc-494f-aa79-edf957b2b5db",
   "metadata": {},
   "source": [
    "## Train a Model\n",
    "\n",
    "Here, we are ready to build a simple neural network for predicting target Outcome Type."
   ]
  },
  {
   "cell_type": "code",
   "execution_count": 17,
   "id": "18e89057",
   "metadata": {
    "tags": []
   },
   "outputs": [],
   "source": [
    "# Build a simple model\n",
    "\n",
    "model = tf.keras.Sequential([\n",
    "    tf.keras.layers.Dense(128, activation='relu'),\n",
    "    tf.keras.layers.Dense(256, activation='relu'),\n",
    "    tf.keras.layers.Dense(256, activation='relu'),\n",
    "    tf.keras.layers.Dense(1, activation='sigmoid') \n",
    "])"
   ]
  },
  {
   "cell_type": "code",
   "execution_count": 18,
   "id": "c537a0da",
   "metadata": {
    "tags": []
   },
   "outputs": [
    {
     "name": "stdout",
     "output_type": "stream",
     "text": [
      "Epoch 1/10\n",
      "Extension horovod.torch has not been built: /usr/local/lib/python3.9/site-packages/horovod/torch/mpi_lib/_mpi_lib.cpython-39-x86_64-linux-gnu.so not found\n",
      "If this is not expected, reinstall Horovod with HOROVOD_WITH_PYTORCH=1 to debug the build error.\n",
      "Warning! MPI libs are missing, but python applications are still available.\n",
      "[2022-12-19 01:55:41.353 tensorflow-2-10-cpu--ml-m5-8xlarge-a44dc8e523e3c5b857545a3b5683:2759 INFO utils.py:27] RULE_JOB_STOP_SIGNAL_FILENAME: None\n",
      "[2022-12-19 01:55:41.578 tensorflow-2-10-cpu--ml-m5-8xlarge-a44dc8e523e3c5b857545a3b5683:2759 INFO profiler_config_parser.py:111] Unable to find config at /opt/ml/input/config/profilerconfig.json. Profiler is disabled.\n",
      "992/992 [==============================] - 4s 3ms/step - loss: 3.6640 - accuracy: 0.7320 - precision: 0.7383 - recall: 0.9867\n",
      "Epoch 2/10\n",
      "992/992 [==============================] - 3s 3ms/step - loss: 0.5812 - accuracy: 0.7376 - precision: 0.7381 - recall: 0.9991\n",
      "Epoch 3/10\n",
      "992/992 [==============================] - 3s 3ms/step - loss: 0.5760 - accuracy: 0.7383 - precision: 0.7383 - recall: 1.0000\n",
      "Epoch 4/10\n",
      "992/992 [==============================] - 3s 3ms/step - loss: 0.5755 - accuracy: 0.7382 - precision: 0.7382 - recall: 1.0000\n",
      "Epoch 5/10\n",
      "992/992 [==============================] - 3s 3ms/step - loss: 0.5758 - accuracy: 0.7381 - precision: 0.7381 - recall: 1.0000\n",
      "Epoch 6/10\n",
      "992/992 [==============================] - 3s 3ms/step - loss: 0.5756 - accuracy: 0.7381 - precision: 0.7381 - recall: 1.0000\n",
      "Epoch 7/10\n",
      "992/992 [==============================] - 3s 3ms/step - loss: 0.5755 - accuracy: 0.7381 - precision: 0.7381 - recall: 1.0000\n",
      "Epoch 8/10\n",
      "992/992 [==============================] - 3s 3ms/step - loss: 0.5755 - accuracy: 0.7381 - precision: 0.7381 - recall: 1.0000\n",
      "Epoch 9/10\n",
      "992/992 [==============================] - 3s 3ms/step - loss: 1.3315 - accuracy: 0.7367 - precision: 0.7380 - recall: 0.9974\n",
      "Epoch 10/10\n",
      "992/992 [==============================] - 3s 3ms/step - loss: 0.5754 - accuracy: 0.7381 - precision: 0.7381 - recall: 1.0000\n"
     ]
    }
   ],
   "source": [
    "#Compile model\n",
    "\n",
    "model.compile(\n",
    "    loss = tf.keras.losses.binary_crossentropy,\n",
    "    optimizer = tf.keras.optimizers.Adam(learning_rate = 0.02),\n",
    "    metrics = [\n",
    "        tf.keras.metrics.BinaryAccuracy(name='accuracy'),\n",
    "        tf.keras.metrics.Precision(name='precision'),\n",
    "        tf.keras.metrics.Recall(name='recall')\n",
    "    ]\n",
    ")\n",
    "\n",
    "m = model.fit(X_train, y_train, epochs=10)"
   ]
  },
  {
   "cell_type": "markdown",
   "id": "a5cf57f8-04e9-4129-bb60-04012ce428b4",
   "metadata": {},
   "source": [
    "## Explain a Model\n",
    "\n",
    "Here, we can visualize SHAP values using different plots provided by SHAP."
   ]
  },
  {
   "cell_type": "code",
   "execution_count": 19,
   "id": "5cc6bda0",
   "metadata": {
    "tags": []
   },
   "outputs": [
    {
     "name": "stderr",
     "output_type": "stream",
     "text": [
      "WARNING:shap:Using 31724 background data samples could cause slower run times. Consider using shap.sample(data, K) or shap.kmeans(data, K) to summarize the background as K samples.\n"
     ]
    },
    {
     "data": {
      "application/vnd.jupyter.widget-view+json": {
       "model_id": "e624833c8a47488a820351ccfb70d66d",
       "version_major": 2,
       "version_minor": 0
      },
      "text/plain": [
       "  0%|          | 0/10 [00:00<?, ?it/s]"
      ]
     },
     "metadata": {},
     "output_type": "display_data"
    },
    {
     "name": "stderr",
     "output_type": "stream",
     "text": [
      "INFO:shap:num_full_subsets = 4\n",
      "INFO:shap:phi = [ 2.24497705e-32  2.24497705e-32  2.24497705e-32  2.24497705e-32\n",
      "  2.24497705e-32 -2.80622132e-32 -2.80622132e-32 -2.80622132e-32\n",
      " -2.80622122e-32]\n",
      "INFO:shap:num_full_subsets = 4\n",
      "INFO:shap:phi = [-3.98053124e-07  2.17440570e-06 -3.98053124e-07 -3.98053124e-07\n",
      " -3.98053124e-07 -1.72806581e-07  7.94093388e-23 -3.98053124e-07\n",
      " -1.13334950e-08]\n",
      "INFO:shap:num_full_subsets = 4\n",
      "INFO:shap:phi = [-2.64697796e-23  1.39139291e-06 -1.87366326e-07 -3.78629056e-07\n",
      " -3.78629056e-07 -1.74422305e-07  1.32348898e-22 -2.51140426e-07\n",
      " -2.12057376e-08]\n",
      "INFO:shap:num_full_subsets = 4\n",
      "INFO:shap:phi = [-3.98053124e-07  2.17440570e-06 -3.98053124e-07 -3.98053124e-07\n",
      " -3.98053124e-07 -1.72806581e-07  7.94093388e-23 -3.98053124e-07\n",
      " -1.13334950e-08]\n",
      "INFO:shap:num_full_subsets = 4\n",
      "INFO:shap:phi = [-4.28601924e-07  1.76899044e-06  1.11309920e-07 -4.28601924e-07\n",
      " -4.28601924e-07 -1.21241504e-07  1.05879118e-22 -4.28601924e-07\n",
      " -4.46511592e-08]\n",
      "INFO:shap:num_full_subsets = 4\n",
      "INFO:shap:phi = [ 2.24497705e-32  2.24497705e-32  2.24497705e-32  2.24497705e-32\n",
      "  2.24497705e-32 -2.80622132e-32 -2.80622132e-32 -2.80622132e-32\n",
      " -2.80622122e-32]\n",
      "INFO:shap:num_full_subsets = 4\n",
      "INFO:shap:phi = [ 2.24497705e-32  2.24497705e-32  2.24497705e-32  2.24497705e-32\n",
      "  2.24497705e-32 -2.80622132e-32 -2.80622132e-32 -2.80622132e-32\n",
      " -2.80622122e-32]\n",
      "INFO:shap:num_full_subsets = 4\n",
      "INFO:shap:phi = [-4.35711404e-09 -4.35711404e-09  5.47537437e-09 -4.35711404e-09\n",
      " -4.35711404e-09  4.09216484e-09  1.03397577e-24  5.47537437e-09\n",
      "  2.38554265e-09]\n",
      "INFO:shap:num_full_subsets = 4\n",
      "INFO:shap:phi = [-5.48231695e-07  2.51398213e-06 -1.69184604e-07 -5.48231695e-07\n",
      " -5.48231695e-07 -2.46779322e-07  1.32348898e-22 -4.25484179e-07\n",
      " -2.78389365e-08]\n",
      "INFO:shap:num_full_subsets = 4\n",
      "INFO:shap:phi = [ 7.94833680e-07  3.94555438e-06 -1.05322112e-09 -1.39564476e-06\n",
      " -1.39564476e-06 -5.87025820e-07  5.55865372e-22 -1.34859759e-06\n",
      " -1.24219000e-08]\n"
     ]
    }
   ],
   "source": [
    "# Instantiates KernelExplainer\n",
    "e = shap.KernelExplainer(model, X_train)\n",
    "\n",
    "# Subsamples a data set for efficiency. Use e.shap_values(X_test) to run full computation which will take longer to complete for large test dataset.\n",
    "shap_values = e.shap_values(shap.sample(X_test,10))\n",
    "#shap_values = e.shap_values(X_test)"
   ]
  },
  {
   "cell_type": "markdown",
   "id": "22fb0da8-bdcd-4428-aa59-91bdfc884c99",
   "metadata": {},
   "source": [
    "### Force Plot\n",
    "\n",
    "The SHAP force plot shows which features influenced the model’s prediction for a single observation. Starting at the base value, we can see the increment or decrement of each feature leads us to the final prediction for this sample. Red means the feature pushes the prediction higher to the right, while blue push a lower value prediction to the left. "
   ]
  },
  {
   "cell_type": "code",
   "execution_count": 20,
   "id": "5cf11bde-848f-46c3-b81b-b8ad42a0c7dd",
   "metadata": {
    "tags": []
   },
   "outputs": [
    {
     "data": {
      "text/html": [
       "\n",
       "<div id='iHBRPOIG8F1CBFNO6B9M8'>\n",
       "<div style='color: #900; text-align: center;'>\n",
       "  <b>Visualization omitted, Javascript library not loaded!</b><br>\n",
       "  Have you run `initjs()` in this notebook? If this notebook was from another\n",
       "  user you must also trust this notebook (File -> Trust notebook). If you are viewing\n",
       "  this notebook on github the Javascript has been stripped for security. If you are using\n",
       "  JupyterLab this error is because a JupyterLab extension has not yet been written.\n",
       "</div></div>\n",
       " <script>\n",
       "   if (window.SHAP) SHAP.ReactDom.render(\n",
       "    SHAP.React.createElement(SHAP.AdditiveForceVisualizer, {\"outNames\": [\"f(x)\"], \"baseValue\": 0.7549477219581604, \"outValue\": 0.7549477219581605, \"link\": \"identity\", \"featureNames\": [\"Found Location\", \"Breed\", \"Color\", \"Age upon Intake Days\", \"Age upon Outcome Days\", \"categorical_pet_type\", \"categorical_intake_cond\", \"categorical_sex_intake\", \"categorical_sex_outcome\"], \"features\": {\"0\": {\"effect\": 7.948336796615411e-07, \"value\": 234.0}, \"1\": {\"effect\": 3.945554380745453e-06, \"value\": 9.0}, \"2\": {\"effect\": -1.0532211208981215e-09, \"value\": 48.0}, \"3\": {\"effect\": -1.3956447645262283e-06, \"value\": 2190.0}, \"4\": {\"effect\": -1.395644764526228e-06, \"value\": 2190.0}, \"5\": {\"effect\": -5.870258197342237e-07, \"value\": 2.0}, \"7\": {\"effect\": -1.3485975904786473e-06, \"value\": 0.0}, \"8\": {\"effect\": -1.2421899953096727e-08, \"value\": 3.0}}, \"plot_cmap\": \"RdBu\", \"labelMargin\": 20}),\n",
       "    document.getElementById('iHBRPOIG8F1CBFNO6B9M8')\n",
       "  );\n",
       "</script>"
      ],
      "text/plain": [
       "<shap.plots._force.AdditiveForceVisualizer at 0x7f1152699250>"
      ]
     },
     "execution_count": 20,
     "metadata": {},
     "output_type": "execute_result"
    }
   ],
   "source": [
    "# N is the sample index to explain.\n",
    "n = 9\n",
    "\n",
    "shap.force_plot(e.expected_value, shap_values[0][n,:], X_test.iloc[n,:])"
   ]
  },
  {
   "cell_type": "markdown",
   "id": "6306b19e-a7c4-4c9f-868d-278d6507368a",
   "metadata": {},
   "source": [
    "### Decision Plot\n",
    "\n",
    "We can aggregate and visualize SHAP values using a decision plot to understand the overall model behavior in decision-making. The features are ordered by descending importance, and the lines move upwards from the bottom at a base value to their final prediction. The X-axis represents SHAP values for each feature on the y-axis."
   ]
  },
  {
   "cell_type": "code",
   "execution_count": 21,
   "id": "6b7a7220",
   "metadata": {
    "tags": []
   },
   "outputs": [
    {
     "data": {
      "image/png": "[encoded data removed]",
      "text/plain": [
       "<Figure size 576x367.2 with 1 Axes>"
      ]
     },
     "metadata": {
      "needs_background": "light"
     },
     "output_type": "display_data"
    }
   ],
   "source": [
    "# Visualize a decision_plot\n",
    "\n",
    "shap.decision_plot(e.expected_value, shap_values[0][n,:], X_test.iloc[n,:])"
   ]
  },
  {
   "cell_type": "markdown",
   "id": "d44e9c0d-a8b3-4ec5-abc0-6dd72f9199e4",
   "metadata": {},
   "source": [
    "### Summary Bar Plot\n",
    "\n",
    "The summary bar plot shows the mean absolute SHAP values for each feature across all observations."
   ]
  },
  {
   "cell_type": "code",
   "execution_count": 22,
   "id": "7b1b5cfd-8ca5-47ed-8b01-3ef74096b7d4",
   "metadata": {
    "tags": []
   },
   "outputs": [
    {
     "data": {
      "image/png": "[encoded data removed]",
      "text/plain": [
       "<Figure size 576x367.2 with 1 Axes>"
      ]
     },
     "metadata": {
      "needs_background": "light"
     },
     "output_type": "display_data"
    }
   ],
   "source": [
    "shap.summary_plot(shap_values, X_test)"
   ]
  },
  {
   "cell_type": "markdown",
   "id": "621da806-9767-47c1-baf9-1f460f7731b0",
   "metadata": {
    "tags": []
   },
   "source": [
    "Calculating Shapley values with large datasets using Kernel SHAP can be time-consuming and computationally intensive. To improve the runtime and enhance scalability, Amazon SageMaker Clarify parallelizes SHAP computation. Refer to [Amazon SageMaker Clarify: Machine Learning Bias Detection and Explainability in the Cloud](https://assets.amazon.science/45/76/30bab4f14ccab96cfe8067ed2b4a/amazon-sagemaker-clarify-machine-learning-bias-detection-and-explainability-in-the-cloud.pdf) for more info on Amazon SageMaker Clarify and Kernel SHAP."
   ]
  },
  {
   "cell_type": "code",
   "execution_count": null,
   "id": "d7166207-425f-4365-b817-545ba6d546c9",
   "metadata": {},
   "outputs": [],
   "source": []
  }
 ],
 "metadata": {
  "instance_type": "ml.m5.8xlarge",
  "kernelspec": {
   "display_name": "Python 3 (TensorFlow 2.10.0 Python 3.9 CPU Optimized)",
   "language": "python",
   "name": "python3__SAGEMAKER_INTERNAL__arn:aws:sagemaker:us-east-1:081325390199:image/tensorflow-2.10-cpu-py39-ubuntu20.04-sagemaker-v1"
  },
  "language_info": {
   "codemirror_mode": {
    "name": "ipython",
    "version": 3
   },
   "file_extension": ".py",
   "mimetype": "text/x-python",
   "name": "python",
   "nbconvert_exporter": "python",
   "pygments_lexer": "ipython3",
   "version": "3.9.10"
  }
 },
 "nbformat": 4,
 "nbformat_minor": 5
}
