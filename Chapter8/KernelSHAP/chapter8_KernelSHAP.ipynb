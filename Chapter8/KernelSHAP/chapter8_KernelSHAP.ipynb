{
 "cells": [
  {
   "cell_type": "markdown",
   "id": "b51b92e4",
   "metadata": {},
   "source": [
    "# Chapter 8 - Model-agnostic versus Model-specific Explainability\n",
    "\n",
    "[SHapley Additive exPlanations (SHAP)](https://github.com/slundberg/shap) explains the output of an ML model based on calculated SHAP values to show the impact of each feature for a given prediction and the overall model behavior in the decision-making process. **Kernel SHAP** is a model-agnostic method implemented in the SHAP library. \n",
    "\n",
    "According to the [American Cancer Society](https://www.cancer.org/cancer/breast-cancer/about/how-common-is-breast-cancer.html), breast cancer is the second leading cause of cancer death in women after lung cancer. The average risk of a woman in the United States being diagnosed with breast cancer is 13%, meaning there is a 1 in 8 chance of developing breast cancer. In this notebook, we will use AutoGluon to build a binary classifier to classify tumors into malignant (cancerous) or benign (non-cancerous) using the [Breast Cancer Dataset](https://www.kaggle.com/datasets/yasserh/breast-cancer-dataset). Then, we will use Kernel SHAP to assess the model's interpretability. \n",
    "\n",
    "You can experiment with this example on [Amazon SageMaker Studio Lab](https://aws.amazon.com/sagemaker/studio-lab/), a free ML development environment that provides up to 12 hours of CPU or 4 hours of GPU per user session and 15 GiB storage at no cost. Alternatively, you can try this on your preferred Integrated Development Environment (IDE)."
   ]
  },
  {
   "cell_type": "markdown",
   "id": "2e54dd68-ef3a-42cb-ac81-0741c6a0f709",
   "metadata": {
    "tags": []
   },
   "source": [
    "## Setup\n",
    "\n",
    "Install and load essential libraries."
   ]
  },
  {
   "cell_type": "code",
   "execution_count": 2,
   "id": "5f00e1ed",
   "metadata": {
    "tags": []
   },
   "outputs": [
    {
     "name": "stdout",
     "output_type": "stream",
     "text": [
      "\u001b[33mWARNING: Running pip as the 'root' user can result in broken permissions and conflicting behaviour with the system package manager. It is recommended to use a virtual environment instead: https://pip.pypa.io/warnings/venv\u001b[0m\u001b[33m\n",
      "\u001b[0m"
     ]
    }
   ],
   "source": [
    "# Install essential libraries\n",
    "\n",
    "import sys\n",
    "!{sys.executable} -m pip install -qr requirements.txt"
   ]
  },
  {
   "cell_type": "code",
   "execution_count": 3,
   "id": "34a268be",
   "metadata": {
    "tags": []
   },
   "outputs": [
    {
     "name": "stdout",
     "output_type": "stream",
     "text": [
      "TensorFlow version: 2.11.0\n",
      "Python version: 3.9.10\n",
      "AutoGluon version: 0.6.2\n"
     ]
    }
   ],
   "source": [
    "# Load libraries\n",
    "\n",
    "%matplotlib inline\n",
    "\n",
    "import tensorflow as tf\n",
    "from tensorflow import keras\n",
    "from sklearn.model_selection import train_test_split\n",
    "import matplotlib.pyplot as plt\n",
    "import pandas as pd\n",
    "import numpy as np\n",
    "import sklearn\n",
    "import shap\n",
    "import os\n",
    "import re\n",
    "import string\n",
    "from platform import python_version\n",
    "import warnings\n",
    "import movecolumn as mc\n",
    "from sklearn import preprocessing\n",
    "from autogluon.tabular.version import __version__\n",
    "from autogluon.tabular import TabularDataset, TabularPredictor\n",
    "\n",
    "warnings.filterwarnings(\"ignore\")\n",
    "\n",
    "os.environ[\"TF_CPP_MIN_LOG_LEVEL\"] = \"3\"\n",
    "\n",
    "print(f'TensorFlow version: {tf.__version__}')\n",
    "print(f'Python version: {python_version()}')\n",
    "print(f'AutoGluon version: {__version__}')"
   ]
  },
  {
   "cell_type": "markdown",
   "id": "5287f1d3-0b4f-4e40-b071-020c499bd880",
   "metadata": {},
   "source": [
    "## Prepare the Data"
   ]
  },
  {
   "cell_type": "code",
   "execution_count": 4,
   "id": "f47b1349",
   "metadata": {
    "tags": []
   },
   "outputs": [
    {
     "data": {
      "text/html": [
       "<div>\n",
       "<style scoped>\n",
       "    .dataframe tbody tr th:only-of-type {\n",
       "        vertical-align: middle;\n",
       "    }\n",
       "\n",
       "    .dataframe tbody tr th {\n",
       "        vertical-align: top;\n",
       "    }\n",
       "\n",
       "    .dataframe thead th {\n",
       "        text-align: right;\n",
       "    }\n",
       "</style>\n",
       "<table border=\"1\" class=\"dataframe\">\n",
       "  <thead>\n",
       "    <tr style=\"text-align: right;\">\n",
       "      <th></th>\n",
       "      <th>id</th>\n",
       "      <th>diagnosis</th>\n",
       "      <th>radius_mean</th>\n",
       "      <th>texture_mean</th>\n",
       "      <th>perimeter_mean</th>\n",
       "      <th>area_mean</th>\n",
       "      <th>smoothness_mean</th>\n",
       "      <th>compactness_mean</th>\n",
       "      <th>concavity_mean</th>\n",
       "      <th>concave points_mean</th>\n",
       "      <th>...</th>\n",
       "      <th>radius_worst</th>\n",
       "      <th>texture_worst</th>\n",
       "      <th>perimeter_worst</th>\n",
       "      <th>area_worst</th>\n",
       "      <th>smoothness_worst</th>\n",
       "      <th>compactness_worst</th>\n",
       "      <th>concavity_worst</th>\n",
       "      <th>concave points_worst</th>\n",
       "      <th>symmetry_worst</th>\n",
       "      <th>fractal_dimension_worst</th>\n",
       "    </tr>\n",
       "  </thead>\n",
       "  <tbody>\n",
       "    <tr>\n",
       "      <th>0</th>\n",
       "      <td>842302</td>\n",
       "      <td>M</td>\n",
       "      <td>17.99</td>\n",
       "      <td>10.38</td>\n",
       "      <td>122.80</td>\n",
       "      <td>1001.0</td>\n",
       "      <td>0.11840</td>\n",
       "      <td>0.27760</td>\n",
       "      <td>0.3001</td>\n",
       "      <td>0.14710</td>\n",
       "      <td>...</td>\n",
       "      <td>25.38</td>\n",
       "      <td>17.33</td>\n",
       "      <td>184.60</td>\n",
       "      <td>2019.0</td>\n",
       "      <td>0.1622</td>\n",
       "      <td>0.6656</td>\n",
       "      <td>0.7119</td>\n",
       "      <td>0.2654</td>\n",
       "      <td>0.4601</td>\n",
       "      <td>0.11890</td>\n",
       "    </tr>\n",
       "    <tr>\n",
       "      <th>1</th>\n",
       "      <td>842517</td>\n",
       "      <td>M</td>\n",
       "      <td>20.57</td>\n",
       "      <td>17.77</td>\n",
       "      <td>132.90</td>\n",
       "      <td>1326.0</td>\n",
       "      <td>0.08474</td>\n",
       "      <td>0.07864</td>\n",
       "      <td>0.0869</td>\n",
       "      <td>0.07017</td>\n",
       "      <td>...</td>\n",
       "      <td>24.99</td>\n",
       "      <td>23.41</td>\n",
       "      <td>158.80</td>\n",
       "      <td>1956.0</td>\n",
       "      <td>0.1238</td>\n",
       "      <td>0.1866</td>\n",
       "      <td>0.2416</td>\n",
       "      <td>0.1860</td>\n",
       "      <td>0.2750</td>\n",
       "      <td>0.08902</td>\n",
       "    </tr>\n",
       "    <tr>\n",
       "      <th>2</th>\n",
       "      <td>84300903</td>\n",
       "      <td>M</td>\n",
       "      <td>19.69</td>\n",
       "      <td>21.25</td>\n",
       "      <td>130.00</td>\n",
       "      <td>1203.0</td>\n",
       "      <td>0.10960</td>\n",
       "      <td>0.15990</td>\n",
       "      <td>0.1974</td>\n",
       "      <td>0.12790</td>\n",
       "      <td>...</td>\n",
       "      <td>23.57</td>\n",
       "      <td>25.53</td>\n",
       "      <td>152.50</td>\n",
       "      <td>1709.0</td>\n",
       "      <td>0.1444</td>\n",
       "      <td>0.4245</td>\n",
       "      <td>0.4504</td>\n",
       "      <td>0.2430</td>\n",
       "      <td>0.3613</td>\n",
       "      <td>0.08758</td>\n",
       "    </tr>\n",
       "    <tr>\n",
       "      <th>3</th>\n",
       "      <td>84348301</td>\n",
       "      <td>M</td>\n",
       "      <td>11.42</td>\n",
       "      <td>20.38</td>\n",
       "      <td>77.58</td>\n",
       "      <td>386.1</td>\n",
       "      <td>0.14250</td>\n",
       "      <td>0.28390</td>\n",
       "      <td>0.2414</td>\n",
       "      <td>0.10520</td>\n",
       "      <td>...</td>\n",
       "      <td>14.91</td>\n",
       "      <td>26.50</td>\n",
       "      <td>98.87</td>\n",
       "      <td>567.7</td>\n",
       "      <td>0.2098</td>\n",
       "      <td>0.8663</td>\n",
       "      <td>0.6869</td>\n",
       "      <td>0.2575</td>\n",
       "      <td>0.6638</td>\n",
       "      <td>0.17300</td>\n",
       "    </tr>\n",
       "    <tr>\n",
       "      <th>4</th>\n",
       "      <td>84358402</td>\n",
       "      <td>M</td>\n",
       "      <td>20.29</td>\n",
       "      <td>14.34</td>\n",
       "      <td>135.10</td>\n",
       "      <td>1297.0</td>\n",
       "      <td>0.10030</td>\n",
       "      <td>0.13280</td>\n",
       "      <td>0.1980</td>\n",
       "      <td>0.10430</td>\n",
       "      <td>...</td>\n",
       "      <td>22.54</td>\n",
       "      <td>16.67</td>\n",
       "      <td>152.20</td>\n",
       "      <td>1575.0</td>\n",
       "      <td>0.1374</td>\n",
       "      <td>0.2050</td>\n",
       "      <td>0.4000</td>\n",
       "      <td>0.1625</td>\n",
       "      <td>0.2364</td>\n",
       "      <td>0.07678</td>\n",
       "    </tr>\n",
       "  </tbody>\n",
       "</table>\n",
       "<p>5 rows × 32 columns</p>\n",
       "</div>"
      ],
      "text/plain": [
       "         id diagnosis  radius_mean  texture_mean  perimeter_mean  area_mean  \\\n",
       "0    842302         M        17.99         10.38          122.80     1001.0   \n",
       "1    842517         M        20.57         17.77          132.90     1326.0   \n",
       "2  84300903         M        19.69         21.25          130.00     1203.0   \n",
       "3  84348301         M        11.42         20.38           77.58      386.1   \n",
       "4  84358402         M        20.29         14.34          135.10     1297.0   \n",
       "\n",
       "   smoothness_mean  compactness_mean  concavity_mean  concave points_mean  \\\n",
       "0          0.11840           0.27760          0.3001              0.14710   \n",
       "1          0.08474           0.07864          0.0869              0.07017   \n",
       "2          0.10960           0.15990          0.1974              0.12790   \n",
       "3          0.14250           0.28390          0.2414              0.10520   \n",
       "4          0.10030           0.13280          0.1980              0.10430   \n",
       "\n",
       "   ...  radius_worst  texture_worst  perimeter_worst  area_worst  \\\n",
       "0  ...         25.38          17.33           184.60      2019.0   \n",
       "1  ...         24.99          23.41           158.80      1956.0   \n",
       "2  ...         23.57          25.53           152.50      1709.0   \n",
       "3  ...         14.91          26.50            98.87       567.7   \n",
       "4  ...         22.54          16.67           152.20      1575.0   \n",
       "\n",
       "   smoothness_worst  compactness_worst  concavity_worst  concave points_worst  \\\n",
       "0            0.1622             0.6656           0.7119                0.2654   \n",
       "1            0.1238             0.1866           0.2416                0.1860   \n",
       "2            0.1444             0.4245           0.4504                0.2430   \n",
       "3            0.2098             0.8663           0.6869                0.2575   \n",
       "4            0.1374             0.2050           0.4000                0.1625   \n",
       "\n",
       "   symmetry_worst  fractal_dimension_worst  \n",
       "0          0.4601                  0.11890  \n",
       "1          0.2750                  0.08902  \n",
       "2          0.3613                  0.08758  \n",
       "3          0.6638                  0.17300  \n",
       "4          0.2364                  0.07678  \n",
       "\n",
       "[5 rows x 32 columns]"
      ]
     },
     "execution_count": 4,
     "metadata": {},
     "output_type": "execute_result"
    }
   ],
   "source": [
    "# Load raw dataset\n",
    "\n",
    "df = pd.read_csv('breast-cancer.csv')\n",
    "df.head(5)"
   ]
  },
  {
   "cell_type": "code",
   "execution_count": 5,
   "id": "a7b3db94-eb76-4064-911c-e8ff4e73f48f",
   "metadata": {
    "tags": []
   },
   "outputs": [
    {
     "data": {
      "text/plain": [
       "<AxesSubplot: >"
      ]
     },
     "execution_count": 5,
     "metadata": {},
     "output_type": "execute_result"
    },
    {
     "data": {
      "image/png": "[encoded data removed]",
      "text/plain": [
       "<Figure size 432x288 with 1 Axes>"
      ]
     },
     "metadata": {
      "needs_background": "light"
     },
     "output_type": "display_data"
    }
   ],
   "source": [
    "# View distribution of the diagnosis target column\n",
    "\n",
    "df['diagnosis'].value_counts().plot(kind = 'bar')"
   ]
  },
  {
   "cell_type": "code",
   "execution_count": 6,
   "id": "ea51f8e4-56b6-4062-a19c-6f264f4b2598",
   "metadata": {
    "tags": []
   },
   "outputs": [
    {
     "name": "stdout",
     "output_type": "stream",
     "text": [
      "<class 'pandas.core.frame.DataFrame'>\n",
      "RangeIndex: 569 entries, 0 to 568\n",
      "Data columns (total 32 columns):\n",
      " #   Column                   Non-Null Count  Dtype  \n",
      "---  ------                   --------------  -----  \n",
      " 0   id                       569 non-null    int64  \n",
      " 1   diagnosis                569 non-null    object \n",
      " 2   radius_mean              569 non-null    float64\n",
      " 3   texture_mean             569 non-null    float64\n",
      " 4   perimeter_mean           569 non-null    float64\n",
      " 5   area_mean                569 non-null    float64\n",
      " 6   smoothness_mean          569 non-null    float64\n",
      " 7   compactness_mean         569 non-null    float64\n",
      " 8   concavity_mean           569 non-null    float64\n",
      " 9   concave points_mean      569 non-null    float64\n",
      " 10  symmetry_mean            569 non-null    float64\n",
      " 11  fractal_dimension_mean   569 non-null    float64\n",
      " 12  radius_se                569 non-null    float64\n",
      " 13  texture_se               569 non-null    float64\n",
      " 14  perimeter_se             569 non-null    float64\n",
      " 15  area_se                  569 non-null    float64\n",
      " 16  smoothness_se            569 non-null    float64\n",
      " 17  compactness_se           569 non-null    float64\n",
      " 18  concavity_se             569 non-null    float64\n",
      " 19  concave points_se        569 non-null    float64\n",
      " 20  symmetry_se              569 non-null    float64\n",
      " 21  fractal_dimension_se     569 non-null    float64\n",
      " 22  radius_worst             569 non-null    float64\n",
      " 23  texture_worst            569 non-null    float64\n",
      " 24  perimeter_worst          569 non-null    float64\n",
      " 25  area_worst               569 non-null    float64\n",
      " 26  smoothness_worst         569 non-null    float64\n",
      " 27  compactness_worst        569 non-null    float64\n",
      " 28  concavity_worst          569 non-null    float64\n",
      " 29  concave points_worst     569 non-null    float64\n",
      " 30  symmetry_worst           569 non-null    float64\n",
      " 31  fractal_dimension_worst  569 non-null    float64\n",
      "dtypes: float64(30), int64(1), object(1)\n",
      "memory usage: 142.4+ KB\n"
     ]
    }
   ],
   "source": [
    "# View dataset information\n",
    "\n",
    "df.info()"
   ]
  },
  {
   "cell_type": "code",
   "execution_count": 7,
   "id": "6ca94b1c-6643-42ac-bffd-74ec38e695ec",
   "metadata": {
    "tags": []
   },
   "outputs": [
    {
     "data": {
      "text/html": [
       "<div>\n",
       "<style scoped>\n",
       "    .dataframe tbody tr th:only-of-type {\n",
       "        vertical-align: middle;\n",
       "    }\n",
       "\n",
       "    .dataframe tbody tr th {\n",
       "        vertical-align: top;\n",
       "    }\n",
       "\n",
       "    .dataframe thead th {\n",
       "        text-align: right;\n",
       "    }\n",
       "</style>\n",
       "<table border=\"1\" class=\"dataframe\">\n",
       "  <thead>\n",
       "    <tr style=\"text-align: right;\">\n",
       "      <th></th>\n",
       "      <th>id</th>\n",
       "      <th>radius_mean</th>\n",
       "      <th>texture_mean</th>\n",
       "      <th>perimeter_mean</th>\n",
       "      <th>area_mean</th>\n",
       "      <th>smoothness_mean</th>\n",
       "      <th>compactness_mean</th>\n",
       "      <th>concavity_mean</th>\n",
       "      <th>concave points_mean</th>\n",
       "      <th>symmetry_mean</th>\n",
       "      <th>...</th>\n",
       "      <th>texture_worst</th>\n",
       "      <th>perimeter_worst</th>\n",
       "      <th>area_worst</th>\n",
       "      <th>smoothness_worst</th>\n",
       "      <th>compactness_worst</th>\n",
       "      <th>concavity_worst</th>\n",
       "      <th>concave points_worst</th>\n",
       "      <th>symmetry_worst</th>\n",
       "      <th>fractal_dimension_worst</th>\n",
       "      <th>diagnosis</th>\n",
       "    </tr>\n",
       "  </thead>\n",
       "  <tbody>\n",
       "    <tr>\n",
       "      <th>0</th>\n",
       "      <td>842302</td>\n",
       "      <td>17.99</td>\n",
       "      <td>10.38</td>\n",
       "      <td>122.8</td>\n",
       "      <td>1001.0</td>\n",
       "      <td>0.11840</td>\n",
       "      <td>0.27760</td>\n",
       "      <td>0.3001</td>\n",
       "      <td>0.14710</td>\n",
       "      <td>0.2419</td>\n",
       "      <td>...</td>\n",
       "      <td>17.33</td>\n",
       "      <td>184.6</td>\n",
       "      <td>2019.0</td>\n",
       "      <td>0.1622</td>\n",
       "      <td>0.6656</td>\n",
       "      <td>0.7119</td>\n",
       "      <td>0.2654</td>\n",
       "      <td>0.4601</td>\n",
       "      <td>0.11890</td>\n",
       "      <td>M</td>\n",
       "    </tr>\n",
       "    <tr>\n",
       "      <th>1</th>\n",
       "      <td>842517</td>\n",
       "      <td>20.57</td>\n",
       "      <td>17.77</td>\n",
       "      <td>132.9</td>\n",
       "      <td>1326.0</td>\n",
       "      <td>0.08474</td>\n",
       "      <td>0.07864</td>\n",
       "      <td>0.0869</td>\n",
       "      <td>0.07017</td>\n",
       "      <td>0.1812</td>\n",
       "      <td>...</td>\n",
       "      <td>23.41</td>\n",
       "      <td>158.8</td>\n",
       "      <td>1956.0</td>\n",
       "      <td>0.1238</td>\n",
       "      <td>0.1866</td>\n",
       "      <td>0.2416</td>\n",
       "      <td>0.1860</td>\n",
       "      <td>0.2750</td>\n",
       "      <td>0.08902</td>\n",
       "      <td>M</td>\n",
       "    </tr>\n",
       "    <tr>\n",
       "      <th>2</th>\n",
       "      <td>84300903</td>\n",
       "      <td>19.69</td>\n",
       "      <td>21.25</td>\n",
       "      <td>130.0</td>\n",
       "      <td>1203.0</td>\n",
       "      <td>0.10960</td>\n",
       "      <td>0.15990</td>\n",
       "      <td>0.1974</td>\n",
       "      <td>0.12790</td>\n",
       "      <td>0.2069</td>\n",
       "      <td>...</td>\n",
       "      <td>25.53</td>\n",
       "      <td>152.5</td>\n",
       "      <td>1709.0</td>\n",
       "      <td>0.1444</td>\n",
       "      <td>0.4245</td>\n",
       "      <td>0.4504</td>\n",
       "      <td>0.2430</td>\n",
       "      <td>0.3613</td>\n",
       "      <td>0.08758</td>\n",
       "      <td>M</td>\n",
       "    </tr>\n",
       "  </tbody>\n",
       "</table>\n",
       "<p>3 rows × 32 columns</p>\n",
       "</div>"
      ],
      "text/plain": [
       "         id  radius_mean  texture_mean  perimeter_mean  area_mean  \\\n",
       "0    842302        17.99         10.38           122.8     1001.0   \n",
       "1    842517        20.57         17.77           132.9     1326.0   \n",
       "2  84300903        19.69         21.25           130.0     1203.0   \n",
       "\n",
       "   smoothness_mean  compactness_mean  concavity_mean  concave points_mean  \\\n",
       "0          0.11840           0.27760          0.3001              0.14710   \n",
       "1          0.08474           0.07864          0.0869              0.07017   \n",
       "2          0.10960           0.15990          0.1974              0.12790   \n",
       "\n",
       "   symmetry_mean  ...  texture_worst  perimeter_worst  area_worst  \\\n",
       "0         0.2419  ...          17.33            184.6      2019.0   \n",
       "1         0.1812  ...          23.41            158.8      1956.0   \n",
       "2         0.2069  ...          25.53            152.5      1709.0   \n",
       "\n",
       "   smoothness_worst  compactness_worst  concavity_worst  concave points_worst  \\\n",
       "0            0.1622             0.6656           0.7119                0.2654   \n",
       "1            0.1238             0.1866           0.2416                0.1860   \n",
       "2            0.1444             0.4245           0.4504                0.2430   \n",
       "\n",
       "   symmetry_worst  fractal_dimension_worst  diagnosis  \n",
       "0          0.4601                  0.11890          M  \n",
       "1          0.2750                  0.08902          M  \n",
       "2          0.3613                  0.08758          M  \n",
       "\n",
       "[3 rows x 32 columns]"
      ]
     },
     "execution_count": 7,
     "metadata": {},
     "output_type": "execute_result"
    }
   ],
   "source": [
    "# AutoGluon infers target label as the last column\n",
    "\n",
    "mc.MoveToLast(df,'diagnosis')\n",
    "df.head(3)"
   ]
  },
  {
   "cell_type": "code",
   "execution_count": 8,
   "id": "68c76993-d31a-482c-9cf2-9e04c4dff81e",
   "metadata": {
    "tags": []
   },
   "outputs": [
    {
     "data": {
      "text/plain": [
       "Index(['id', 'radius_mean', 'texture_mean', 'perimeter_mean', 'area_mean',\n",
       "       'smoothness_mean', 'compactness_mean', 'concavity_mean',\n",
       "       'concave points_mean', 'symmetry_mean', 'fractal_dimension_mean',\n",
       "       'radius_se', 'texture_se', 'perimeter_se', 'area_se', 'smoothness_se',\n",
       "       'compactness_se', 'concavity_se', 'concave points_se', 'symmetry_se',\n",
       "       'fractal_dimension_se', 'radius_worst', 'texture_worst',\n",
       "       'perimeter_worst', 'area_worst', 'smoothness_worst',\n",
       "       'compactness_worst', 'concavity_worst', 'concave points_worst',\n",
       "       'symmetry_worst', 'fractal_dimension_worst', 'diagnosis'],\n",
       "      dtype='object')"
      ]
     },
     "execution_count": 8,
     "metadata": {},
     "output_type": "execute_result"
    }
   ],
   "source": [
    "# View all feature columns\n",
    "\n",
    "df.columns"
   ]
  },
  {
   "cell_type": "code",
   "execution_count": 9,
   "id": "9551a029-4d38-48d0-b609-ae8ad95232ef",
   "metadata": {
    "tags": []
   },
   "outputs": [
    {
     "data": {
      "text/plain": [
       "<AxesSubplot: >"
      ]
     },
     "execution_count": 9,
     "metadata": {},
     "output_type": "execute_result"
    },
    {
     "data": {
      "image/png": "[encoded data removed]",
      "text/plain": [
       "<Figure size 432x288 with 1 Axes>"
      ]
     },
     "metadata": {
      "needs_background": "light"
     },
     "output_type": "display_data"
    }
   ],
   "source": [
    "# Use LabelEncoder to encode categorical columns to numerical values and view class frequency distribution. 0 means benign and 1 means malignant.\n",
    "\n",
    "le = preprocessing.LabelEncoder()\n",
    "le.fit(df['diagnosis'])\n",
    "df['diagnosis'] = le.transform(df['diagnosis'])\n",
    "\n",
    "df['diagnosis'].value_counts().plot(kind = 'bar')"
   ]
  },
  {
   "cell_type": "code",
   "execution_count": 10,
   "id": "9680cef8-2e7a-4419-b36d-498f57959565",
   "metadata": {
    "tags": []
   },
   "outputs": [
    {
     "name": "stdout",
     "output_type": "stream",
     "text": [
      "Train data shape: 455\n",
      "Test data shape: 114\n"
     ]
    }
   ],
   "source": [
    "# Split the data into 80% training and 20% testing\n",
    "\n",
    "train_data,test_data = train_test_split(df, test_size=0.2, random_state = 42)\n",
    "\n",
    "print(f'Train data shape: {train_data.shape[0]}')\n",
    "print(f'Test data shape: {test_data.shape[0]}')"
   ]
  },
  {
   "cell_type": "markdown",
   "id": "5c881b1d-e523-4f78-84ba-d8a256bdb49c",
   "metadata": {},
   "source": [
    "## Train a Tabular Predictor\n",
    "\n",
    "Build a Tabular Predictor using AutoGluon."
   ]
  },
  {
   "cell_type": "code",
   "execution_count": 11,
   "id": "be110bd1-b744-4a9a-b1f7-e2144cd4aba2",
   "metadata": {
    "tags": []
   },
   "outputs": [
    {
     "name": "stdout",
     "output_type": "stream",
     "text": [
      "Model output directory: ag_breast_cancer\n"
     ]
    }
   ],
   "source": [
    "save_path = 'ag_breast_cancer'\n",
    "\n",
    "# Clear or delete if folder exists\n",
    "DO_DELETE = True \n",
    "\n",
    "if DO_DELETE:\n",
    "  try:\n",
    "    tf.compat.v1.gfile.DeleteRecursively(OUTPUT_DIR)\n",
    "  except:\n",
    "    pass\n",
    "\n",
    "tf.io.gfile.makedirs(save_path)\n",
    "print(f'Model output directory: {save_path}')"
   ]
  },
  {
   "cell_type": "code",
   "execution_count": 12,
   "id": "56bcd7fe-42af-468b-9c29-32da6cdf1aad",
   "metadata": {
    "tags": []
   },
   "outputs": [
    {
     "name": "stdout",
     "output_type": "stream",
     "text": [
      "Summary of class variable: \n",
      " count    455.000000\n",
      "mean       0.371429\n",
      "std        0.483719\n",
      "min        0.000000\n",
      "25%        0.000000\n",
      "50%        0.000000\n",
      "75%        1.000000\n",
      "max        1.000000\n",
      "Name: diagnosis, dtype: float64\n"
     ]
    }
   ],
   "source": [
    "# Assign the target label column\n",
    "\n",
    "label = 'diagnosis'\n",
    "print(\"Summary of class variable: \\n\", train_data[label].describe())"
   ]
  },
  {
   "cell_type": "code",
   "execution_count": 13,
   "id": "e5ef9778-16d4-453f-9acc-c32d4a5e3807",
   "metadata": {
    "tags": []
   },
   "outputs": [
    {
     "name": "stderr",
     "output_type": "stream",
     "text": [
      "Warning: path already exists! This predictor may overwrite an existing predictor! path=\"ag_breast_cancer\"\n",
      "Presets specified: ['best_quality']\n",
      "Stack configuration (auto_stack=True): num_stack_levels=0, num_bag_folds=5, num_bag_sets=20\n",
      "Beginning AutoGluon training ... Time limit = 120s\n",
      "AutoGluon will save models to \"ag_breast_cancer/\"\n",
      "AutoGluon Version:  0.6.2\n",
      "Python Version:     3.9.10\n",
      "Operating System:   Linux\n",
      "Platform Machine:   x86_64\n",
      "Platform Version:   #1 SMP Wed Oct 26 20:36:53 UTC 2022\n",
      "Train Data Rows:    455\n",
      "Train Data Columns: 31\n",
      "Label Column: diagnosis\n",
      "Preprocessing data ...\n",
      "AutoGluon infers your prediction problem is: 'binary' (because only two unique label-values observed).\n",
      "\t2 unique label values:  [0, 1]\n",
      "\tIf 'binary' is not the correct problem_type, please manually specify the problem_type parameter during predictor init (You may specify problem_type as one of: ['binary', 'multiclass', 'regression'])\n",
      "Selected class <--> label mapping:  class 1 = 1, class 0 = 0\n",
      "Using Feature Generators to preprocess the data ...\n",
      "Fitting AutoMLPipelineFeatureGenerator...\n",
      "\tAvailable Memory:                    12925.79 MB\n",
      "\tTrain Data (Original)  Memory Usage: 0.11 MB (0.0% of available memory)\n",
      "\tInferring data type of each feature based on column values. Set feature_metadata_in to manually specify special dtypes of the features.\n",
      "\tStage 1 Generators:\n",
      "\t\tFitting AsTypeFeatureGenerator...\n",
      "\tStage 2 Generators:\n",
      "\t\tFitting FillNaFeatureGenerator...\n",
      "\tStage 3 Generators:\n",
      "\t\tFitting IdentityFeatureGenerator...\n",
      "\tStage 4 Generators:\n",
      "\t\tFitting DropUniqueFeatureGenerator...\n",
      "\tTypes of features in original data (raw dtype, special dtypes):\n",
      "\t\t('float', []) : 30 | ['radius_mean', 'texture_mean', 'perimeter_mean', 'area_mean', 'smoothness_mean', ...]\n",
      "\t\t('int', [])   :  1 | ['id']\n",
      "\tTypes of features in processed data (raw dtype, special dtypes):\n",
      "\t\t('float', []) : 30 | ['radius_mean', 'texture_mean', 'perimeter_mean', 'area_mean', 'smoothness_mean', ...]\n",
      "\t\t('int', [])   :  1 | ['id']\n",
      "\t0.0s = Fit runtime\n",
      "\t31 features in original data used to generate 31 features in processed data.\n",
      "\tTrain Data (Processed) Memory Usage: 0.11 MB (0.0% of available memory)\n",
      "Data preprocessing and feature engineering runtime = 0.06s ...\n",
      "AutoGluon will gauge predictive performance using evaluation metric: 'accuracy'\n",
      "\tTo change this, specify the eval_metric parameter of Predictor()\n",
      "Fitting 13 L1 models ...\n",
      "Fitting model: KNeighborsUnif_BAG_L1 ... Training model for up to 119.94s of the 119.93s of remaining time.\n",
      "\t0.7714\t = Validation score   (accuracy)\n",
      "\t0.01s\t = Training   runtime\n",
      "\t0.01s\t = Validation runtime\n",
      "Fitting model: KNeighborsDist_BAG_L1 ... Training model for up to 119.82s of the 119.81s of remaining time.\n",
      "\t0.8066\t = Validation score   (accuracy)\n",
      "\t0.01s\t = Training   runtime\n",
      "\t0.01s\t = Validation runtime\n",
      "Fitting model: LightGBMXT_BAG_L1 ... Training model for up to 119.7s of the 119.7s of remaining time.\n",
      "\tFitting 5 child models (S1F1 - S1F5) | Fitting with ParallelLocalFoldFittingStrategy\n",
      "\t0.9824\t = Validation score   (accuracy)\n",
      "\t4.18s\t = Training   runtime\n",
      "\t0.01s\t = Validation runtime\n",
      "Fitting model: LightGBM_BAG_L1 ... Training model for up to 108.91s of the 108.91s of remaining time.\n",
      "\tFitting 5 child models (S1F1 - S1F5) | Fitting with ParallelLocalFoldFittingStrategy\n",
      "\t0.9692\t = Validation score   (accuracy)\n",
      "\t4.54s\t = Training   runtime\n",
      "\t0.01s\t = Validation runtime\n",
      "Fitting model: RandomForestGini_BAG_L1 ... Training model for up to 101.03s of the 101.03s of remaining time.\n",
      "\t0.967\t = Validation score   (accuracy)\n",
      "\t0.53s\t = Training   runtime\n",
      "\t0.11s\t = Validation runtime\n",
      "Fitting model: RandomForestEntr_BAG_L1 ... Training model for up to 100.28s of the 100.28s of remaining time.\n",
      "\t0.9648\t = Validation score   (accuracy)\n",
      "\t0.56s\t = Training   runtime\n",
      "\t0.11s\t = Validation runtime\n",
      "Fitting model: CatBoost_BAG_L1 ... Training model for up to 99.49s of the 99.49s of remaining time.\n",
      "\tFitting 5 child models (S1F1 - S1F5) | Fitting with ParallelLocalFoldFittingStrategy\n",
      "\t0.967\t = Validation score   (accuracy)\n",
      "\t10.47s\t = Training   runtime\n",
      "\t0.01s\t = Validation runtime\n",
      "Fitting model: ExtraTreesGini_BAG_L1 ... Training model for up to 85.8s of the 85.79s of remaining time.\n",
      "\t0.9692\t = Validation score   (accuracy)\n",
      "\t0.5s\t = Training   runtime\n",
      "\t0.11s\t = Validation runtime\n",
      "Fitting model: ExtraTreesEntr_BAG_L1 ... Training model for up to 85.05s of the 85.05s of remaining time.\n",
      "\t0.9736\t = Validation score   (accuracy)\n",
      "\t0.53s\t = Training   runtime\n",
      "\t0.11s\t = Validation runtime\n",
      "Fitting model: NeuralNetFastAI_BAG_L1 ... Training model for up to 84.3s of the 84.3s of remaining time.\n",
      "\tFitting 5 child models (S1F1 - S1F5) | Fitting with ParallelLocalFoldFittingStrategy\n",
      "\t0.9868\t = Validation score   (accuracy)\n",
      "\t6.71s\t = Training   runtime\n",
      "\t0.17s\t = Validation runtime\n",
      "Fitting model: XGBoost_BAG_L1 ... Training model for up to 74.24s of the 74.23s of remaining time.\n",
      "\tFitting 5 child models (S1F1 - S1F5) | Fitting with ParallelLocalFoldFittingStrategy\n",
      "\t0.9714\t = Validation score   (accuracy)\n",
      "\t2.97s\t = Training   runtime\n",
      "\t0.02s\t = Validation runtime\n",
      "Fitting model: NeuralNetTorch_BAG_L1 ... Training model for up to 67.88s of the 67.88s of remaining time.\n",
      "\tFitting 5 child models (S1F1 - S1F5) | Fitting with ParallelLocalFoldFittingStrategy\n",
      "\t0.9802\t = Validation score   (accuracy)\n",
      "\t6.94s\t = Training   runtime\n",
      "\t0.15s\t = Validation runtime\n",
      "Fitting model: LightGBMLarge_BAG_L1 ... Training model for up to 57.57s of the 57.57s of remaining time.\n",
      "\tFitting 5 child models (S1F1 - S1F5) | Fitting with ParallelLocalFoldFittingStrategy\n",
      "\t0.9626\t = Validation score   (accuracy)\n",
      "\t5.73s\t = Training   runtime\n",
      "\t0.01s\t = Validation runtime\n",
      "Completed 1/20 k-fold bagging repeats ...\n",
      "Fitting model: WeightedEnsemble_L2 ... Training model for up to 119.94s of the 48.41s of remaining time.\n",
      "\t0.9868\t = Validation score   (accuracy)\n",
      "\t0.57s\t = Training   runtime\n",
      "\t0.0s\t = Validation runtime\n",
      "AutoGluon training complete, total runtime = 72.31s ... Best model: \"WeightedEnsemble_L2\"\n",
      "TabularPredictor saved. To load, use: predictor = TabularPredictor.load(\"ag_breast_cancer/\")\n"
     ]
    }
   ],
   "source": [
    "# Set the target label, output directory, and evaluation metric to fit the model. Here, we set a time_limit to 120 seconds for efficiency.\n",
    "# You can remove this setting to train at full duration if needed. For example:\n",
    "# predictor = TabularPredictor(label=label, path=save_path, eval_metric='accuracy').fit(train_data, presets='best_quality')\n",
    "\n",
    "predictor = TabularPredictor(label=label, path=save_path, eval_metric='accuracy').fit(train_data, time_limit=120, presets='best_quality')"
   ]
  },
  {
   "cell_type": "markdown",
   "id": "0c121353-7056-4717-87b9-84b4d7bb1406",
   "metadata": {},
   "source": [
    "## Evaluate Model Performance\n",
    "\n",
    "We can evaluate the performance of trained models using test data:"
   ]
  },
  {
   "cell_type": "code",
   "execution_count": 14,
   "id": "c87d31b4-1b3d-487c-b820-3c8a06bb01d1",
   "metadata": {
    "tags": []
   },
   "outputs": [
    {
     "data": {
      "text/html": [
       "<div>\n",
       "<style scoped>\n",
       "    .dataframe tbody tr th:only-of-type {\n",
       "        vertical-align: middle;\n",
       "    }\n",
       "\n",
       "    .dataframe tbody tr th {\n",
       "        vertical-align: top;\n",
       "    }\n",
       "\n",
       "    .dataframe thead th {\n",
       "        text-align: right;\n",
       "    }\n",
       "</style>\n",
       "<table border=\"1\" class=\"dataframe\">\n",
       "  <thead>\n",
       "    <tr style=\"text-align: right;\">\n",
       "      <th></th>\n",
       "      <th>model</th>\n",
       "      <th>score_test</th>\n",
       "      <th>score_val</th>\n",
       "      <th>pred_time_test</th>\n",
       "      <th>pred_time_val</th>\n",
       "      <th>fit_time</th>\n",
       "      <th>pred_time_test_marginal</th>\n",
       "      <th>pred_time_val_marginal</th>\n",
       "      <th>fit_time_marginal</th>\n",
       "      <th>stack_level</th>\n",
       "      <th>can_infer</th>\n",
       "      <th>fit_order</th>\n",
       "    </tr>\n",
       "  </thead>\n",
       "  <tbody>\n",
       "    <tr>\n",
       "      <th>0</th>\n",
       "      <td>LightGBMLarge_BAG_L1</td>\n",
       "      <td>0.973684</td>\n",
       "      <td>0.962637</td>\n",
       "      <td>0.036925</td>\n",
       "      <td>0.009387</td>\n",
       "      <td>5.726974</td>\n",
       "      <td>0.036925</td>\n",
       "      <td>0.009387</td>\n",
       "      <td>5.726974</td>\n",
       "      <td>1</td>\n",
       "      <td>True</td>\n",
       "      <td>13</td>\n",
       "    </tr>\n",
       "    <tr>\n",
       "      <th>1</th>\n",
       "      <td>ExtraTreesGini_BAG_L1</td>\n",
       "      <td>0.973684</td>\n",
       "      <td>0.969231</td>\n",
       "      <td>0.079361</td>\n",
       "      <td>0.109183</td>\n",
       "      <td>0.498721</td>\n",
       "      <td>0.079361</td>\n",
       "      <td>0.109183</td>\n",
       "      <td>0.498721</td>\n",
       "      <td>1</td>\n",
       "      <td>True</td>\n",
       "      <td>8</td>\n",
       "    </tr>\n",
       "    <tr>\n",
       "      <th>2</th>\n",
       "      <td>ExtraTreesEntr_BAG_L1</td>\n",
       "      <td>0.973684</td>\n",
       "      <td>0.973626</td>\n",
       "      <td>0.079470</td>\n",
       "      <td>0.106434</td>\n",
       "      <td>0.533757</td>\n",
       "      <td>0.079470</td>\n",
       "      <td>0.106434</td>\n",
       "      <td>0.533757</td>\n",
       "      <td>1</td>\n",
       "      <td>True</td>\n",
       "      <td>9</td>\n",
       "    </tr>\n",
       "    <tr>\n",
       "      <th>3</th>\n",
       "      <td>NeuralNetTorch_BAG_L1</td>\n",
       "      <td>0.973684</td>\n",
       "      <td>0.980220</td>\n",
       "      <td>0.120837</td>\n",
       "      <td>0.151183</td>\n",
       "      <td>6.938585</td>\n",
       "      <td>0.120837</td>\n",
       "      <td>0.151183</td>\n",
       "      <td>6.938585</td>\n",
       "      <td>1</td>\n",
       "      <td>True</td>\n",
       "      <td>12</td>\n",
       "    </tr>\n",
       "    <tr>\n",
       "      <th>4</th>\n",
       "      <td>CatBoost_BAG_L1</td>\n",
       "      <td>0.964912</td>\n",
       "      <td>0.967033</td>\n",
       "      <td>0.055664</td>\n",
       "      <td>0.007606</td>\n",
       "      <td>10.466138</td>\n",
       "      <td>0.055664</td>\n",
       "      <td>0.007606</td>\n",
       "      <td>10.466138</td>\n",
       "      <td>1</td>\n",
       "      <td>True</td>\n",
       "      <td>7</td>\n",
       "    </tr>\n",
       "    <tr>\n",
       "      <th>5</th>\n",
       "      <td>RandomForestEntr_BAG_L1</td>\n",
       "      <td>0.964912</td>\n",
       "      <td>0.964835</td>\n",
       "      <td>0.074214</td>\n",
       "      <td>0.105395</td>\n",
       "      <td>0.563835</td>\n",
       "      <td>0.074214</td>\n",
       "      <td>0.105395</td>\n",
       "      <td>0.563835</td>\n",
       "      <td>1</td>\n",
       "      <td>True</td>\n",
       "      <td>6</td>\n",
       "    </tr>\n",
       "    <tr>\n",
       "      <th>6</th>\n",
       "      <td>RandomForestGini_BAG_L1</td>\n",
       "      <td>0.964912</td>\n",
       "      <td>0.967033</td>\n",
       "      <td>0.078656</td>\n",
       "      <td>0.105038</td>\n",
       "      <td>0.531214</td>\n",
       "      <td>0.078656</td>\n",
       "      <td>0.105038</td>\n",
       "      <td>0.531214</td>\n",
       "      <td>1</td>\n",
       "      <td>True</td>\n",
       "      <td>5</td>\n",
       "    </tr>\n",
       "    <tr>\n",
       "      <th>7</th>\n",
       "      <td>NeuralNetFastAI_BAG_L1</td>\n",
       "      <td>0.964912</td>\n",
       "      <td>0.986813</td>\n",
       "      <td>0.228196</td>\n",
       "      <td>0.169957</td>\n",
       "      <td>6.707247</td>\n",
       "      <td>0.228196</td>\n",
       "      <td>0.169957</td>\n",
       "      <td>6.707247</td>\n",
       "      <td>1</td>\n",
       "      <td>True</td>\n",
       "      <td>10</td>\n",
       "    </tr>\n",
       "    <tr>\n",
       "      <th>8</th>\n",
       "      <td>WeightedEnsemble_L2</td>\n",
       "      <td>0.964912</td>\n",
       "      <td>0.986813</td>\n",
       "      <td>0.231751</td>\n",
       "      <td>0.171190</td>\n",
       "      <td>7.282166</td>\n",
       "      <td>0.003555</td>\n",
       "      <td>0.001232</td>\n",
       "      <td>0.574919</td>\n",
       "      <td>2</td>\n",
       "      <td>True</td>\n",
       "      <td>14</td>\n",
       "    </tr>\n",
       "    <tr>\n",
       "      <th>9</th>\n",
       "      <td>LightGBMXT_BAG_L1</td>\n",
       "      <td>0.964912</td>\n",
       "      <td>0.982418</td>\n",
       "      <td>0.388176</td>\n",
       "      <td>0.010027</td>\n",
       "      <td>4.176289</td>\n",
       "      <td>0.388176</td>\n",
       "      <td>0.010027</td>\n",
       "      <td>4.176289</td>\n",
       "      <td>1</td>\n",
       "      <td>True</td>\n",
       "      <td>3</td>\n",
       "    </tr>\n",
       "    <tr>\n",
       "      <th>10</th>\n",
       "      <td>LightGBM_BAG_L1</td>\n",
       "      <td>0.956140</td>\n",
       "      <td>0.969231</td>\n",
       "      <td>0.022551</td>\n",
       "      <td>0.009949</td>\n",
       "      <td>4.543104</td>\n",
       "      <td>0.022551</td>\n",
       "      <td>0.009949</td>\n",
       "      <td>4.543104</td>\n",
       "      <td>1</td>\n",
       "      <td>True</td>\n",
       "      <td>4</td>\n",
       "    </tr>\n",
       "    <tr>\n",
       "      <th>11</th>\n",
       "      <td>XGBoost_BAG_L1</td>\n",
       "      <td>0.956140</td>\n",
       "      <td>0.971429</td>\n",
       "      <td>0.051612</td>\n",
       "      <td>0.020839</td>\n",
       "      <td>2.965834</td>\n",
       "      <td>0.051612</td>\n",
       "      <td>0.020839</td>\n",
       "      <td>2.965834</td>\n",
       "      <td>1</td>\n",
       "      <td>True</td>\n",
       "      <td>11</td>\n",
       "    </tr>\n",
       "    <tr>\n",
       "      <th>12</th>\n",
       "      <td>KNeighborsDist_BAG_L1</td>\n",
       "      <td>0.789474</td>\n",
       "      <td>0.806593</td>\n",
       "      <td>0.011925</td>\n",
       "      <td>0.013806</td>\n",
       "      <td>0.005165</td>\n",
       "      <td>0.011925</td>\n",
       "      <td>0.013806</td>\n",
       "      <td>0.005165</td>\n",
       "      <td>1</td>\n",
       "      <td>True</td>\n",
       "      <td>2</td>\n",
       "    </tr>\n",
       "    <tr>\n",
       "      <th>13</th>\n",
       "      <td>KNeighborsUnif_BAG_L1</td>\n",
       "      <td>0.754386</td>\n",
       "      <td>0.771429</td>\n",
       "      <td>0.022663</td>\n",
       "      <td>0.014839</td>\n",
       "      <td>0.006922</td>\n",
       "      <td>0.022663</td>\n",
       "      <td>0.014839</td>\n",
       "      <td>0.006922</td>\n",
       "      <td>1</td>\n",
       "      <td>True</td>\n",
       "      <td>1</td>\n",
       "    </tr>\n",
       "  </tbody>\n",
       "</table>\n",
       "</div>"
      ],
      "text/plain": [
       "                      model  score_test  score_val  pred_time_test  \\\n",
       "0      LightGBMLarge_BAG_L1    0.973684   0.962637        0.036925   \n",
       "1     ExtraTreesGini_BAG_L1    0.973684   0.969231        0.079361   \n",
       "2     ExtraTreesEntr_BAG_L1    0.973684   0.973626        0.079470   \n",
       "3     NeuralNetTorch_BAG_L1    0.973684   0.980220        0.120837   \n",
       "4           CatBoost_BAG_L1    0.964912   0.967033        0.055664   \n",
       "5   RandomForestEntr_BAG_L1    0.964912   0.964835        0.074214   \n",
       "6   RandomForestGini_BAG_L1    0.964912   0.967033        0.078656   \n",
       "7    NeuralNetFastAI_BAG_L1    0.964912   0.986813        0.228196   \n",
       "8       WeightedEnsemble_L2    0.964912   0.986813        0.231751   \n",
       "9         LightGBMXT_BAG_L1    0.964912   0.982418        0.388176   \n",
       "10          LightGBM_BAG_L1    0.956140   0.969231        0.022551   \n",
       "11           XGBoost_BAG_L1    0.956140   0.971429        0.051612   \n",
       "12    KNeighborsDist_BAG_L1    0.789474   0.806593        0.011925   \n",
       "13    KNeighborsUnif_BAG_L1    0.754386   0.771429        0.022663   \n",
       "\n",
       "    pred_time_val   fit_time  pred_time_test_marginal  pred_time_val_marginal  \\\n",
       "0        0.009387   5.726974                 0.036925                0.009387   \n",
       "1        0.109183   0.498721                 0.079361                0.109183   \n",
       "2        0.106434   0.533757                 0.079470                0.106434   \n",
       "3        0.151183   6.938585                 0.120837                0.151183   \n",
       "4        0.007606  10.466138                 0.055664                0.007606   \n",
       "5        0.105395   0.563835                 0.074214                0.105395   \n",
       "6        0.105038   0.531214                 0.078656                0.105038   \n",
       "7        0.169957   6.707247                 0.228196                0.169957   \n",
       "8        0.171190   7.282166                 0.003555                0.001232   \n",
       "9        0.010027   4.176289                 0.388176                0.010027   \n",
       "10       0.009949   4.543104                 0.022551                0.009949   \n",
       "11       0.020839   2.965834                 0.051612                0.020839   \n",
       "12       0.013806   0.005165                 0.011925                0.013806   \n",
       "13       0.014839   0.006922                 0.022663                0.014839   \n",
       "\n",
       "    fit_time_marginal  stack_level  can_infer  fit_order  \n",
       "0            5.726974            1       True         13  \n",
       "1            0.498721            1       True          8  \n",
       "2            0.533757            1       True          9  \n",
       "3            6.938585            1       True         12  \n",
       "4           10.466138            1       True          7  \n",
       "5            0.563835            1       True          6  \n",
       "6            0.531214            1       True          5  \n",
       "7            6.707247            1       True         10  \n",
       "8            0.574919            2       True         14  \n",
       "9            4.176289            1       True          3  \n",
       "10           4.543104            1       True          4  \n",
       "11           2.965834            1       True         11  \n",
       "12           0.005165            1       True          2  \n",
       "13           0.006922            1       True          1  "
      ]
     },
     "execution_count": 14,
     "metadata": {},
     "output_type": "execute_result"
    }
   ],
   "source": [
    "predictor.leaderboard(test_data, silent=True)"
   ]
  },
  {
   "cell_type": "markdown",
   "id": "2914c463-cdf5-4643-b748-ba6ced725220",
   "metadata": {},
   "source": [
    "Let's obtain predictions for test data using the AutoGluon trained model."
   ]
  },
  {
   "cell_type": "code",
   "execution_count": 15,
   "id": "99729e81-c398-43b0-990d-262472e6797e",
   "metadata": {
    "tags": []
   },
   "outputs": [
    {
     "data": {
      "text/html": [
       "<div>\n",
       "<style scoped>\n",
       "    .dataframe tbody tr th:only-of-type {\n",
       "        vertical-align: middle;\n",
       "    }\n",
       "\n",
       "    .dataframe tbody tr th {\n",
       "        vertical-align: top;\n",
       "    }\n",
       "\n",
       "    .dataframe thead th {\n",
       "        text-align: right;\n",
       "    }\n",
       "</style>\n",
       "<table border=\"1\" class=\"dataframe\">\n",
       "  <thead>\n",
       "    <tr style=\"text-align: right;\">\n",
       "      <th></th>\n",
       "      <th>id</th>\n",
       "      <th>radius_mean</th>\n",
       "      <th>texture_mean</th>\n",
       "      <th>perimeter_mean</th>\n",
       "      <th>area_mean</th>\n",
       "      <th>smoothness_mean</th>\n",
       "      <th>compactness_mean</th>\n",
       "      <th>concavity_mean</th>\n",
       "      <th>concave points_mean</th>\n",
       "      <th>symmetry_mean</th>\n",
       "      <th>...</th>\n",
       "      <th>radius_worst</th>\n",
       "      <th>texture_worst</th>\n",
       "      <th>perimeter_worst</th>\n",
       "      <th>area_worst</th>\n",
       "      <th>smoothness_worst</th>\n",
       "      <th>compactness_worst</th>\n",
       "      <th>concavity_worst</th>\n",
       "      <th>concave points_worst</th>\n",
       "      <th>symmetry_worst</th>\n",
       "      <th>fractal_dimension_worst</th>\n",
       "    </tr>\n",
       "  </thead>\n",
       "  <tbody>\n",
       "    <tr>\n",
       "      <th>204</th>\n",
       "      <td>87930</td>\n",
       "      <td>12.47</td>\n",
       "      <td>18.60</td>\n",
       "      <td>81.09</td>\n",
       "      <td>481.9</td>\n",
       "      <td>0.09965</td>\n",
       "      <td>0.1058</td>\n",
       "      <td>0.08005</td>\n",
       "      <td>0.03821</td>\n",
       "      <td>0.1925</td>\n",
       "      <td>...</td>\n",
       "      <td>14.97</td>\n",
       "      <td>24.64</td>\n",
       "      <td>96.05</td>\n",
       "      <td>677.9</td>\n",
       "      <td>0.1426</td>\n",
       "      <td>0.2378</td>\n",
       "      <td>0.2671</td>\n",
       "      <td>0.10150</td>\n",
       "      <td>0.3014</td>\n",
       "      <td>0.08750</td>\n",
       "    </tr>\n",
       "    <tr>\n",
       "      <th>70</th>\n",
       "      <td>859575</td>\n",
       "      <td>18.94</td>\n",
       "      <td>21.31</td>\n",
       "      <td>123.60</td>\n",
       "      <td>1130.0</td>\n",
       "      <td>0.09009</td>\n",
       "      <td>0.1029</td>\n",
       "      <td>0.10800</td>\n",
       "      <td>0.07951</td>\n",
       "      <td>0.1582</td>\n",
       "      <td>...</td>\n",
       "      <td>24.86</td>\n",
       "      <td>26.58</td>\n",
       "      <td>165.90</td>\n",
       "      <td>1866.0</td>\n",
       "      <td>0.1193</td>\n",
       "      <td>0.2336</td>\n",
       "      <td>0.2687</td>\n",
       "      <td>0.17890</td>\n",
       "      <td>0.2551</td>\n",
       "      <td>0.06589</td>\n",
       "    </tr>\n",
       "    <tr>\n",
       "      <th>131</th>\n",
       "      <td>8670</td>\n",
       "      <td>15.46</td>\n",
       "      <td>19.48</td>\n",
       "      <td>101.70</td>\n",
       "      <td>748.9</td>\n",
       "      <td>0.10920</td>\n",
       "      <td>0.1223</td>\n",
       "      <td>0.14660</td>\n",
       "      <td>0.08087</td>\n",
       "      <td>0.1931</td>\n",
       "      <td>...</td>\n",
       "      <td>19.26</td>\n",
       "      <td>26.00</td>\n",
       "      <td>124.90</td>\n",
       "      <td>1156.0</td>\n",
       "      <td>0.1546</td>\n",
       "      <td>0.2394</td>\n",
       "      <td>0.3791</td>\n",
       "      <td>0.15140</td>\n",
       "      <td>0.2837</td>\n",
       "      <td>0.08019</td>\n",
       "    </tr>\n",
       "    <tr>\n",
       "      <th>431</th>\n",
       "      <td>907915</td>\n",
       "      <td>12.40</td>\n",
       "      <td>17.68</td>\n",
       "      <td>81.47</td>\n",
       "      <td>467.8</td>\n",
       "      <td>0.10540</td>\n",
       "      <td>0.1316</td>\n",
       "      <td>0.07741</td>\n",
       "      <td>0.02799</td>\n",
       "      <td>0.1811</td>\n",
       "      <td>...</td>\n",
       "      <td>12.88</td>\n",
       "      <td>22.91</td>\n",
       "      <td>89.61</td>\n",
       "      <td>515.8</td>\n",
       "      <td>0.1450</td>\n",
       "      <td>0.2629</td>\n",
       "      <td>0.2403</td>\n",
       "      <td>0.07370</td>\n",
       "      <td>0.2556</td>\n",
       "      <td>0.09359</td>\n",
       "    </tr>\n",
       "    <tr>\n",
       "      <th>540</th>\n",
       "      <td>921385</td>\n",
       "      <td>11.54</td>\n",
       "      <td>14.44</td>\n",
       "      <td>74.65</td>\n",
       "      <td>402.9</td>\n",
       "      <td>0.09984</td>\n",
       "      <td>0.1120</td>\n",
       "      <td>0.06737</td>\n",
       "      <td>0.02594</td>\n",
       "      <td>0.1818</td>\n",
       "      <td>...</td>\n",
       "      <td>12.26</td>\n",
       "      <td>19.68</td>\n",
       "      <td>78.78</td>\n",
       "      <td>457.8</td>\n",
       "      <td>0.1345</td>\n",
       "      <td>0.2118</td>\n",
       "      <td>0.1797</td>\n",
       "      <td>0.06918</td>\n",
       "      <td>0.2329</td>\n",
       "      <td>0.08134</td>\n",
       "    </tr>\n",
       "  </tbody>\n",
       "</table>\n",
       "<p>5 rows × 31 columns</p>\n",
       "</div>"
      ],
      "text/plain": [
       "         id  radius_mean  texture_mean  perimeter_mean  area_mean  \\\n",
       "204   87930        12.47         18.60           81.09      481.9   \n",
       "70   859575        18.94         21.31          123.60     1130.0   \n",
       "131    8670        15.46         19.48          101.70      748.9   \n",
       "431  907915        12.40         17.68           81.47      467.8   \n",
       "540  921385        11.54         14.44           74.65      402.9   \n",
       "\n",
       "     smoothness_mean  compactness_mean  concavity_mean  concave points_mean  \\\n",
       "204          0.09965            0.1058         0.08005              0.03821   \n",
       "70           0.09009            0.1029         0.10800              0.07951   \n",
       "131          0.10920            0.1223         0.14660              0.08087   \n",
       "431          0.10540            0.1316         0.07741              0.02799   \n",
       "540          0.09984            0.1120         0.06737              0.02594   \n",
       "\n",
       "     symmetry_mean  ...  radius_worst  texture_worst  perimeter_worst  \\\n",
       "204         0.1925  ...         14.97          24.64            96.05   \n",
       "70          0.1582  ...         24.86          26.58           165.90   \n",
       "131         0.1931  ...         19.26          26.00           124.90   \n",
       "431         0.1811  ...         12.88          22.91            89.61   \n",
       "540         0.1818  ...         12.26          19.68            78.78   \n",
       "\n",
       "     area_worst  smoothness_worst  compactness_worst  concavity_worst  \\\n",
       "204       677.9            0.1426             0.2378           0.2671   \n",
       "70       1866.0            0.1193             0.2336           0.2687   \n",
       "131      1156.0            0.1546             0.2394           0.3791   \n",
       "431       515.8            0.1450             0.2629           0.2403   \n",
       "540       457.8            0.1345             0.2118           0.1797   \n",
       "\n",
       "     concave points_worst  symmetry_worst  fractal_dimension_worst  \n",
       "204               0.10150          0.3014                  0.08750  \n",
       "70                0.17890          0.2551                  0.06589  \n",
       "131               0.15140          0.2837                  0.08019  \n",
       "431               0.07370          0.2556                  0.09359  \n",
       "540               0.06918          0.2329                  0.08134  \n",
       "\n",
       "[5 rows x 31 columns]"
      ]
     },
     "execution_count": 15,
     "metadata": {},
     "output_type": "execute_result"
    }
   ],
   "source": [
    "y_test = test_data[label]\n",
    "\n",
    "test_data_nolab = test_data.drop(columns=[label])\n",
    "test_data_nolab.head()"
   ]
  },
  {
   "cell_type": "code",
   "execution_count": 16,
   "id": "51170833-3baa-4833-a87e-ce055d85353b",
   "metadata": {
    "tags": []
   },
   "outputs": [
    {
     "name": "stderr",
     "output_type": "stream",
     "text": [
      "Evaluation: accuracy on test data: 0.9649122807017544\n",
      "Evaluations on test data:\n",
      "{\n",
      "    \"accuracy\": 0.9649122807017544,\n",
      "    \"balanced_accuracy\": 0.9626596790042581,\n",
      "    \"mcc\": 0.9253193580085162,\n",
      "    \"f1\": 0.9534883720930233,\n",
      "    \"precision\": 0.9534883720930233,\n",
      "    \"recall\": 0.9534883720930233\n",
      "}\n"
     ]
    },
    {
     "name": "stdout",
     "output_type": "stream",
     "text": [
      "Predictions:  \n",
      " 204    0\n",
      "70     1\n",
      "131    1\n",
      "431    0\n",
      "540    0\n",
      "      ..\n",
      "486    0\n",
      "75     1\n",
      "249    0\n",
      "238    0\n",
      "265    1\n",
      "Name: diagnosis, Length: 114, dtype: int64\n"
     ]
    }
   ],
   "source": [
    "# Obtain predictions on test data\n",
    "\n",
    "#predictor = TabularPredictor.load(save_path) \n",
    "\n",
    "y_pred = predictor.predict(test_data_nolab)\n",
    "print(\"Predictions:  \\n\", y_pred)\n",
    "perf = predictor.evaluate_predictions(y_true=y_test, y_pred=y_pred, auxiliary_metrics=True)"
   ]
  },
  {
   "cell_type": "code",
   "execution_count": 17,
   "id": "c641e4e8-42e4-4cf0-8e75-960053e61add",
   "metadata": {
    "tags": []
   },
   "outputs": [
    {
     "data": {
      "text/html": [
       "<div>\n",
       "<style scoped>\n",
       "    .dataframe tbody tr th:only-of-type {\n",
       "        vertical-align: middle;\n",
       "    }\n",
       "\n",
       "    .dataframe tbody tr th {\n",
       "        vertical-align: top;\n",
       "    }\n",
       "\n",
       "    .dataframe thead th {\n",
       "        text-align: right;\n",
       "    }\n",
       "</style>\n",
       "<table border=\"1\" class=\"dataframe\">\n",
       "  <thead>\n",
       "    <tr style=\"text-align: right;\">\n",
       "      <th></th>\n",
       "      <th>0</th>\n",
       "      <th>1</th>\n",
       "    </tr>\n",
       "  </thead>\n",
       "  <tbody>\n",
       "    <tr>\n",
       "      <th>204</th>\n",
       "      <td>0.950747</td>\n",
       "      <td>0.049253</td>\n",
       "    </tr>\n",
       "    <tr>\n",
       "      <th>70</th>\n",
       "      <td>0.001357</td>\n",
       "      <td>0.998643</td>\n",
       "    </tr>\n",
       "    <tr>\n",
       "      <th>131</th>\n",
       "      <td>0.017722</td>\n",
       "      <td>0.982278</td>\n",
       "    </tr>\n",
       "    <tr>\n",
       "      <th>431</th>\n",
       "      <td>0.985273</td>\n",
       "      <td>0.014727</td>\n",
       "    </tr>\n",
       "    <tr>\n",
       "      <th>540</th>\n",
       "      <td>0.991829</td>\n",
       "      <td>0.008171</td>\n",
       "    </tr>\n",
       "  </tbody>\n",
       "</table>\n",
       "</div>"
      ],
      "text/plain": [
       "            0         1\n",
       "204  0.950747  0.049253\n",
       "70   0.001357  0.998643\n",
       "131  0.017722  0.982278\n",
       "431  0.985273  0.014727\n",
       "540  0.991829  0.008171"
      ]
     },
     "execution_count": 17,
     "metadata": {},
     "output_type": "execute_result"
    }
   ],
   "source": [
    "# Obtain predicted class probabilities\n",
    "\n",
    "pred_probs = predictor.predict_proba(test_data_nolab)\n",
    "pred_probs.head(5)"
   ]
  },
  {
   "cell_type": "code",
   "execution_count": 18,
   "id": "cae74a04-acdf-4673-af70-7816b6630375",
   "metadata": {
    "tags": []
   },
   "outputs": [
    {
     "name": "stdout",
     "output_type": "stream",
     "text": [
      "*** Summary of fit() ***\n",
      "Estimated performance of each model:\n",
      "                      model  score_val  pred_time_val   fit_time  pred_time_val_marginal  fit_time_marginal  stack_level  can_infer  fit_order\n",
      "0    NeuralNetFastAI_BAG_L1   0.986813       0.169957   6.707247                0.169957           6.707247            1       True         10\n",
      "1       WeightedEnsemble_L2   0.986813       0.171190   7.282166                0.001232           0.574919            2       True         14\n",
      "2         LightGBMXT_BAG_L1   0.982418       0.010027   4.176289                0.010027           4.176289            1       True          3\n",
      "3     NeuralNetTorch_BAG_L1   0.980220       0.151183   6.938585                0.151183           6.938585            1       True         12\n",
      "4     ExtraTreesEntr_BAG_L1   0.973626       0.106434   0.533757                0.106434           0.533757            1       True          9\n",
      "5            XGBoost_BAG_L1   0.971429       0.020839   2.965834                0.020839           2.965834            1       True         11\n",
      "6           LightGBM_BAG_L1   0.969231       0.009949   4.543104                0.009949           4.543104            1       True          4\n",
      "7     ExtraTreesGini_BAG_L1   0.969231       0.109183   0.498721                0.109183           0.498721            1       True          8\n",
      "8           CatBoost_BAG_L1   0.967033       0.007606  10.466138                0.007606          10.466138            1       True          7\n",
      "9   RandomForestGini_BAG_L1   0.967033       0.105038   0.531214                0.105038           0.531214            1       True          5\n",
      "10  RandomForestEntr_BAG_L1   0.964835       0.105395   0.563835                0.105395           0.563835            1       True          6\n",
      "11     LightGBMLarge_BAG_L1   0.962637       0.009387   5.726974                0.009387           5.726974            1       True         13\n",
      "12    KNeighborsDist_BAG_L1   0.806593       0.013806   0.005165                0.013806           0.005165            1       True          2\n",
      "13    KNeighborsUnif_BAG_L1   0.771429       0.014839   0.006922                0.014839           0.006922            1       True          1\n",
      "Number of models trained: 14\n",
      "Types of models trained:\n",
      "{'StackerEnsembleModel_XGBoost', 'StackerEnsembleModel_KNN', 'WeightedEnsembleModel', 'StackerEnsembleModel_LGB', 'StackerEnsembleModel_RF', 'StackerEnsembleModel_XT', 'StackerEnsembleModel_CatBoost', 'StackerEnsembleModel_TabularNeuralNetTorch', 'StackerEnsembleModel_NNFastAiTabular'}\n",
      "Bagging used: True  (with 5 folds)\n",
      "Multi-layer stack-ensembling used: False \n",
      "Feature Metadata (Processed):\n",
      "(raw dtype, special dtypes):\n",
      "('float', []) : 30 | ['radius_mean', 'texture_mean', 'perimeter_mean', 'area_mean', 'smoothness_mean', ...]\n",
      "('int', [])   :  1 | ['id']\n",
      "Plot summary of models saved to file: ag_breast_cancer/SummaryOfModels.html\n",
      "*** End of fit() summary ***\n"
     ]
    }
   ],
   "source": [
    "# View training summary\n",
    "\n",
    "results = predictor.fit_summary(show_plot=True)"
   ]
  },
  {
   "cell_type": "code",
   "execution_count": 19,
   "id": "50291ffb-ebb2-4d63-b448-4eb347edbbb8",
   "metadata": {
    "tags": []
   },
   "outputs": [
    {
     "name": "stdout",
     "output_type": "stream",
     "text": [
      "AutoGluon infers problem type is:  binary\n",
      "AutoGluon identified the following types of features:\n",
      "('float', []) : 30 | ['radius_mean', 'texture_mean', 'perimeter_mean', 'area_mean', 'smoothness_mean', ...]\n",
      "('int', [])   :  1 | ['id']\n"
     ]
    }
   ],
   "source": [
    "print(\"AutoGluon infers problem type is: \", predictor.problem_type)\n",
    "print(\"AutoGluon identified the following types of features:\")\n",
    "print(predictor.feature_metadata)"
   ]
  },
  {
   "cell_type": "markdown",
   "id": "a5cf57f8-04e9-4129-bb60-04012ce428b4",
   "metadata": {},
   "source": [
    "## Explain a Model with SHAP\n",
    "\n",
    "We are ready to use Kernel SHAP to explain the model's prediction and visualize Shapley values using different plots provided by SHAP."
   ]
  },
  {
   "cell_type": "code",
   "execution_count": 20,
   "id": "f7751858-c3ce-4e6a-98d4-59313e04cd89",
   "metadata": {
    "tags": []
   },
   "outputs": [],
   "source": [
    "# Load a previously saved trained model\n",
    "\n",
    "loaded_predictor = TabularPredictor.load('ag_breast_cancer/')"
   ]
  },
  {
   "cell_type": "code",
   "execution_count": 21,
   "id": "ae9548c0-cc8b-42fb-bb5f-8acc8265aa74",
   "metadata": {
    "tags": []
   },
   "outputs": [
    {
     "name": "stderr",
     "output_type": "stream",
     "text": [
      "Using 455 background data samples could cause slower run times. Consider using shap.sample(data, K) or shap.kmeans(data, K) to summarize the background as K samples.\n"
     ]
    }
   ],
   "source": [
    "# Create a function to get predictions on test data and pass them to KernelExplainer \n",
    "\n",
    "columns = train_data.columns\n",
    "\n",
    "def get_predictions(input):\n",
    "    df = pd.DataFrame(input, columns=columns)\n",
    "    return predictor.predict(df)\n",
    "\n",
    "data = np.array(train_data.values.tolist())\n",
    "\n",
    "explainer = shap.KernelExplainer(get_predictions, data)"
   ]
  },
  {
   "cell_type": "code",
   "execution_count": null,
   "id": "42998cfc-4800-4cd0-8c27-8df67d77b4e9",
   "metadata": {
    "tags": []
   },
   "outputs": [
    {
     "data": {
      "application/vnd.jupyter.widget-view+json": {
       "model_id": "647ee3f522384ff3b4b54adcdddba96b",
       "version_major": 2,
       "version_minor": 0
      },
      "text/plain": [
       "  0%|          | 0/114 [00:00<?, ?it/s]"
      ]
     },
     "metadata": {},
     "output_type": "display_data"
    }
   ],
   "source": [
    "# For efficiency, set a value for nsamples to limit the number of times SHAP re-evaluates the model when explaining each prediction. Try to tune this number if needed.\n",
    "\n",
    "shap_values = explainer.shap_values(test_data, nsamples=20)"
   ]
  },
  {
   "cell_type": "code",
   "execution_count": null,
   "id": "a1eece52-9e7c-468a-a94c-f375ed6796f2",
   "metadata": {
    "tags": []
   },
   "outputs": [],
   "source": [
    "print(f'SHAP values length: {len(shap_values)}')"
   ]
  },
  {
   "cell_type": "markdown",
   "id": "31fa3de1-f240-4b21-8734-8bcbfd493c40",
   "metadata": {},
   "source": [
    "## Visualize SHAP\n",
    "\n",
    "SHAP provides various visualization to interpret feature importance based on SHAP values. Let's see a few examples."
   ]
  },
  {
   "cell_type": "markdown",
   "id": "22fb0da8-bdcd-4428-aa59-91bdfc884c99",
   "metadata": {},
   "source": [
    "### SHAP Force Plot\n",
    "\n",
    "The SHAP force plot shows which features influenced the model’s prediction for a single observation. Starting at the base value, we can see the increment or decrement of each feature leads us to the final prediction for this sample. Red means the feature pushes the prediction higher to the right, while blue push a lower value prediction to the left. "
   ]
  },
  {
   "cell_type": "code",
   "execution_count": null,
   "id": "995e433a-d9a4-4528-b178-42f3425a2229",
   "metadata": {
    "tags": []
   },
   "outputs": [],
   "source": [
    "# Load JS visualization code\n",
    "shap.initjs()\n",
    "\n",
    "# Explain a specific instance\n",
    "shap.force_plot(explainer.expected_value, shap_values=shap_values[5], features=test_data.iloc[1,:])"
   ]
  },
  {
   "cell_type": "code",
   "execution_count": null,
   "id": "bdb8d996-7147-4cf3-89ce-183ff8a74a8a",
   "metadata": {
    "tags": []
   },
   "outputs": [],
   "source": [
    "# Explain a specific instance\n",
    "shap.force_plot(explainer.expected_value, shap_values=shap_values[0], features=test_data.iloc[1,:])"
   ]
  },
  {
   "cell_type": "markdown",
   "id": "6306b19e-a7c4-4c9f-868d-278d6507368a",
   "metadata": {},
   "source": [
    "### Decision Plot\n",
    "\n",
    "We can aggregate and visualize SHAP values using a decision plot to understand the overall model behavior in decision-making. The features are ordered by descending importance, and the lines move upwards from the bottom at a base value to their final prediction. The X-axis represents SHAP values for each feature on the y-axis."
   ]
  },
  {
   "cell_type": "code",
   "execution_count": null,
   "id": "6379b2ef-f454-4fa3-ad7f-1abe7f7f6f1c",
   "metadata": {
    "tags": []
   },
   "outputs": [],
   "source": [
    "shap.decision_plot(explainer.expected_value, shap_values[5], test_data)"
   ]
  },
  {
   "cell_type": "code",
   "execution_count": null,
   "id": "4c34b518-1758-4946-a99f-85c51454090e",
   "metadata": {
    "tags": []
   },
   "outputs": [],
   "source": [
    "# Visualize a decision_plot\n",
    "\n",
    "shap.decision_plot(explainer.expected_value, shap_values[0], test_data)"
   ]
  },
  {
   "cell_type": "markdown",
   "id": "d44e9c0d-a8b3-4ec5-abc0-6dd72f9199e4",
   "metadata": {},
   "source": [
    "### Summary Bar Plot\n",
    "\n",
    "The summary bar plot shows the mean absolute SHAP values for each feature across all observations, which is useful for analyzing the global effect of the features."
   ]
  },
  {
   "cell_type": "code",
   "execution_count": null,
   "id": "52137531-4d78-4759-9697-dd4d9fb4c7c4",
   "metadata": {
    "tags": []
   },
   "outputs": [],
   "source": [
    "# Bar for multi-output\n",
    "shap.summary_plot(shap_values, test_data, plot_type=\"bar\")"
   ]
  },
  {
   "cell_type": "code",
   "execution_count": null,
   "id": "93a85796-50f8-4629-8072-82884aa7335c",
   "metadata": {
    "tags": []
   },
   "outputs": [],
   "source": [
    "# Default dot visualization\n",
    "\n",
    "shap.summary_plot(shap_values, test_data)"
   ]
  },
  {
   "cell_type": "markdown",
   "id": "253f2658-961c-48fd-9b0e-216d9b67b38e",
   "metadata": {},
   "source": [
    "### Dependence Plot\n",
    "\n",
    "A dependence plot shows a single feature attribution on the model predictions. For each data point, feature value is on the x-axis and the corresponding SHAP value is on the y-axis. The second feature is chosen by default."
   ]
  },
  {
   "cell_type": "code",
   "execution_count": null,
   "id": "67738bec-ba09-4862-a08f-191a6381385c",
   "metadata": {
    "tags": []
   },
   "outputs": [],
   "source": [
    "shap.dependence_plot(2, shap_values, test_data)"
   ]
  },
  {
   "cell_type": "markdown",
   "id": "4b530120-7061-4090-bc49-219df6f5bc5b",
   "metadata": {},
   "source": [
    "Alternatively, you can set a different second feature for comparison. In this case, texture_mean is set as the second feature."
   ]
  },
  {
   "cell_type": "code",
   "execution_count": null,
   "id": "bcc5f449-4db0-45c9-af9f-57f0234ad247",
   "metadata": {
    "tags": []
   },
   "outputs": [],
   "source": [
    "shap.dependence_plot('radius_worst', shap_values, test_data, interaction_index=\"texture_mean\")"
   ]
  },
  {
   "cell_type": "markdown",
   "id": "621da806-9767-47c1-baf9-1f460f7731b0",
   "metadata": {
    "tags": []
   },
   "source": [
    "Kernel SHAP is model-agnostic. Hence it has wide applicability to interpret predictions for a broad range of ML models. However, Kernel SHAP can be time-consuming and computationally intensive, depending on the size of the dataset. We used the nsamples setting in this example to limit the number of SHAP evaluation for each prediction as an alternative. In contrast, [Amazon SageMaker Clarify](https://aws.amazon.com/sagemaker/clarify/) improves Kernel SHAP runtime significantly and enhances scalability by parallelizing SHAP computation. Refer to [Amazon SageMaker Clarify: Machine Learning Bias Detection and Explainability in the Cloud](https://assets.amazon.science/45/76/30bab4f14ccab96cfe8067ed2b4a/amazon-sagemaker-clarify-machine-learning-bias-detection-and-explainability-in-the-cloud.pdf) for more info on Amazon SageMaker Clarify's implementation of Kernel SHAP."
   ]
  },
  {
   "cell_type": "code",
   "execution_count": null,
   "id": "cbf0b72c-e7db-4368-8704-8edea2c4ef17",
   "metadata": {},
   "outputs": [],
   "source": []
  }
 ],
 "metadata": {
  "instance_type": "ml.g4dn.xlarge",
  "kernelspec": {
   "display_name": "Python 3 (TensorFlow 2.10.0 Python 3.9 CPU Optimized)",
   "language": "python",
   "name": "python3__SAGEMAKER_INTERNAL__arn:aws:sagemaker:us-east-1:081325390199:image/tensorflow-2.10-cpu-py39-ubuntu20.04-sagemaker-v1"
  },
  "language_info": {
   "codemirror_mode": {
    "name": "ipython",
    "version": 3
   },
   "file_extension": ".py",
   "mimetype": "text/x-python",
   "name": "python",
   "nbconvert_exporter": "python",
   "pygments_lexer": "ipython3",
   "version": "3.9.10"
  }
 },
 "nbformat": 4,
 "nbformat_minor": 5
}
