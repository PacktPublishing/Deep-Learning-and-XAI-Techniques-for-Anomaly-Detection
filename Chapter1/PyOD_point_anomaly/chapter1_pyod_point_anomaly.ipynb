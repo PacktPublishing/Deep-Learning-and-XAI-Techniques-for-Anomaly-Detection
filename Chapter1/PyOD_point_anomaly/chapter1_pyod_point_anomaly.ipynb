{
 "cells": [
  {
   "cell_type": "markdown",
   "id": "a18f5538-1053-4224-b042-b0372d20adb9",
   "metadata": {},
   "source": [
    "# Chapter 1 - Understanding Deep Learning Anomaly Detection\n",
    "\n",
    "[PyOD](https://github.com/yzhao062/pyod), is an open-source Python library that provides over 40 outlier detection algorithms, covering from outlier ensembles to neural network-based methods on multivariate data under a unified API. This notebook covers a **point anomaly** example using PyOD and a [diabetes dataset available at Kaggle](https://www.kaggle.com/datasets/mathchi/diabetes-data-set). \n",
    "\n",
    "You can experiment with this example on [Amazon SageMaker Studio Lab](https://aws.amazon.com/sagemaker/studio-lab/), a free ML development environment that provides up to 12 hours of CPU or 4 hours of GPU per user session and 15GiB storage at no cost. Alternatively, you can try this on your preferred Integrated Development Environment (IDE)."
   ]
  },
  {
   "cell_type": "markdown",
   "id": "cd2e0f2c-3c67-4ffe-b7d0-33d4f7bea95d",
   "metadata": {
    "tags": []
   },
   "source": [
    "## Setup\n",
    "\n",
    "Install and load essential libraries"
   ]
  },
  {
   "cell_type": "code",
   "execution_count": 2,
   "id": "cc2c7193-89f4-4aee-b4bc-496074036757",
   "metadata": {
    "tags": []
   },
   "outputs": [
    {
     "name": "stdout",
     "output_type": "stream",
     "text": [
      "Requirement already satisfied: pyod==1.0.7 in /usr/local/lib/python3.10/site-packages (from -r requirements.txt (line 1)) (1.0.7)\n",
      "Requirement already satisfied: numpy in /usr/local/lib/python3.10/site-packages (from -r requirements.txt (line 2)) (1.23.5)\n",
      "Requirement already satisfied: pandas in /usr/local/lib/python3.10/site-packages (from -r requirements.txt (line 3)) (1.5.3)\n",
      "Requirement already satisfied: matplotlib in /usr/local/lib/python3.10/site-packages (from -r requirements.txt (line 4)) (3.6.3)\n",
      "Requirement already satisfied: scikit-learn>=0.20.0 in /usr/local/lib/python3.10/site-packages (from pyod==1.0.7->-r requirements.txt (line 1)) (1.2.0)\n",
      "Requirement already satisfied: statsmodels in /usr/local/lib/python3.10/site-packages (from pyod==1.0.7->-r requirements.txt (line 1)) (0.13.5)\n",
      "Requirement already satisfied: scipy>=1.5.1 in /usr/local/lib/python3.10/site-packages (from pyod==1.0.7->-r requirements.txt (line 1)) (1.10.0)\n",
      "Requirement already satisfied: numba>=0.51 in /usr/local/lib/python3.10/site-packages (from pyod==1.0.7->-r requirements.txt (line 1)) (0.56.4)\n",
      "Requirement already satisfied: joblib in /usr/local/lib/python3.10/site-packages (from pyod==1.0.7->-r requirements.txt (line 1)) (1.2.0)\n",
      "Requirement already satisfied: six in /usr/local/lib/python3.10/site-packages (from pyod==1.0.7->-r requirements.txt (line 1)) (1.16.0)\n",
      "Requirement already satisfied: pytz>=2020.1 in /usr/local/lib/python3.10/site-packages (from pandas->-r requirements.txt (line 3)) (2022.7.1)\n",
      "Requirement already satisfied: python-dateutil>=2.8.1 in /usr/local/lib/python3.10/site-packages (from pandas->-r requirements.txt (line 3)) (2.8.2)\n",
      "Requirement already satisfied: contourpy>=1.0.1 in /usr/local/lib/python3.10/site-packages (from matplotlib->-r requirements.txt (line 4)) (1.0.7)\n",
      "Requirement already satisfied: pillow>=6.2.0 in /usr/local/lib/python3.10/site-packages (from matplotlib->-r requirements.txt (line 4)) (9.4.0)\n",
      "Requirement already satisfied: cycler>=0.10 in /usr/local/lib/python3.10/site-packages (from matplotlib->-r requirements.txt (line 4)) (0.11.0)\n",
      "Requirement already satisfied: fonttools>=4.22.0 in /usr/local/lib/python3.10/site-packages (from matplotlib->-r requirements.txt (line 4)) (4.38.0)\n",
      "Requirement already satisfied: packaging>=20.0 in /usr/local/lib/python3.10/site-packages (from matplotlib->-r requirements.txt (line 4)) (21.3)\n",
      "Requirement already satisfied: pyparsing>=2.2.1 in /usr/local/lib/python3.10/site-packages (from matplotlib->-r requirements.txt (line 4)) (3.0.9)\n",
      "Requirement already satisfied: kiwisolver>=1.0.1 in /usr/local/lib/python3.10/site-packages (from matplotlib->-r requirements.txt (line 4)) (1.4.4)\n",
      "Requirement already satisfied: llvmlite<0.40,>=0.39.0dev0 in /usr/local/lib/python3.10/site-packages (from numba>=0.51->pyod==1.0.7->-r requirements.txt (line 1)) (0.39.1)\n",
      "Requirement already satisfied: setuptools in /usr/local/lib/python3.10/site-packages (from numba>=0.51->pyod==1.0.7->-r requirements.txt (line 1)) (63.2.0)\n",
      "Requirement already satisfied: threadpoolctl>=2.0.0 in /usr/local/lib/python3.10/site-packages (from scikit-learn>=0.20.0->pyod==1.0.7->-r requirements.txt (line 1)) (3.1.0)\n",
      "Requirement already satisfied: patsy>=0.5.2 in /usr/local/lib/python3.10/site-packages (from statsmodels->pyod==1.0.7->-r requirements.txt (line 1)) (0.5.3)\n",
      "\u001b[33mWARNING: Running pip as the 'root' user can result in broken permissions and conflicting behaviour with the system package manager. It is recommended to use a virtual environment instead: https://pip.pypa.io/warnings/venv\u001b[0m\u001b[33m\n",
      "\u001b[0m\n",
      "\u001b[1m[\u001b[0m\u001b[34;49mnotice\u001b[0m\u001b[1;39;49m]\u001b[0m\u001b[39;49m A new release of pip available: \u001b[0m\u001b[31;49m22.2.2\u001b[0m\u001b[39;49m -> \u001b[0m\u001b[32;49m22.3.1\u001b[0m\n",
      "\u001b[1m[\u001b[0m\u001b[34;49mnotice\u001b[0m\u001b[1;39;49m]\u001b[0m\u001b[39;49m To update, run: \u001b[0m\u001b[32;49mpip install --upgrade pip\u001b[0m\n"
     ]
    }
   ],
   "source": [
    "# Install required libraries\n",
    "\n",
    "import sys\n",
    "!{sys.executable} -m pip install -r requirements.txt"
   ]
  },
  {
   "cell_type": "code",
   "execution_count": 3,
   "id": "3c8c7edb-3127-4c9e-9ccb-05a64b36faaf",
   "metadata": {},
   "outputs": [
    {
     "name": "stdout",
     "output_type": "stream",
     "text": [
      "Python version: 3.10.8\n"
     ]
    }
   ],
   "source": [
    "%matplotlib inline\n",
    "\n",
    "import pandas as pd\n",
    "import numpy as np\n",
    "import warnings\n",
    "from pyod.models.knn import KNN\n",
    "from platform import python_version\n",
    "\n",
    "warnings.filterwarnings('ignore')\n",
    "\n",
    "print(f'Python version: {python_version()}')"
   ]
  },
  {
   "cell_type": "markdown",
   "id": "53b1699b-ddaf-4888-bd7e-0d9cc60f24b7",
   "metadata": {},
   "source": [
    "## Load the Dataset\n",
    "\n",
    "The [dataset](https://www.kaggle.com/datasets/mathchi/diabetes-data-set) contains the following features:\n",
    "- Pregnancies: Number of times pregnant\n",
    "- Glucose: Plasma glucose concentration a 2 hours in an oral glucose tolerance test\n",
    "- BloodPressure: Diastolic blood pressure (mm Hg)\n",
    "- SkinThickness: Triceps skin fold thickness (mm)\n",
    "- Insulin: 2-Hour serum insulin (mu U/ml)\n",
    "- BMI: Body mass index (weight in kg/(height in m)^2)\n",
    "- DiabetesPedigreeFunction: Diabetes pedigree function\n",
    "- Age: Age (years)\n",
    "- Outcome: Class variable (0 is not diabetic or 1 is diabetic)"
   ]
  },
  {
   "cell_type": "code",
   "execution_count": 4,
   "id": "21aa0238-0b79-4cca-b444-454f34ce3312",
   "metadata": {
    "tags": []
   },
   "outputs": [
    {
     "data": {
      "text/html": [
       "<div>\n",
       "<style scoped>\n",
       "    .dataframe tbody tr th:only-of-type {\n",
       "        vertical-align: middle;\n",
       "    }\n",
       "\n",
       "    .dataframe tbody tr th {\n",
       "        vertical-align: top;\n",
       "    }\n",
       "\n",
       "    .dataframe thead th {\n",
       "        text-align: right;\n",
       "    }\n",
       "</style>\n",
       "<table border=\"1\" class=\"dataframe\">\n",
       "  <thead>\n",
       "    <tr style=\"text-align: right;\">\n",
       "      <th></th>\n",
       "      <th>Pregnancies</th>\n",
       "      <th>Glucose</th>\n",
       "      <th>BloodPressure</th>\n",
       "      <th>SkinThickness</th>\n",
       "      <th>Insulin</th>\n",
       "      <th>BMI</th>\n",
       "      <th>DiabetesPedigreeFunction</th>\n",
       "      <th>Age</th>\n",
       "      <th>Outcome</th>\n",
       "    </tr>\n",
       "  </thead>\n",
       "  <tbody>\n",
       "    <tr>\n",
       "      <th>0</th>\n",
       "      <td>6</td>\n",
       "      <td>148</td>\n",
       "      <td>72</td>\n",
       "      <td>35</td>\n",
       "      <td>0</td>\n",
       "      <td>33.6</td>\n",
       "      <td>0.627</td>\n",
       "      <td>50</td>\n",
       "      <td>1</td>\n",
       "    </tr>\n",
       "    <tr>\n",
       "      <th>1</th>\n",
       "      <td>1</td>\n",
       "      <td>85</td>\n",
       "      <td>66</td>\n",
       "      <td>29</td>\n",
       "      <td>0</td>\n",
       "      <td>26.6</td>\n",
       "      <td>0.351</td>\n",
       "      <td>31</td>\n",
       "      <td>0</td>\n",
       "    </tr>\n",
       "    <tr>\n",
       "      <th>2</th>\n",
       "      <td>8</td>\n",
       "      <td>183</td>\n",
       "      <td>64</td>\n",
       "      <td>0</td>\n",
       "      <td>0</td>\n",
       "      <td>23.3</td>\n",
       "      <td>0.672</td>\n",
       "      <td>32</td>\n",
       "      <td>1</td>\n",
       "    </tr>\n",
       "    <tr>\n",
       "      <th>3</th>\n",
       "      <td>1</td>\n",
       "      <td>89</td>\n",
       "      <td>66</td>\n",
       "      <td>23</td>\n",
       "      <td>94</td>\n",
       "      <td>28.1</td>\n",
       "      <td>0.167</td>\n",
       "      <td>21</td>\n",
       "      <td>0</td>\n",
       "    </tr>\n",
       "    <tr>\n",
       "      <th>4</th>\n",
       "      <td>0</td>\n",
       "      <td>137</td>\n",
       "      <td>40</td>\n",
       "      <td>35</td>\n",
       "      <td>168</td>\n",
       "      <td>43.1</td>\n",
       "      <td>2.288</td>\n",
       "      <td>33</td>\n",
       "      <td>1</td>\n",
       "    </tr>\n",
       "  </tbody>\n",
       "</table>\n",
       "</div>"
      ],
      "text/plain": [
       "   Pregnancies  Glucose  BloodPressure  SkinThickness  Insulin   BMI  \\\n",
       "0            6      148             72             35        0  33.6   \n",
       "1            1       85             66             29        0  26.6   \n",
       "2            8      183             64              0        0  23.3   \n",
       "3            1       89             66             23       94  28.1   \n",
       "4            0      137             40             35      168  43.1   \n",
       "\n",
       "   DiabetesPedigreeFunction  Age  Outcome  \n",
       "0                     0.627   50        1  \n",
       "1                     0.351   31        0  \n",
       "2                     0.672   32        1  \n",
       "3                     0.167   21        0  \n",
       "4                     2.288   33        1  "
      ]
     },
     "execution_count": 4,
     "metadata": {},
     "output_type": "execute_result"
    }
   ],
   "source": [
    "df = pd.read_csv('diabetes.csv')\n",
    "df.head()"
   ]
  },
  {
   "cell_type": "code",
   "execution_count": 5,
   "id": "bb0fc218-1b2b-4e0d-9068-f94764fa266f",
   "metadata": {
    "tags": []
   },
   "outputs": [
    {
     "data": {
      "text/html": [
       "<div>\n",
       "<style scoped>\n",
       "    .dataframe tbody tr th:only-of-type {\n",
       "        vertical-align: middle;\n",
       "    }\n",
       "\n",
       "    .dataframe tbody tr th {\n",
       "        vertical-align: top;\n",
       "    }\n",
       "\n",
       "    .dataframe thead th {\n",
       "        text-align: right;\n",
       "    }\n",
       "</style>\n",
       "<table border=\"1\" class=\"dataframe\">\n",
       "  <thead>\n",
       "    <tr style=\"text-align: right;\">\n",
       "      <th></th>\n",
       "      <th>Pregnancies</th>\n",
       "      <th>Glucose</th>\n",
       "      <th>BloodPressure</th>\n",
       "      <th>SkinThickness</th>\n",
       "      <th>Insulin</th>\n",
       "      <th>BMI</th>\n",
       "      <th>DiabetesPedigreeFunction</th>\n",
       "      <th>Age</th>\n",
       "      <th>Outcome</th>\n",
       "    </tr>\n",
       "  </thead>\n",
       "  <tbody>\n",
       "    <tr>\n",
       "      <th>count</th>\n",
       "      <td>768.000000</td>\n",
       "      <td>768.000000</td>\n",
       "      <td>768.000000</td>\n",
       "      <td>768.000000</td>\n",
       "      <td>768.000000</td>\n",
       "      <td>768.000000</td>\n",
       "      <td>768.000000</td>\n",
       "      <td>768.000000</td>\n",
       "      <td>768.000000</td>\n",
       "    </tr>\n",
       "    <tr>\n",
       "      <th>mean</th>\n",
       "      <td>3.845052</td>\n",
       "      <td>120.894531</td>\n",
       "      <td>69.105469</td>\n",
       "      <td>20.536458</td>\n",
       "      <td>79.799479</td>\n",
       "      <td>31.992578</td>\n",
       "      <td>0.471876</td>\n",
       "      <td>33.240885</td>\n",
       "      <td>0.348958</td>\n",
       "    </tr>\n",
       "    <tr>\n",
       "      <th>std</th>\n",
       "      <td>3.369578</td>\n",
       "      <td>31.972618</td>\n",
       "      <td>19.355807</td>\n",
       "      <td>15.952218</td>\n",
       "      <td>115.244002</td>\n",
       "      <td>7.884160</td>\n",
       "      <td>0.331329</td>\n",
       "      <td>11.760232</td>\n",
       "      <td>0.476951</td>\n",
       "    </tr>\n",
       "    <tr>\n",
       "      <th>min</th>\n",
       "      <td>0.000000</td>\n",
       "      <td>0.000000</td>\n",
       "      <td>0.000000</td>\n",
       "      <td>0.000000</td>\n",
       "      <td>0.000000</td>\n",
       "      <td>0.000000</td>\n",
       "      <td>0.078000</td>\n",
       "      <td>21.000000</td>\n",
       "      <td>0.000000</td>\n",
       "    </tr>\n",
       "    <tr>\n",
       "      <th>25%</th>\n",
       "      <td>1.000000</td>\n",
       "      <td>99.000000</td>\n",
       "      <td>62.000000</td>\n",
       "      <td>0.000000</td>\n",
       "      <td>0.000000</td>\n",
       "      <td>27.300000</td>\n",
       "      <td>0.243750</td>\n",
       "      <td>24.000000</td>\n",
       "      <td>0.000000</td>\n",
       "    </tr>\n",
       "    <tr>\n",
       "      <th>50%</th>\n",
       "      <td>3.000000</td>\n",
       "      <td>117.000000</td>\n",
       "      <td>72.000000</td>\n",
       "      <td>23.000000</td>\n",
       "      <td>30.500000</td>\n",
       "      <td>32.000000</td>\n",
       "      <td>0.372500</td>\n",
       "      <td>29.000000</td>\n",
       "      <td>0.000000</td>\n",
       "    </tr>\n",
       "    <tr>\n",
       "      <th>75%</th>\n",
       "      <td>6.000000</td>\n",
       "      <td>140.250000</td>\n",
       "      <td>80.000000</td>\n",
       "      <td>32.000000</td>\n",
       "      <td>127.250000</td>\n",
       "      <td>36.600000</td>\n",
       "      <td>0.626250</td>\n",
       "      <td>41.000000</td>\n",
       "      <td>1.000000</td>\n",
       "    </tr>\n",
       "    <tr>\n",
       "      <th>max</th>\n",
       "      <td>17.000000</td>\n",
       "      <td>199.000000</td>\n",
       "      <td>122.000000</td>\n",
       "      <td>99.000000</td>\n",
       "      <td>846.000000</td>\n",
       "      <td>67.100000</td>\n",
       "      <td>2.420000</td>\n",
       "      <td>81.000000</td>\n",
       "      <td>1.000000</td>\n",
       "    </tr>\n",
       "  </tbody>\n",
       "</table>\n",
       "</div>"
      ],
      "text/plain": [
       "       Pregnancies     Glucose  BloodPressure  SkinThickness     Insulin  \\\n",
       "count   768.000000  768.000000     768.000000     768.000000  768.000000   \n",
       "mean      3.845052  120.894531      69.105469      20.536458   79.799479   \n",
       "std       3.369578   31.972618      19.355807      15.952218  115.244002   \n",
       "min       0.000000    0.000000       0.000000       0.000000    0.000000   \n",
       "25%       1.000000   99.000000      62.000000       0.000000    0.000000   \n",
       "50%       3.000000  117.000000      72.000000      23.000000   30.500000   \n",
       "75%       6.000000  140.250000      80.000000      32.000000  127.250000   \n",
       "max      17.000000  199.000000     122.000000      99.000000  846.000000   \n",
       "\n",
       "              BMI  DiabetesPedigreeFunction         Age     Outcome  \n",
       "count  768.000000                768.000000  768.000000  768.000000  \n",
       "mean    31.992578                  0.471876   33.240885    0.348958  \n",
       "std      7.884160                  0.331329   11.760232    0.476951  \n",
       "min      0.000000                  0.078000   21.000000    0.000000  \n",
       "25%     27.300000                  0.243750   24.000000    0.000000  \n",
       "50%     32.000000                  0.372500   29.000000    0.000000  \n",
       "75%     36.600000                  0.626250   41.000000    1.000000  \n",
       "max     67.100000                  2.420000   81.000000    1.000000  "
      ]
     },
     "execution_count": 5,
     "metadata": {},
     "output_type": "execute_result"
    }
   ],
   "source": [
    "# Generate descriptive statistics about the dataset\n",
    "\n",
    "df.describe()"
   ]
  },
  {
   "cell_type": "markdown",
   "id": "ab64b47d-c1ce-4832-8f0d-f97717b3d99c",
   "metadata": {},
   "source": [
    "We will focus on identifying outliers using the Glucose and Insulin features for this example."
   ]
  },
  {
   "cell_type": "code",
   "execution_count": 6,
   "id": "edff6a85-655d-455c-8937-b499c7c31a4b",
   "metadata": {
    "tags": []
   },
   "outputs": [],
   "source": [
    "# Assign model feature and target column to variables\n",
    "\n",
    "X = df['Glucose']\n",
    "Y = df['Insulin']"
   ]
  },
  {
   "cell_type": "code",
   "execution_count": 7,
   "id": "5fac136c-7d2c-4ca0-bac6-db1ea528e363",
   "metadata": {
    "tags": []
   },
   "outputs": [
    {
     "data": {
      "image/png": "[encoded data removed]",
      "text/plain": [
       "<Figure size 640x480 with 1 Axes>"
      ]
     },
     "metadata": {},
     "output_type": "display_data"
    }
   ],
   "source": [
    "# Visualize a scatter plot\n",
    "\n",
    "import matplotlib.pyplot as plt\n",
    "\n",
    "plt.scatter(X, Y)\n",
    "plt.xlabel('Glucose')\n",
    "plt.ylabel('Blood Pressure')\n",
    "plt.show()"
   ]
  },
  {
   "cell_type": "markdown",
   "id": "da108ba5-2276-4e57-bd22-be7e1719023b",
   "metadata": {},
   "source": [
    "## Train a Model\n",
    "\n",
    "We will reshape the data into the desired input format for KNN() model, build a KNN model, and fit it with the target feature. Then, the KNN model is ready to make prediction for outliers."
   ]
  },
  {
   "cell_type": "code",
   "execution_count": 8,
   "id": "4cd3acb5-80bd-4249-a9b4-7feb2411d396",
   "metadata": {
    "tags": []
   },
   "outputs": [],
   "source": [
    "from pyod.models.knn import KNN\n",
    "\n",
    "Y = Y.values.reshape(-1, 1)\n",
    "X = X.values.reshape(-1, 1)\n",
    "clf = KNN()\n",
    "clf.fit(Y)\n",
    "outliers = clf.predict(Y)"
   ]
  },
  {
   "cell_type": "markdown",
   "id": "a285de45-2edc-4f3e-995d-40a944b18bda",
   "metadata": {},
   "source": [
    "## Identify Outliers"
   ]
  },
  {
   "cell_type": "markdown",
   "id": "d6961660-f975-4e37-85bb-2a970b0d417e",
   "metadata": {},
   "source": [
    "The outliers variable contains values for prediction indicating 1 is an outlier and 0 is not an outlier. Let's find the position of identified outliers."
   ]
  },
  {
   "cell_type": "code",
   "execution_count": 9,
   "id": "e3d287f0-0979-46b4-9d8a-cb7b5da8e256",
   "metadata": {
    "tags": []
   },
   "outputs": [
    {
     "data": {
      "text/plain": [
       "(array([  8,  13,  20,  31,  43,  52,  53,  54,  56,  73,  99, 111, 132,\n",
       "        144, 153, 162, 182, 186, 199, 206, 220, 228, 231, 247, 248, 254,\n",
       "        258, 286, 287, 296, 297, 323, 335, 359, 364, 370, 388, 392, 409,\n",
       "        412, 415, 458, 485, 486, 487, 540, 545, 555, 574, 584, 606, 645,\n",
       "        655, 673, 679, 695, 707, 710, 713, 715, 753]),)"
      ]
     },
     "execution_count": 9,
     "metadata": {},
     "output_type": "execute_result"
    }
   ],
   "source": [
    "anomaly = np.where(outliers==1)\n",
    "\n",
    "# List of identified outliers\n",
    "anomaly"
   ]
  },
  {
   "cell_type": "code",
   "execution_count": 10,
   "id": "01dcb7dd-7add-46c7-968d-b5b5c8178cdc",
   "metadata": {
    "tags": []
   },
   "outputs": [
    {
     "data": {
      "text/html": [
       "<div>\n",
       "<style scoped>\n",
       "    .dataframe tbody tr th:only-of-type {\n",
       "        vertical-align: middle;\n",
       "    }\n",
       "\n",
       "    .dataframe tbody tr th {\n",
       "        vertical-align: top;\n",
       "    }\n",
       "\n",
       "    .dataframe thead th {\n",
       "        text-align: right;\n",
       "    }\n",
       "</style>\n",
       "<table border=\"1\" class=\"dataframe\">\n",
       "  <thead>\n",
       "    <tr style=\"text-align: right;\">\n",
       "      <th></th>\n",
       "      <th>Pregnancies</th>\n",
       "      <th>Glucose</th>\n",
       "      <th>BloodPressure</th>\n",
       "      <th>SkinThickness</th>\n",
       "      <th>Insulin</th>\n",
       "      <th>BMI</th>\n",
       "      <th>DiabetesPedigreeFunction</th>\n",
       "      <th>Age</th>\n",
       "      <th>Outcome</th>\n",
       "    </tr>\n",
       "  </thead>\n",
       "  <tbody>\n",
       "    <tr>\n",
       "      <th>8</th>\n",
       "      <td>2</td>\n",
       "      <td>197</td>\n",
       "      <td>70</td>\n",
       "      <td>45</td>\n",
       "      <td>543</td>\n",
       "      <td>30.5</td>\n",
       "      <td>0.158</td>\n",
       "      <td>53</td>\n",
       "      <td>1</td>\n",
       "    </tr>\n",
       "    <tr>\n",
       "      <th>13</th>\n",
       "      <td>1</td>\n",
       "      <td>189</td>\n",
       "      <td>60</td>\n",
       "      <td>23</td>\n",
       "      <td>846</td>\n",
       "      <td>30.1</td>\n",
       "      <td>0.398</td>\n",
       "      <td>59</td>\n",
       "      <td>1</td>\n",
       "    </tr>\n",
       "    <tr>\n",
       "      <th>20</th>\n",
       "      <td>3</td>\n",
       "      <td>126</td>\n",
       "      <td>88</td>\n",
       "      <td>41</td>\n",
       "      <td>235</td>\n",
       "      <td>39.3</td>\n",
       "      <td>0.704</td>\n",
       "      <td>27</td>\n",
       "      <td>0</td>\n",
       "    </tr>\n",
       "    <tr>\n",
       "      <th>31</th>\n",
       "      <td>3</td>\n",
       "      <td>158</td>\n",
       "      <td>76</td>\n",
       "      <td>36</td>\n",
       "      <td>245</td>\n",
       "      <td>31.6</td>\n",
       "      <td>0.851</td>\n",
       "      <td>28</td>\n",
       "      <td>1</td>\n",
       "    </tr>\n",
       "    <tr>\n",
       "      <th>43</th>\n",
       "      <td>9</td>\n",
       "      <td>171</td>\n",
       "      <td>110</td>\n",
       "      <td>24</td>\n",
       "      <td>240</td>\n",
       "      <td>45.4</td>\n",
       "      <td>0.721</td>\n",
       "      <td>54</td>\n",
       "      <td>1</td>\n",
       "    </tr>\n",
       "    <tr>\n",
       "      <th>52</th>\n",
       "      <td>5</td>\n",
       "      <td>88</td>\n",
       "      <td>66</td>\n",
       "      <td>21</td>\n",
       "      <td>23</td>\n",
       "      <td>24.4</td>\n",
       "      <td>0.342</td>\n",
       "      <td>30</td>\n",
       "      <td>0</td>\n",
       "    </tr>\n",
       "    <tr>\n",
       "      <th>53</th>\n",
       "      <td>8</td>\n",
       "      <td>176</td>\n",
       "      <td>90</td>\n",
       "      <td>34</td>\n",
       "      <td>300</td>\n",
       "      <td>33.7</td>\n",
       "      <td>0.467</td>\n",
       "      <td>58</td>\n",
       "      <td>1</td>\n",
       "    </tr>\n",
       "    <tr>\n",
       "      <th>54</th>\n",
       "      <td>7</td>\n",
       "      <td>150</td>\n",
       "      <td>66</td>\n",
       "      <td>42</td>\n",
       "      <td>342</td>\n",
       "      <td>34.7</td>\n",
       "      <td>0.718</td>\n",
       "      <td>42</td>\n",
       "      <td>0</td>\n",
       "    </tr>\n",
       "    <tr>\n",
       "      <th>56</th>\n",
       "      <td>7</td>\n",
       "      <td>187</td>\n",
       "      <td>68</td>\n",
       "      <td>39</td>\n",
       "      <td>304</td>\n",
       "      <td>37.7</td>\n",
       "      <td>0.254</td>\n",
       "      <td>41</td>\n",
       "      <td>1</td>\n",
       "    </tr>\n",
       "    <tr>\n",
       "      <th>73</th>\n",
       "      <td>4</td>\n",
       "      <td>129</td>\n",
       "      <td>86</td>\n",
       "      <td>20</td>\n",
       "      <td>270</td>\n",
       "      <td>35.1</td>\n",
       "      <td>0.231</td>\n",
       "      <td>23</td>\n",
       "      <td>0</td>\n",
       "    </tr>\n",
       "  </tbody>\n",
       "</table>\n",
       "</div>"
      ],
      "text/plain": [
       "    Pregnancies  Glucose  BloodPressure  SkinThickness  Insulin   BMI  \\\n",
       "8             2      197             70             45      543  30.5   \n",
       "13            1      189             60             23      846  30.1   \n",
       "20            3      126             88             41      235  39.3   \n",
       "31            3      158             76             36      245  31.6   \n",
       "43            9      171            110             24      240  45.4   \n",
       "52            5       88             66             21       23  24.4   \n",
       "53            8      176             90             34      300  33.7   \n",
       "54            7      150             66             42      342  34.7   \n",
       "56            7      187             68             39      304  37.7   \n",
       "73            4      129             86             20      270  35.1   \n",
       "\n",
       "    DiabetesPedigreeFunction  Age  Outcome  \n",
       "8                      0.158   53        1  \n",
       "13                     0.398   59        1  \n",
       "20                     0.704   27        0  \n",
       "31                     0.851   28        1  \n",
       "43                     0.721   54        1  \n",
       "52                     0.342   30        0  \n",
       "53                     0.467   58        1  \n",
       "54                     0.718   42        0  \n",
       "56                     0.254   41        1  \n",
       "73                     0.231   23        0  "
      ]
     },
     "execution_count": 10,
     "metadata": {},
     "output_type": "execute_result"
    }
   ],
   "source": [
    "# Preview identified outliers \n",
    "\n",
    "df.iloc[anomaly].head(10)"
   ]
  },
  {
   "cell_type": "markdown",
   "id": "20ecab98-d006-4e9a-8031-526453299b90",
   "metadata": {
    "tags": []
   },
   "source": [
    "## Visualize Outlier Distribution"
   ]
  },
  {
   "cell_type": "code",
   "execution_count": 11,
   "id": "660c48ad-d2c9-4a16-9573-1242862d96ca",
   "metadata": {
    "tags": []
   },
   "outputs": [
    {
     "data": {
      "image/png": "[encoded data removed]",
      "text/plain": [
       "<Figure size 640x480 with 1 Axes>"
      ]
     },
     "metadata": {},
     "output_type": "display_data"
    }
   ],
   "source": [
    "# Visualize outlier distribution\n",
    "\n",
    "Y_outliers = Y[np.where(outliers==1)]\n",
    "X_outliers = X[np.where(outliers==1)]\n",
    "Y_inliers = Y[np.where(outliers==0)]\n",
    "X_inliers = X[np.where(outliers==0)]\n",
    "\n",
    "plt.scatter(X_outliers, Y_outliers, edgecolor='black',color='red', label= 'Outliers')\n",
    "plt.scatter(X_inliers, Y_inliers, edgecolor='black',color='cyan', label= 'Inliers')\n",
    "plt.legend()\n",
    "plt.ylabel('Blood Pressure')\n",
    "plt.xlabel('Glucose')\n",
    "plt.show()"
   ]
  },
  {
   "cell_type": "markdown",
   "id": "324ec9f1-ef35-42f4-bd4e-3f7f5e373704",
   "metadata": {
    "tags": []
   },
   "source": [
    "## Calculate Anomaly Scores\n",
    "\n",
    "PyOD predicts anomaly score for the outliers using the trained model. The larger the anomaly score, the higher probability the instance is an outlier."
   ]
  },
  {
   "cell_type": "code",
   "execution_count": 12,
   "id": "b1ac4dfe-8c92-4d86-85af-edb673ecf68c",
   "metadata": {},
   "outputs": [],
   "source": [
    "# Calculate anomaly scores\n",
    "\n",
    "anomaly_score = clf.decision_function(Y)"
   ]
  },
  {
   "cell_type": "markdown",
   "id": "50d16bc1-ddb4-4343-91cd-3a81034c1ced",
   "metadata": {},
   "source": [
    "Visualize outlier distribution using a histogram. The red vertical line indicates the minimum anomaly score to flag an instance as an outlier."
   ]
  },
  {
   "cell_type": "code",
   "execution_count": 13,
   "id": "6ffebdc5-0115-466e-bc27-8506630957bf",
   "metadata": {
    "tags": []
   },
   "outputs": [
    {
     "data": {
      "image/png": "[encoded data removed]",
      "text/plain": [
       "<Figure size 600x400 with 1 Axes>"
      ]
     },
     "metadata": {},
     "output_type": "display_data"
    }
   ],
   "source": [
    "n_bins = 5\n",
    "\n",
    "min_outlier_anomaly_score = np.floor(np.min(anomaly_score[np.where(outliers==1)])*10)/10\n",
    "\n",
    "plt.figure(figsize=(6, 4))\n",
    "values, bins, bars = plt.hist(anomaly_score, bins=n_bins, edgecolor='white')\n",
    "plt.axvline(min_outlier_anomaly_score, c='r')\n",
    "plt.bar_label(bars, fontsize=12)\n",
    "plt.margins(x=0.01, y=0.1)\n",
    "plt.xlabel('Anomaly Score')\n",
    "plt.ylabel('Number of Instances')\n",
    "plt.show()"
   ]
  },
  {
   "cell_type": "markdown",
   "id": "a079b450-3a65-44d1-b83c-f31d28e91124",
   "metadata": {},
   "source": [
    "## Change Anomaly Threshold\n",
    "\n",
    "You can manually define a threshold for anomaly score."
   ]
  },
  {
   "cell_type": "code",
   "execution_count": 14,
   "id": "6b5b31aa-38e2-48c8-8921-081302c47181",
   "metadata": {
    "tags": []
   },
   "outputs": [
    {
     "data": {
      "text/plain": [
       "(array([13]),)"
      ]
     },
     "execution_count": 14,
     "metadata": {},
     "output_type": "execute_result"
    }
   ],
   "source": [
    "# Set a higher threshold of anomaly score\n",
    "\n",
    "raw_outliers = np.where(anomaly_score >= 250)\n",
    "raw_outliers"
   ]
  },
  {
   "cell_type": "code",
   "execution_count": 15,
   "id": "508297f6-e99b-42c1-8c4c-61c15f11ee64",
   "metadata": {
    "tags": []
   },
   "outputs": [
    {
     "data": {
      "text/html": [
       "<div>\n",
       "<style scoped>\n",
       "    .dataframe tbody tr th:only-of-type {\n",
       "        vertical-align: middle;\n",
       "    }\n",
       "\n",
       "    .dataframe tbody tr th {\n",
       "        vertical-align: top;\n",
       "    }\n",
       "\n",
       "    .dataframe thead th {\n",
       "        text-align: right;\n",
       "    }\n",
       "</style>\n",
       "<table border=\"1\" class=\"dataframe\">\n",
       "  <thead>\n",
       "    <tr style=\"text-align: right;\">\n",
       "      <th></th>\n",
       "      <th>Pregnancies</th>\n",
       "      <th>Glucose</th>\n",
       "      <th>BloodPressure</th>\n",
       "      <th>SkinThickness</th>\n",
       "      <th>Insulin</th>\n",
       "      <th>BMI</th>\n",
       "      <th>DiabetesPedigreeFunction</th>\n",
       "      <th>Age</th>\n",
       "      <th>Outcome</th>\n",
       "    </tr>\n",
       "  </thead>\n",
       "  <tbody>\n",
       "    <tr>\n",
       "      <th>13</th>\n",
       "      <td>1</td>\n",
       "      <td>189</td>\n",
       "      <td>60</td>\n",
       "      <td>23</td>\n",
       "      <td>846</td>\n",
       "      <td>30.1</td>\n",
       "      <td>0.398</td>\n",
       "      <td>59</td>\n",
       "      <td>1</td>\n",
       "    </tr>\n",
       "  </tbody>\n",
       "</table>\n",
       "</div>"
      ],
      "text/plain": [
       "    Pregnancies  Glucose  BloodPressure  SkinThickness  Insulin   BMI  \\\n",
       "13            1      189             60             23      846  30.1   \n",
       "\n",
       "    DiabetesPedigreeFunction  Age  Outcome  \n",
       "13                     0.398   59        1  "
      ]
     },
     "execution_count": 15,
     "metadata": {},
     "output_type": "execute_result"
    }
   ],
   "source": [
    "# View the identified outlier\n",
    "\n",
    "df.iloc[raw_outliers].head(10)"
   ]
  },
  {
   "cell_type": "markdown",
   "id": "f1aaf157-258c-4da2-9d22-df688f0a14c9",
   "metadata": {},
   "source": [
    "Visualize the distribution with a modified anomaly score threshold."
   ]
  },
  {
   "cell_type": "code",
   "execution_count": 16,
   "id": "7e37011f-59cb-4ec3-9214-88c36f7d46c0",
   "metadata": {
    "tags": []
   },
   "outputs": [
    {
     "data": {
      "image/png": "[encoded data removed]",
      "text/plain": [
       "<Figure size 640x480 with 1 Axes>"
      ]
     },
     "metadata": {},
     "output_type": "display_data"
    }
   ],
   "source": [
    "n_bins = 5\n",
    "\n",
    "min_anomaly_score = 50\n",
    "\n",
    "values, bins, bars = plt.hist(anomaly_score, bins=n_bins, edgecolor='white', color='green')\n",
    "plt.axvline(min_anomaly_score, c='r')\n",
    "plt.bar_label(bars, fontsize=12)\n",
    "plt.margins(x=0.01, y=0.1)\n",
    "plt.xlabel('Anomaly Score')\n",
    "plt.ylabel('Number of Instances')\n",
    "plt.show()"
   ]
  },
  {
   "cell_type": "markdown",
   "id": "810ef023-491a-4972-8a72-71a909e30cf7",
   "metadata": {},
   "source": [
    "This concludes a walkthrough of point anomaly detection using PyOD. You can explore other [outlier detection models provided by PyOD](https://pyod.readthedocs.io/en/latest/pyod.models.html#). "
   ]
  },
  {
   "cell_type": "code",
   "execution_count": null,
   "id": "b0544ead-2218-4988-8bad-2397516e2e25",
   "metadata": {},
   "outputs": [],
   "source": []
  }
 ],
 "metadata": {
  "forced_instance_type": "ml.t3.medium",
  "forced_lcc_arn": "",
  "instance_type": "ml.t3.medium",
  "kernelspec": {
   "display_name": "Python 3 (Base Python 3.0)",
   "language": "python",
   "name": "python3__SAGEMAKER_INTERNAL__arn:aws:sagemaker:us-east-1:081325390199:image/sagemaker-base-python-310-v1"
  },
  "language_info": {
   "codemirror_mode": {
    "name": "ipython",
    "version": 3
   },
   "file_extension": ".py",
   "mimetype": "text/x-python",
   "name": "python",
   "nbconvert_exporter": "python",
   "pygments_lexer": "ipython3",
   "version": "3.10.8"
  }
 },
 "nbformat": 4,
 "nbformat_minor": 5
}
